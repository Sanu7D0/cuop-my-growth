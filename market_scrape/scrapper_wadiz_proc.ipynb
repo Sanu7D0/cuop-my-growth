{
 "cells": [
  {
   "cell_type": "code",
   "execution_count": 17,
   "metadata": {},
   "outputs": [],
   "source": [
    "import pandas as pd\n",
    "import numpy as np\n",
    "from datetime import datetime\n",
    "from tqdm.auto import tqdm\n",
    "from IPython.display import display\n",
    "\n",
    "import plotly.graph_objects as go\n",
    "import plotly.express as px"
   ]
  },
  {
   "cell_type": "code",
   "execution_count": 18,
   "metadata": {},
   "outputs": [
    {
     "data": {
      "text/html": [
       "<div>\n",
       "<style scoped>\n",
       "    .dataframe tbody tr th:only-of-type {\n",
       "        vertical-align: middle;\n",
       "    }\n",
       "\n",
       "    .dataframe tbody tr th {\n",
       "        vertical-align: top;\n",
       "    }\n",
       "\n",
       "    .dataframe thead th {\n",
       "        text-align: right;\n",
       "    }\n",
       "</style>\n",
       "<table border=\"1\" class=\"dataframe\">\n",
       "  <thead>\n",
       "    <tr style=\"text-align: right;\">\n",
       "      <th></th>\n",
       "      <th>FundPercentage</th>\n",
       "      <th>FundAmount</th>\n",
       "      <th>FundGoalAmount</th>\n",
       "      <th>TotalFunder</th>\n",
       "      <th>AmountPerFunder</th>\n",
       "    </tr>\n",
       "  </thead>\n",
       "  <tbody>\n",
       "    <tr>\n",
       "      <th>count</th>\n",
       "      <td>55.000000</td>\n",
       "      <td>5.500000e+01</td>\n",
       "      <td>5.500000e+01</td>\n",
       "      <td>55.000000</td>\n",
       "      <td>55.000000</td>\n",
       "    </tr>\n",
       "    <tr>\n",
       "      <th>mean</th>\n",
       "      <td>8917.254545</td>\n",
       "      <td>6.193406e+07</td>\n",
       "      <td>1.012727e+06</td>\n",
       "      <td>795.036364</td>\n",
       "      <td>74571.302295</td>\n",
       "    </tr>\n",
       "    <tr>\n",
       "      <th>std</th>\n",
       "      <td>13910.514621</td>\n",
       "      <td>8.526203e+07</td>\n",
       "      <td>1.466168e+06</td>\n",
       "      <td>733.715026</td>\n",
       "      <td>61910.327998</td>\n",
       "    </tr>\n",
       "    <tr>\n",
       "      <th>min</th>\n",
       "      <td>1283.000000</td>\n",
       "      <td>6.419001e+06</td>\n",
       "      <td>5.000000e+05</td>\n",
       "      <td>67.000000</td>\n",
       "      <td>9261.422638</td>\n",
       "    </tr>\n",
       "    <tr>\n",
       "      <th>25%</th>\n",
       "      <td>1731.500000</td>\n",
       "      <td>1.177650e+07</td>\n",
       "      <td>5.000000e+05</td>\n",
       "      <td>241.500000</td>\n",
       "      <td>33997.868713</td>\n",
       "    </tr>\n",
       "    <tr>\n",
       "      <th>50%</th>\n",
       "      <td>2583.000000</td>\n",
       "      <td>2.324190e+07</td>\n",
       "      <td>5.000000e+05</td>\n",
       "      <td>574.000000</td>\n",
       "      <td>56874.885845</td>\n",
       "    </tr>\n",
       "    <tr>\n",
       "      <th>75%</th>\n",
       "      <td>8579.000000</td>\n",
       "      <td>5.938790e+07</td>\n",
       "      <td>1.000000e+06</td>\n",
       "      <td>985.500000</td>\n",
       "      <td>99537.677643</td>\n",
       "    </tr>\n",
       "    <tr>\n",
       "      <th>max</th>\n",
       "      <td>66619.000000</td>\n",
       "      <td>3.330980e+08</td>\n",
       "      <td>1.000000e+07</td>\n",
       "      <td>3006.000000</td>\n",
       "      <td>338522.455090</td>\n",
       "    </tr>\n",
       "  </tbody>\n",
       "</table>\n",
       "</div>"
      ],
      "text/plain": [
       "       FundPercentage    FundAmount  FundGoalAmount  TotalFunder  \\\n",
       "count       55.000000  5.500000e+01    5.500000e+01    55.000000   \n",
       "mean      8917.254545  6.193406e+07    1.012727e+06   795.036364   \n",
       "std      13910.514621  8.526203e+07    1.466168e+06   733.715026   \n",
       "min       1283.000000  6.419001e+06    5.000000e+05    67.000000   \n",
       "25%       1731.500000  1.177650e+07    5.000000e+05   241.500000   \n",
       "50%       2583.000000  2.324190e+07    5.000000e+05   574.000000   \n",
       "75%       8579.000000  5.938790e+07    1.000000e+06   985.500000   \n",
       "max      66619.000000  3.330980e+08    1.000000e+07  3006.000000   \n",
       "\n",
       "       AmountPerFunder  \n",
       "count        55.000000  \n",
       "mean      74571.302295  \n",
       "std       61910.327998  \n",
       "min        9261.422638  \n",
       "25%       33997.868713  \n",
       "50%       56874.885845  \n",
       "75%       99537.677643  \n",
       "max      338522.455090  "
      ]
     },
     "metadata": {},
     "output_type": "display_data"
    },
    {
     "data": {
      "text/plain": [
       "<AxesSubplot:>"
      ]
     },
     "execution_count": 18,
     "metadata": {},
     "output_type": "execute_result"
    },
    {
     "data": {
      "image/png": "[encoded data removed]",
      "text/plain": [
       "<Figure size 432x288 with 1 Axes>"
      ]
     },
     "metadata": {
      "needs_background": "light"
     },
     "output_type": "display_data"
    }
   ],
   "source": [
    "wadiz_list = pd.read_csv(\"./data/wadiz_list_full.csv\", index_col=0)\n",
    "wadiz_list = wadiz_list[wadiz_list[\"RemainingDay\"] == \"종료\"]\n",
    "wadiz_list[\"FundPercentage\"] = wadiz_list[\"FundPercentage\"].apply(lambda x: int(x.replace(\"%\", \"\"))) # % 제거\n",
    "wadiz_list[\"FundAmount\"] = wadiz_list[\"FundAmount\"].apply(lambda x: x.replace(\"원\", \"\")) # 원 제거\n",
    "wadiz_list[\"FundAmount\"] = wadiz_list[\"FundAmount\"].apply(lambda x: int(x.replace(\",\", \"\"))) # , 제거\n",
    "wadiz_list[\"FundGoalAmount\"] = wadiz_list[\"FundGoalAmount\"].apply(lambda x: x.replace(\"원\", \"\")) # 원 제거\n",
    "wadiz_list[\"FundGoalAmount\"] = wadiz_list[\"FundGoalAmount\"].apply(lambda x: int(x.replace(\",\", \"\"))) # , 제거\n",
    "wadiz_list[\"TotalFunder\"] = wadiz_list[\"TotalFunder\"].apply(lambda x: int(x.replace(\",\", \"\")))\n",
    "wadiz_list[\"AmountPerFunder\"] = wadiz_list[\"FundAmount\"] / wadiz_list[\"TotalFunder\"]\n",
    "wadiz_list.drop(\"FundPeriod\", axis=1, inplace = True)\n",
    "\n",
    "\n",
    "wadiz_list_group = wadiz_list.groupby(by=[\"Category\"]).mean().sort_values(by=[\"FundPercentage\"], ascending=False)\n",
    "category_sorter = list(wadiz_list_group.index)\n",
    "category_sorter_index = dict(zip(category_sorter, range(len(category_sorter))))\n",
    "wadiz_list_group = wadiz_list_group.reset_index()\n",
    "\n",
    "# 그룹 순서에 맞게 정렬\n",
    "wadiz_list[\"CategoryRank\"] = wadiz_list[\"Category\"].map(category_sorter_index)\n",
    "wadiz_list.sort_values([\"CategoryRank\"], ascending=True, inplace=True)\n",
    "wadiz_list.drop(\"CategoryRank\", axis=1, inplace = True)\n",
    "\n",
    "display(wadiz_list[wadiz_list[\"Category\"] == \"출판\"].describe())\n",
    "wadiz_list.loc[wadiz_list[\"Category\"] == \"출판\", \"FundPercentage\"].plot(kind=\"box\")"
   ]
  },
  {
   "cell_type": "markdown",
   "metadata": {},
   "source": [
    "* 출판 분야의 프로젝트 수가 55개로 적은 반면에, 표준편차가 크고 평균이 8917, 중앙값이 2583으로 소수의 매우 큰 값들이 평균에 큰 영향을 주고 있는 것을 확인하였다.\n",
    "* 따라서 75%인 8579까지만 반영하여 다시 평균 차트를 그려보았다."
   ]
  },
  {
   "cell_type": "code",
   "execution_count": 34,
   "metadata": {},
   "outputs": [
    {
     "name": "stderr",
     "output_type": "stream",
     "text": [
      "/Users/CUop/opt/anaconda3/envs/jupy/lib/python3.9/site-packages/requests/__init__.py:109: RequestsDependencyWarning:\n",
      "\n",
      "urllib3 (1.26.9) or chardet (5.0.0)/charset_normalizer (2.0.4) doesn't match a supported version!\n",
      "\n"
     ]
    },
    {
     "data": {
      "application/vnd.plotly.v1+json": {
       "config": {
        "plotlyServerURL": "https://plotly.com"
       },
       "data": [
        {
         "alignmentgroup": "True",
         "hovertemplate": "Category=%{x}<br>FundPercentage=%{y}<extra></extra>",
         "legendgroup": "출판",
         "marker": {
          "color": "#636efa",
          "pattern": {
           "shape": ""
          }
         },
         "name": "출판",
         "offsetgroup": "출판",
         "orientation": "v",
         "showlegend": true,
         "textposition": "auto",
         "type": "bar",
         "x": [
          "출판"
         ],
         "xaxis": "x",
         "y": [
          2598.9268292682927
         ],
         "yaxis": "y"
        },
        {
         "alignmentgroup": "True",
         "hovertemplate": "Category=%{x}<br>FundPercentage=%{y}<extra></extra>",
         "legendgroup": "테크·가전",
         "marker": {
          "color": "#EF553B",
          "pattern": {
           "shape": ""
          }
         },
         "name": "테크·가전",
         "offsetgroup": "테크·가전",
         "orientation": "v",
         "showlegend": true,
         "textposition": "auto",
         "type": "bar",
         "x": [
          "테크·가전"
         ],
         "xaxis": "x",
         "y": [
          5833.94031007752
         ],
         "yaxis": "y"
        },
        {
         "alignmentgroup": "True",
         "hovertemplate": "Category=%{x}<br>FundPercentage=%{y}<extra></extra>",
         "legendgroup": "뷰티",
         "marker": {
          "color": "#00cc96",
          "pattern": {
           "shape": ""
          }
         },
         "name": "뷰티",
         "offsetgroup": "뷰티",
         "orientation": "v",
         "showlegend": true,
         "textposition": "auto",
         "type": "bar",
         "x": [
          "뷰티"
         ],
         "xaxis": "x",
         "y": [
          5426.665325824618
         ],
         "yaxis": "y"
        },
        {
         "alignmentgroup": "True",
         "hovertemplate": "Category=%{x}<br>FundPercentage=%{y}<extra></extra>",
         "legendgroup": "여행·레저",
         "marker": {
          "color": "#ab63fa",
          "pattern": {
           "shape": ""
          }
         },
         "name": "여행·레저",
         "offsetgroup": "여행·레저",
         "orientation": "v",
         "showlegend": true,
         "textposition": "auto",
         "type": "bar",
         "x": [
          "여행·레저"
         ],
         "xaxis": "x",
         "y": [
          5410.039156626506
         ],
         "yaxis": "y"
        },
        {
         "alignmentgroup": "True",
         "hovertemplate": "Category=%{x}<br>FundPercentage=%{y}<extra></extra>",
         "legendgroup": "베이비·키즈",
         "marker": {
          "color": "#FFA15A",
          "pattern": {
           "shape": ""
          }
         },
         "name": "베이비·키즈",
         "offsetgroup": "베이비·키즈",
         "orientation": "v",
         "showlegend": true,
         "textposition": "auto",
         "type": "bar",
         "x": [
          "베이비·키즈"
         ],
         "xaxis": "x",
         "y": [
          5287.462686567164
         ],
         "yaxis": "y"
        },
        {
         "alignmentgroup": "True",
         "hovertemplate": "Category=%{x}<br>FundPercentage=%{y}<extra></extra>",
         "legendgroup": "캐릭터·굿즈",
         "marker": {
          "color": "#19d3f3",
          "pattern": {
           "shape": ""
          }
         },
         "name": "캐릭터·굿즈",
         "offsetgroup": "캐릭터·굿즈",
         "orientation": "v",
         "showlegend": true,
         "textposition": "auto",
         "type": "bar",
         "x": [
          "캐릭터·굿즈"
         ],
         "xaxis": "x",
         "y": [
          5198.821428571428
         ],
         "yaxis": "y"
        },
        {
         "alignmentgroup": "True",
         "hovertemplate": "Category=%{x}<br>FundPercentage=%{y}<extra></extra>",
         "legendgroup": "스포츠·모빌리티",
         "marker": {
          "color": "#FF6692",
          "pattern": {
           "shape": ""
          }
         },
         "name": "스포츠·모빌리티",
         "offsetgroup": "스포츠·모빌리티",
         "orientation": "v",
         "showlegend": true,
         "textposition": "auto",
         "type": "bar",
         "x": [
          "스포츠·모빌리티"
         ],
         "xaxis": "x",
         "y": [
          4716.69806763285
         ],
         "yaxis": "y"
        },
        {
         "alignmentgroup": "True",
         "hovertemplate": "Category=%{x}<br>FundPercentage=%{y}<extra></extra>",
         "legendgroup": "게임·취미",
         "marker": {
          "color": "#B6E880",
          "pattern": {
           "shape": ""
          }
         },
         "name": "게임·취미",
         "offsetgroup": "게임·취미",
         "orientation": "v",
         "showlegend": true,
         "textposition": "auto",
         "type": "bar",
         "x": [
          "게임·취미"
         ],
         "xaxis": "x",
         "y": [
          4517.787037037037
         ],
         "yaxis": "y"
        },
        {
         "alignmentgroup": "True",
         "hovertemplate": "Category=%{x}<br>FundPercentage=%{y}<extra></extra>",
         "legendgroup": "홈·리빙",
         "marker": {
          "color": "#FF97FF",
          "pattern": {
           "shape": ""
          }
         },
         "name": "홈·리빙",
         "offsetgroup": "홈·리빙",
         "orientation": "v",
         "showlegend": true,
         "textposition": "auto",
         "type": "bar",
         "x": [
          "홈·리빙"
         ],
         "xaxis": "x",
         "y": [
          4418.741168478261
         ],
         "yaxis": "y"
        },
        {
         "alignmentgroup": "True",
         "hovertemplate": "Category=%{x}<br>FundPercentage=%{y}<extra></extra>",
         "legendgroup": "패션·잡화",
         "marker": {
          "color": "#FECB52",
          "pattern": {
           "shape": ""
          }
         },
         "name": "패션·잡화",
         "offsetgroup": "패션·잡화",
         "orientation": "v",
         "showlegend": true,
         "textposition": "auto",
         "type": "bar",
         "x": [
          "패션·잡화"
         ],
         "xaxis": "x",
         "y": [
          4392.923205342237
         ],
         "yaxis": "y"
        },
        {
         "alignmentgroup": "True",
         "hovertemplate": "Category=%{x}<br>FundPercentage=%{y}<extra></extra>",
         "legendgroup": "소셜·캠페인",
         "marker": {
          "color": "#636efa",
          "pattern": {
           "shape": ""
          }
         },
         "name": "소셜·캠페인",
         "offsetgroup": "소셜·캠페인",
         "orientation": "v",
         "showlegend": true,
         "textposition": "auto",
         "type": "bar",
         "x": [
          "소셜·캠페인"
         ],
         "xaxis": "x",
         "y": [
          4264.096774193548
         ],
         "yaxis": "y"
        },
        {
         "alignmentgroup": "True",
         "hovertemplate": "Category=%{x}<br>FundPercentage=%{y}<extra></extra>",
         "legendgroup": "컬쳐·아티스트",
         "marker": {
          "color": "#EF553B",
          "pattern": {
           "shape": ""
          }
         },
         "name": "컬쳐·아티스트",
         "offsetgroup": "컬쳐·아티스트",
         "orientation": "v",
         "showlegend": true,
         "textposition": "auto",
         "type": "bar",
         "x": [
          "컬쳐·아티스트"
         ],
         "xaxis": "x",
         "y": [
          4019.4505494505493
         ],
         "yaxis": "y"
        },
        {
         "alignmentgroup": "True",
         "hovertemplate": "Category=%{x}<br>FundPercentage=%{y}<extra></extra>",
         "legendgroup": "반려동물",
         "marker": {
          "color": "#00cc96",
          "pattern": {
           "shape": ""
          }
         },
         "name": "반려동물",
         "offsetgroup": "반려동물",
         "orientation": "v",
         "showlegend": true,
         "textposition": "auto",
         "type": "bar",
         "x": [
          "반려동물"
         ],
         "xaxis": "x",
         "y": [
          3589.024830699774
         ],
         "yaxis": "y"
        },
        {
         "alignmentgroup": "True",
         "hovertemplate": "Category=%{x}<br>FundPercentage=%{y}<extra></extra>",
         "legendgroup": "푸드",
         "marker": {
          "color": "#ab63fa",
          "pattern": {
           "shape": ""
          }
         },
         "name": "푸드",
         "offsetgroup": "푸드",
         "orientation": "v",
         "showlegend": true,
         "textposition": "auto",
         "type": "bar",
         "x": [
          "푸드"
         ],
         "xaxis": "x",
         "y": [
          3402.9164156626507
         ],
         "yaxis": "y"
        },
        {
         "alignmentgroup": "True",
         "hovertemplate": "Category=%{x}<br>FundPercentage=%{y}<extra></extra>",
         "legendgroup": "클래스·컨설팅",
         "marker": {
          "color": "#FFA15A",
          "pattern": {
           "shape": ""
          }
         },
         "name": "클래스·컨설팅",
         "offsetgroup": "클래스·컨설팅",
         "orientation": "v",
         "showlegend": true,
         "textposition": "auto",
         "type": "bar",
         "x": [
          "클래스·컨설팅"
         ],
         "xaxis": "x",
         "y": [
          3268.2127659574467
         ],
         "yaxis": "y"
        }
       ],
       "layout": {
        "barmode": "relative",
        "legend": {
         "title": {
          "text": "Category"
         },
         "tracegroupgap": 0
        },
        "showlegend": false,
        "template": {
         "data": {
          "bar": [
           {
            "error_x": {
             "color": "#2a3f5f"
            },
            "error_y": {
             "color": "#2a3f5f"
            },
            "marker": {
             "line": {
              "color": "#E5ECF6",
              "width": 0.5
             },
             "pattern": {
              "fillmode": "overlay",
              "size": 10,
              "solidity": 0.2
             }
            },
            "type": "bar"
           }
          ],
          "barpolar": [
           {
            "marker": {
             "line": {
              "color": "#E5ECF6",
              "width": 0.5
             },
             "pattern": {
              "fillmode": "overlay",
              "size": 10,
              "solidity": 0.2
             }
            },
            "type": "barpolar"
           }
          ],
          "carpet": [
           {
            "aaxis": {
             "endlinecolor": "#2a3f5f",
             "gridcolor": "white",
             "linecolor": "white",
             "minorgridcolor": "white",
             "startlinecolor": "#2a3f5f"
            },
            "baxis": {
             "endlinecolor": "#2a3f5f",
             "gridcolor": "white",
             "linecolor": "white",
             "minorgridcolor": "white",
             "startlinecolor": "#2a3f5f"
            },
            "type": "carpet"
           }
          ],
          "choropleth": [
           {
            "colorbar": {
             "outlinewidth": 0,
             "ticks": ""
            },
            "type": "choropleth"
           }
          ],
          "contour": [
           {
            "colorbar": {
             "outlinewidth": 0,
             "ticks": ""
            },
            "colorscale": [
             [
              0,
              "#0d0887"
             ],
             [
              0.1111111111111111,
              "#46039f"
             ],
             [
              0.2222222222222222,
              "#7201a8"
             ],
             [
              0.3333333333333333,
              "#9c179e"
             ],
             [
              0.4444444444444444,
              "#bd3786"
             ],
             [
              0.5555555555555556,
              "#d8576b"
             ],
             [
              0.6666666666666666,
              "#ed7953"
             ],
             [
              0.7777777777777778,
              "#fb9f3a"
             ],
             [
              0.8888888888888888,
              "#fdca26"
             ],
             [
              1,
              "#f0f921"
             ]
            ],
            "type": "contour"
           }
          ],
          "contourcarpet": [
           {
            "colorbar": {
             "outlinewidth": 0,
             "ticks": ""
            },
            "type": "contourcarpet"
           }
          ],
          "heatmap": [
           {
            "colorbar": {
             "outlinewidth": 0,
             "ticks": ""
            },
            "colorscale": [
             [
              0,
              "#0d0887"
             ],
             [
              0.1111111111111111,
              "#46039f"
             ],
             [
              0.2222222222222222,
              "#7201a8"
             ],
             [
              0.3333333333333333,
              "#9c179e"
             ],
             [
              0.4444444444444444,
              "#bd3786"
             ],
             [
              0.5555555555555556,
              "#d8576b"
             ],
             [
              0.6666666666666666,
              "#ed7953"
             ],
             [
              0.7777777777777778,
              "#fb9f3a"
             ],
             [
              0.8888888888888888,
              "#fdca26"
             ],
             [
              1,
              "#f0f921"
             ]
            ],
            "type": "heatmap"
           }
          ],
          "heatmapgl": [
           {
            "colorbar": {
             "outlinewidth": 0,
             "ticks": ""
            },
            "colorscale": [
             [
              0,
              "#0d0887"
             ],
             [
              0.1111111111111111,
              "#46039f"
             ],
             [
              0.2222222222222222,
              "#7201a8"
             ],
             [
              0.3333333333333333,
              "#9c179e"
             ],
             [
              0.4444444444444444,
              "#bd3786"
             ],
             [
              0.5555555555555556,
              "#d8576b"
             ],
             [
              0.6666666666666666,
              "#ed7953"
             ],
             [
              0.7777777777777778,
              "#fb9f3a"
             ],
             [
              0.8888888888888888,
              "#fdca26"
             ],
             [
              1,
              "#f0f921"
             ]
            ],
            "type": "heatmapgl"
           }
          ],
          "histogram": [
           {
            "marker": {
             "pattern": {
              "fillmode": "overlay",
              "size": 10,
              "solidity": 0.2
             }
            },
            "type": "histogram"
           }
          ],
          "histogram2d": [
           {
            "colorbar": {
             "outlinewidth": 0,
             "ticks": ""
            },
            "colorscale": [
             [
              0,
              "#0d0887"
             ],
             [
              0.1111111111111111,
              "#46039f"
             ],
             [
              0.2222222222222222,
              "#7201a8"
             ],
             [
              0.3333333333333333,
              "#9c179e"
             ],
             [
              0.4444444444444444,
              "#bd3786"
             ],
             [
              0.5555555555555556,
              "#d8576b"
             ],
             [
              0.6666666666666666,
              "#ed7953"
             ],
             [
              0.7777777777777778,
              "#fb9f3a"
             ],
             [
              0.8888888888888888,
              "#fdca26"
             ],
             [
              1,
              "#f0f921"
             ]
            ],
            "type": "histogram2d"
           }
          ],
          "histogram2dcontour": [
           {
            "colorbar": {
             "outlinewidth": 0,
             "ticks": ""
            },
            "colorscale": [
             [
              0,
              "#0d0887"
             ],
             [
              0.1111111111111111,
              "#46039f"
             ],
             [
              0.2222222222222222,
              "#7201a8"
             ],
             [
              0.3333333333333333,
              "#9c179e"
             ],
             [
              0.4444444444444444,
              "#bd3786"
             ],
             [
              0.5555555555555556,
              "#d8576b"
             ],
             [
              0.6666666666666666,
              "#ed7953"
             ],
             [
              0.7777777777777778,
              "#fb9f3a"
             ],
             [
              0.8888888888888888,
              "#fdca26"
             ],
             [
              1,
              "#f0f921"
             ]
            ],
            "type": "histogram2dcontour"
           }
          ],
          "mesh3d": [
           {
            "colorbar": {
             "outlinewidth": 0,
             "ticks": ""
            },
            "type": "mesh3d"
           }
          ],
          "parcoords": [
           {
            "line": {
             "colorbar": {
              "outlinewidth": 0,
              "ticks": ""
             }
            },
            "type": "parcoords"
           }
          ],
          "pie": [
           {
            "automargin": true,
            "type": "pie"
           }
          ],
          "scatter": [
           {
            "marker": {
             "colorbar": {
              "outlinewidth": 0,
              "ticks": ""
             }
            },
            "type": "scatter"
           }
          ],
          "scatter3d": [
           {
            "line": {
             "colorbar": {
              "outlinewidth": 0,
              "ticks": ""
             }
            },
            "marker": {
             "colorbar": {
              "outlinewidth": 0,
              "ticks": ""
             }
            },
            "type": "scatter3d"
           }
          ],
          "scattercarpet": [
           {
            "marker": {
             "colorbar": {
              "outlinewidth": 0,
              "ticks": ""
             }
            },
            "type": "scattercarpet"
           }
          ],
          "scattergeo": [
           {
            "marker": {
             "colorbar": {
              "outlinewidth": 0,
              "ticks": ""
             }
            },
            "type": "scattergeo"
           }
          ],
          "scattergl": [
           {
            "marker": {
             "colorbar": {
              "outlinewidth": 0,
              "ticks": ""
             }
            },
            "type": "scattergl"
           }
          ],
          "scattermapbox": [
           {
            "marker": {
             "colorbar": {
              "outlinewidth": 0,
              "ticks": ""
             }
            },
            "type": "scattermapbox"
           }
          ],
          "scatterpolar": [
           {
            "marker": {
             "colorbar": {
              "outlinewidth": 0,
              "ticks": ""
             }
            },
            "type": "scatterpolar"
           }
          ],
          "scatterpolargl": [
           {
            "marker": {
             "colorbar": {
              "outlinewidth": 0,
              "ticks": ""
             }
            },
            "type": "scatterpolargl"
           }
          ],
          "scatterternary": [
           {
            "marker": {
             "colorbar": {
              "outlinewidth": 0,
              "ticks": ""
             }
            },
            "type": "scatterternary"
           }
          ],
          "surface": [
           {
            "colorbar": {
             "outlinewidth": 0,
             "ticks": ""
            },
            "colorscale": [
             [
              0,
              "#0d0887"
             ],
             [
              0.1111111111111111,
              "#46039f"
             ],
             [
              0.2222222222222222,
              "#7201a8"
             ],
             [
              0.3333333333333333,
              "#9c179e"
             ],
             [
              0.4444444444444444,
              "#bd3786"
             ],
             [
              0.5555555555555556,
              "#d8576b"
             ],
             [
              0.6666666666666666,
              "#ed7953"
             ],
             [
              0.7777777777777778,
              "#fb9f3a"
             ],
             [
              0.8888888888888888,
              "#fdca26"
             ],
             [
              1,
              "#f0f921"
             ]
            ],
            "type": "surface"
           }
          ],
          "table": [
           {
            "cells": {
             "fill": {
              "color": "#EBF0F8"
             },
             "line": {
              "color": "white"
             }
            },
            "header": {
             "fill": {
              "color": "#C8D4E3"
             },
             "line": {
              "color": "white"
             }
            },
            "type": "table"
           }
          ]
         },
         "layout": {
          "annotationdefaults": {
           "arrowcolor": "#2a3f5f",
           "arrowhead": 0,
           "arrowwidth": 1
          },
          "autotypenumbers": "strict",
          "coloraxis": {
           "colorbar": {
            "outlinewidth": 0,
            "ticks": ""
           }
          },
          "colorscale": {
           "diverging": [
            [
             0,
             "#8e0152"
            ],
            [
             0.1,
             "#c51b7d"
            ],
            [
             0.2,
             "#de77ae"
            ],
            [
             0.3,
             "#f1b6da"
            ],
            [
             0.4,
             "#fde0ef"
            ],
            [
             0.5,
             "#f7f7f7"
            ],
            [
             0.6,
             "#e6f5d0"
            ],
            [
             0.7,
             "#b8e186"
            ],
            [
             0.8,
             "#7fbc41"
            ],
            [
             0.9,
             "#4d9221"
            ],
            [
             1,
             "#276419"
            ]
           ],
           "sequential": [
            [
             0,
             "#0d0887"
            ],
            [
             0.1111111111111111,
             "#46039f"
            ],
            [
             0.2222222222222222,
             "#7201a8"
            ],
            [
             0.3333333333333333,
             "#9c179e"
            ],
            [
             0.4444444444444444,
             "#bd3786"
            ],
            [
             0.5555555555555556,
             "#d8576b"
            ],
            [
             0.6666666666666666,
             "#ed7953"
            ],
            [
             0.7777777777777778,
             "#fb9f3a"
            ],
            [
             0.8888888888888888,
             "#fdca26"
            ],
            [
             1,
             "#f0f921"
            ]
           ],
           "sequentialminus": [
            [
             0,
             "#0d0887"
            ],
            [
             0.1111111111111111,
             "#46039f"
            ],
            [
             0.2222222222222222,
             "#7201a8"
            ],
            [
             0.3333333333333333,
             "#9c179e"
            ],
            [
             0.4444444444444444,
             "#bd3786"
            ],
            [
             0.5555555555555556,
             "#d8576b"
            ],
            [
             0.6666666666666666,
             "#ed7953"
            ],
            [
             0.7777777777777778,
             "#fb9f3a"
            ],
            [
             0.8888888888888888,
             "#fdca26"
            ],
            [
             1,
             "#f0f921"
            ]
           ]
          },
          "colorway": [
           "#636efa",
           "#EF553B",
           "#00cc96",
           "#ab63fa",
           "#FFA15A",
           "#19d3f3",
           "#FF6692",
           "#B6E880",
           "#FF97FF",
           "#FECB52"
          ],
          "font": {
           "color": "#2a3f5f"
          },
          "geo": {
           "bgcolor": "white",
           "lakecolor": "white",
           "landcolor": "#E5ECF6",
           "showlakes": true,
           "showland": true,
           "subunitcolor": "white"
          },
          "hoverlabel": {
           "align": "left"
          },
          "hovermode": "closest",
          "mapbox": {
           "style": "light"
          },
          "paper_bgcolor": "white",
          "plot_bgcolor": "#E5ECF6",
          "polar": {
           "angularaxis": {
            "gridcolor": "white",
            "linecolor": "white",
            "ticks": ""
           },
           "bgcolor": "#E5ECF6",
           "radialaxis": {
            "gridcolor": "white",
            "linecolor": "white",
            "ticks": ""
           }
          },
          "scene": {
           "xaxis": {
            "backgroundcolor": "#E5ECF6",
            "gridcolor": "white",
            "gridwidth": 2,
            "linecolor": "white",
            "showbackground": true,
            "ticks": "",
            "zerolinecolor": "white"
           },
           "yaxis": {
            "backgroundcolor": "#E5ECF6",
            "gridcolor": "white",
            "gridwidth": 2,
            "linecolor": "white",
            "showbackground": true,
            "ticks": "",
            "zerolinecolor": "white"
           },
           "zaxis": {
            "backgroundcolor": "#E5ECF6",
            "gridcolor": "white",
            "gridwidth": 2,
            "linecolor": "white",
            "showbackground": true,
            "ticks": "",
            "zerolinecolor": "white"
           }
          },
          "shapedefaults": {
           "line": {
            "color": "#2a3f5f"
           }
          },
          "ternary": {
           "aaxis": {
            "gridcolor": "white",
            "linecolor": "white",
            "ticks": ""
           },
           "baxis": {
            "gridcolor": "white",
            "linecolor": "white",
            "ticks": ""
           },
           "bgcolor": "#E5ECF6",
           "caxis": {
            "gridcolor": "white",
            "linecolor": "white",
            "ticks": ""
           }
          },
          "title": {
           "x": 0.05
          },
          "xaxis": {
           "automargin": true,
           "gridcolor": "white",
           "linecolor": "white",
           "ticks": "",
           "title": {
            "standoff": 15
           },
           "zerolinecolor": "white",
           "zerolinewidth": 2
          },
          "yaxis": {
           "automargin": true,
           "gridcolor": "white",
           "linecolor": "white",
           "ticks": "",
           "title": {
            "standoff": 15
           },
           "zerolinecolor": "white",
           "zerolinewidth": 2
          }
         }
        },
        "title": {
         "text": "펀딩 달성률 평균"
        },
        "xaxis": {
         "anchor": "y",
         "categoryarray": [
          "출판",
          "테크·가전",
          "뷰티",
          "여행·레저",
          "베이비·키즈",
          "캐릭터·굿즈",
          "스포츠·모빌리티",
          "게임·취미",
          "홈·리빙",
          "패션·잡화",
          "소셜·캠페인",
          "컬쳐·아티스트",
          "반려동물",
          "푸드",
          "클래스·컨설팅"
         ],
         "categoryorder": "array",
         "domain": [
          0,
          1
         ],
         "title": {
          "text": "Category"
         }
        },
        "yaxis": {
         "anchor": "x",
         "domain": [
          0,
          1
         ],
         "title": {
          "text": "펀딩 달성률 (%)"
         }
        }
       }
      }
     },
     "metadata": {},
     "output_type": "display_data"
    }
   ],
   "source": [
    "df_group = wadiz_list[\n",
    "    ((wadiz_list[\"Category\"] == \"출판\") & (wadiz_list[\"FundPercentage\"] <= 8579))\n",
    "    | (wadiz_list[\"Category\"] != \"출판\")\n",
    "].groupby(by=[\"Category\"]).mean().reindex(category_sorter).reset_index()\n",
    "\n",
    "fig = px.bar(\n",
    "    df_group, x=\"Category\", y=\"FundPercentage\", color=\"Category\", title=\"펀딩 달성률 평균\"\n",
    ")\n",
    "fig.update_layout(showlegend=False, yaxis_title=\"펀딩 달성률 (%)\")\n",
    "fig.show()\n"
   ]
  },
  {
   "cell_type": "markdown",
   "metadata": {},
   "source": [
    "출판 분야만 차별한 것 같다... 다른 분야들도 75%까지 필터링 해보자!"
   ]
  },
  {
   "cell_type": "code",
   "execution_count": 52,
   "metadata": {},
   "outputs": [
    {
     "data": {
      "text/html": [
       "<div>\n",
       "<style scoped>\n",
       "    .dataframe tbody tr th:only-of-type {\n",
       "        vertical-align: middle;\n",
       "    }\n",
       "\n",
       "    .dataframe tbody tr th {\n",
       "        vertical-align: top;\n",
       "    }\n",
       "\n",
       "    .dataframe thead th {\n",
       "        text-align: right;\n",
       "    }\n",
       "</style>\n",
       "<table border=\"1\" class=\"dataframe\">\n",
       "  <thead>\n",
       "    <tr style=\"text-align: right;\">\n",
       "      <th></th>\n",
       "      <th>FundPercentage</th>\n",
       "      <th>FundAmount</th>\n",
       "      <th>FundGoalAmount</th>\n",
       "      <th>TotalFunder</th>\n",
       "      <th>AmountPerFunder</th>\n",
       "      <th>Count</th>\n",
       "    </tr>\n",
       "  </thead>\n",
       "  <tbody>\n",
       "    <tr>\n",
       "      <th>count</th>\n",
       "      <td>7041.000000</td>\n",
       "      <td>7.041000e+03</td>\n",
       "      <td>7.041000e+03</td>\n",
       "      <td>7041.000000</td>\n",
       "      <td>7.041000e+03</td>\n",
       "      <td>7041.0</td>\n",
       "    </tr>\n",
       "    <tr>\n",
       "      <th>mean</th>\n",
       "      <td>2472.517256</td>\n",
       "      <td>2.723314e+07</td>\n",
       "      <td>1.105667e+06</td>\n",
       "      <td>372.393268</td>\n",
       "      <td>1.049383e+05</td>\n",
       "      <td>1.0</td>\n",
       "    </tr>\n",
       "    <tr>\n",
       "      <th>std</th>\n",
       "      <td>1022.290301</td>\n",
       "      <td>4.958118e+07</td>\n",
       "      <td>2.161652e+06</td>\n",
       "      <td>452.113178</td>\n",
       "      <td>1.539123e+05</td>\n",
       "      <td>0.0</td>\n",
       "    </tr>\n",
       "    <tr>\n",
       "      <th>min</th>\n",
       "      <td>216.000000</td>\n",
       "      <td>1.080120e+06</td>\n",
       "      <td>3.000000e+05</td>\n",
       "      <td>7.000000</td>\n",
       "      <td>9.042693e+03</td>\n",
       "      <td>1.0</td>\n",
       "    </tr>\n",
       "    <tr>\n",
       "      <th>25%</th>\n",
       "      <td>1641.000000</td>\n",
       "      <td>1.103470e+07</td>\n",
       "      <td>5.000000e+05</td>\n",
       "      <td>147.000000</td>\n",
       "      <td>4.333031e+04</td>\n",
       "      <td>1.0</td>\n",
       "    </tr>\n",
       "    <tr>\n",
       "      <th>50%</th>\n",
       "      <td>2187.000000</td>\n",
       "      <td>1.657700e+07</td>\n",
       "      <td>1.000000e+06</td>\n",
       "      <td>251.000000</td>\n",
       "      <td>6.563143e+04</td>\n",
       "      <td>1.0</td>\n",
       "    </tr>\n",
       "    <tr>\n",
       "      <th>75%</th>\n",
       "      <td>3065.000000</td>\n",
       "      <td>2.729690e+07</td>\n",
       "      <td>1.000000e+06</td>\n",
       "      <td>443.000000</td>\n",
       "      <td>1.134959e+05</td>\n",
       "      <td>1.0</td>\n",
       "    </tr>\n",
       "    <tr>\n",
       "      <th>max</th>\n",
       "      <td>8147.000000</td>\n",
       "      <td>1.839845e+09</td>\n",
       "      <td>1.000000e+08</td>\n",
       "      <td>10740.000000</td>\n",
       "      <td>6.862955e+06</td>\n",
       "      <td>1.0</td>\n",
       "    </tr>\n",
       "  </tbody>\n",
       "</table>\n",
       "</div>"
      ],
      "text/plain": [
       "       FundPercentage    FundAmount  FundGoalAmount   TotalFunder  \\\n",
       "count     7041.000000  7.041000e+03    7.041000e+03   7041.000000   \n",
       "mean      2472.517256  2.723314e+07    1.105667e+06    372.393268   \n",
       "std       1022.290301  4.958118e+07    2.161652e+06    452.113178   \n",
       "min        216.000000  1.080120e+06    3.000000e+05      7.000000   \n",
       "25%       1641.000000  1.103470e+07    5.000000e+05    147.000000   \n",
       "50%       2187.000000  1.657700e+07    1.000000e+06    251.000000   \n",
       "75%       3065.000000  2.729690e+07    1.000000e+06    443.000000   \n",
       "max       8147.000000  1.839845e+09    1.000000e+08  10740.000000   \n",
       "\n",
       "       AmountPerFunder   Count  \n",
       "count     7.041000e+03  7041.0  \n",
       "mean      1.049383e+05     1.0  \n",
       "std       1.539123e+05     0.0  \n",
       "min       9.042693e+03     1.0  \n",
       "25%       4.333031e+04     1.0  \n",
       "50%       6.563143e+04     1.0  \n",
       "75%       1.134959e+05     1.0  \n",
       "max       6.862955e+06     1.0  "
      ]
     },
     "metadata": {},
     "output_type": "display_data"
    },
    {
     "data": {
      "application/vnd.plotly.v1+json": {
       "config": {
        "plotlyServerURL": "https://plotly.com"
       },
       "data": [
        {
         "alignmentgroup": "True",
         "hovertemplate": "Category=%{x}<br>FundPercentage=%{y}<extra></extra>",
         "legendgroup": "출판",
         "marker": {
          "color": "#636efa",
          "pattern": {
           "shape": ""
          }
         },
         "name": "출판",
         "offsetgroup": "출판",
         "orientation": "v",
         "showlegend": true,
         "textposition": "auto",
         "type": "bar",
         "x": [
          "출판"
         ],
         "xaxis": "x",
         "y": [
          2598.9268292682927
         ],
         "yaxis": "y"
        },
        {
         "alignmentgroup": "True",
         "hovertemplate": "Category=%{x}<br>FundPercentage=%{y}<extra></extra>",
         "legendgroup": "테크·가전",
         "marker": {
          "color": "#EF553B",
          "pattern": {
           "shape": ""
          }
         },
         "name": "테크·가전",
         "offsetgroup": "테크·가전",
         "orientation": "v",
         "showlegend": true,
         "textposition": "auto",
         "type": "bar",
         "x": [
          "테크·가전"
         ],
         "xaxis": "x",
         "y": [
          2943.8169596690796
         ],
         "yaxis": "y"
        },
        {
         "alignmentgroup": "True",
         "hovertemplate": "Category=%{x}<br>FundPercentage=%{y}<extra></extra>",
         "legendgroup": "뷰티",
         "marker": {
          "color": "#00cc96",
          "pattern": {
           "shape": ""
          }
         },
         "name": "뷰티",
         "offsetgroup": "뷰티",
         "orientation": "v",
         "showlegend": true,
         "textposition": "auto",
         "type": "bar",
         "x": [
          "뷰티"
         ],
         "xaxis": "x",
         "y": [
          2532.1137339055795
         ],
         "yaxis": "y"
        },
        {
         "alignmentgroup": "True",
         "hovertemplate": "Category=%{x}<br>FundPercentage=%{y}<extra></extra>",
         "legendgroup": "여행·레저",
         "marker": {
          "color": "#ab63fa",
          "pattern": {
           "shape": ""
          }
         },
         "name": "여행·레저",
         "offsetgroup": "여행·레저",
         "orientation": "v",
         "showlegend": true,
         "textposition": "auto",
         "type": "bar",
         "x": [
          "여행·레저"
         ],
         "xaxis": "x",
         "y": [
          2903.1847389558234
         ],
         "yaxis": "y"
        },
        {
         "alignmentgroup": "True",
         "hovertemplate": "Category=%{x}<br>FundPercentage=%{y}<extra></extra>",
         "legendgroup": "베이비·키즈",
         "marker": {
          "color": "#FFA15A",
          "pattern": {
           "shape": ""
          }
         },
         "name": "베이비·키즈",
         "offsetgroup": "베이비·키즈",
         "orientation": "v",
         "showlegend": true,
         "textposition": "auto",
         "type": "bar",
         "x": [
          "베이비·키즈"
         ],
         "xaxis": "x",
         "y": [
          2366.38
         ],
         "yaxis": "y"
        },
        {
         "alignmentgroup": "True",
         "hovertemplate": "Category=%{x}<br>FundPercentage=%{y}<extra></extra>",
         "legendgroup": "캐릭터·굿즈",
         "marker": {
          "color": "#19d3f3",
          "pattern": {
           "shape": ""
          }
         },
         "name": "캐릭터·굿즈",
         "offsetgroup": "캐릭터·굿즈",
         "orientation": "v",
         "showlegend": true,
         "textposition": "auto",
         "type": "bar",
         "x": [
          "캐릭터·굿즈"
         ],
         "xaxis": "x",
         "y": [
          2907.2380952380954
         ],
         "yaxis": "y"
        },
        {
         "alignmentgroup": "True",
         "hovertemplate": "Category=%{x}<br>FundPercentage=%{y}<extra></extra>",
         "legendgroup": "스포츠·모빌리티",
         "marker": {
          "color": "#FF6692",
          "pattern": {
           "shape": ""
          }
         },
         "name": "스포츠·모빌리티",
         "offsetgroup": "스포츠·모빌리티",
         "orientation": "v",
         "showlegend": true,
         "textposition": "auto",
         "type": "bar",
         "x": [
          "스포츠·모빌리티"
         ],
         "xaxis": "x",
         "y": [
          2621.5612903225806
         ],
         "yaxis": "y"
        },
        {
         "alignmentgroup": "True",
         "hovertemplate": "Category=%{x}<br>FundPercentage=%{y}<extra></extra>",
         "legendgroup": "게임·취미",
         "marker": {
          "color": "#B6E880",
          "pattern": {
           "shape": ""
          }
         },
         "name": "게임·취미",
         "offsetgroup": "게임·취미",
         "orientation": "v",
         "showlegend": true,
         "textposition": "auto",
         "type": "bar",
         "x": [
          "게임·취미"
         ],
         "xaxis": "x",
         "y": [
          2469.679012345679
         ],
         "yaxis": "y"
        },
        {
         "alignmentgroup": "True",
         "hovertemplate": "Category=%{x}<br>FundPercentage=%{y}<extra></extra>",
         "legendgroup": "홈·리빙",
         "marker": {
          "color": "#FF97FF",
          "pattern": {
           "shape": ""
          }
         },
         "name": "홈·리빙",
         "offsetgroup": "홈·리빙",
         "orientation": "v",
         "showlegend": true,
         "textposition": "auto",
         "type": "bar",
         "x": [
          "홈·리빙"
         ],
         "xaxis": "x",
         "y": [
          2437.0090579710145
         ],
         "yaxis": "y"
        },
        {
         "alignmentgroup": "True",
         "hovertemplate": "Category=%{x}<br>FundPercentage=%{y}<extra></extra>",
         "legendgroup": "패션·잡화",
         "marker": {
          "color": "#FECB52",
          "pattern": {
           "shape": ""
          }
         },
         "name": "패션·잡화",
         "offsetgroup": "패션·잡화",
         "orientation": "v",
         "showlegend": true,
         "textposition": "auto",
         "type": "bar",
         "x": [
          "패션·잡화"
         ],
         "xaxis": "x",
         "y": [
          2390.882025598219
         ],
         "yaxis": "y"
        },
        {
         "alignmentgroup": "True",
         "hovertemplate": "Category=%{x}<br>FundPercentage=%{y}<extra></extra>",
         "legendgroup": "소셜·캠페인",
         "marker": {
          "color": "#636efa",
          "pattern": {
           "shape": ""
          }
         },
         "name": "소셜·캠페인",
         "offsetgroup": "소셜·캠페인",
         "orientation": "v",
         "showlegend": true,
         "textposition": "auto",
         "type": "bar",
         "x": [
          "소셜·캠페인"
         ],
         "xaxis": "x",
         "y": [
          1945.7826086956522
         ],
         "yaxis": "y"
        },
        {
         "alignmentgroup": "True",
         "hovertemplate": "Category=%{x}<br>FundPercentage=%{y}<extra></extra>",
         "legendgroup": "컬쳐·아티스트",
         "marker": {
          "color": "#EF553B",
          "pattern": {
           "shape": ""
          }
         },
         "name": "컬쳐·아티스트",
         "offsetgroup": "컬쳐·아티스트",
         "orientation": "v",
         "showlegend": true,
         "textposition": "auto",
         "type": "bar",
         "x": [
          "컬쳐·아티스트"
         ],
         "xaxis": "x",
         "y": [
          2286.323529411765
         ],
         "yaxis": "y"
        },
        {
         "alignmentgroup": "True",
         "hovertemplate": "Category=%{x}<br>FundPercentage=%{y}<extra></extra>",
         "legendgroup": "반려동물",
         "marker": {
          "color": "#00cc96",
          "pattern": {
           "shape": ""
          }
         },
         "name": "반려동물",
         "offsetgroup": "반려동물",
         "orientation": "v",
         "showlegend": true,
         "textposition": "auto",
         "type": "bar",
         "x": [
          "반려동물"
         ],
         "xaxis": "x",
         "y": [
          2204.379518072289
         ],
         "yaxis": "y"
        },
        {
         "alignmentgroup": "True",
         "hovertemplate": "Category=%{x}<br>FundPercentage=%{y}<extra></extra>",
         "legendgroup": "푸드",
         "marker": {
          "color": "#ab63fa",
          "pattern": {
           "shape": ""
          }
         },
         "name": "푸드",
         "offsetgroup": "푸드",
         "orientation": "v",
         "showlegend": true,
         "textposition": "auto",
         "type": "bar",
         "x": [
          "푸드"
         ],
         "xaxis": "x",
         "y": [
          2132.956827309237
         ],
         "yaxis": "y"
        },
        {
         "alignmentgroup": "True",
         "hovertemplate": "Category=%{x}<br>FundPercentage=%{y}<extra></extra>",
         "legendgroup": "클래스·컨설팅",
         "marker": {
          "color": "#FFA15A",
          "pattern": {
           "shape": ""
          }
         },
         "name": "클래스·컨설팅",
         "offsetgroup": "클래스·컨설팅",
         "orientation": "v",
         "showlegend": true,
         "textposition": "auto",
         "type": "bar",
         "x": [
          "클래스·컨설팅"
         ],
         "xaxis": "x",
         "y": [
          1963.857142857143
         ],
         "yaxis": "y"
        }
       ],
       "layout": {
        "barmode": "relative",
        "legend": {
         "title": {
          "text": "Category"
         },
         "tracegroupgap": 0
        },
        "showlegend": false,
        "template": {
         "data": {
          "bar": [
           {
            "error_x": {
             "color": "#2a3f5f"
            },
            "error_y": {
             "color": "#2a3f5f"
            },
            "marker": {
             "line": {
              "color": "#E5ECF6",
              "width": 0.5
             },
             "pattern": {
              "fillmode": "overlay",
              "size": 10,
              "solidity": 0.2
             }
            },
            "type": "bar"
           }
          ],
          "barpolar": [
           {
            "marker": {
             "line": {
              "color": "#E5ECF6",
              "width": 0.5
             },
             "pattern": {
              "fillmode": "overlay",
              "size": 10,
              "solidity": 0.2
             }
            },
            "type": "barpolar"
           }
          ],
          "carpet": [
           {
            "aaxis": {
             "endlinecolor": "#2a3f5f",
             "gridcolor": "white",
             "linecolor": "white",
             "minorgridcolor": "white",
             "startlinecolor": "#2a3f5f"
            },
            "baxis": {
             "endlinecolor": "#2a3f5f",
             "gridcolor": "white",
             "linecolor": "white",
             "minorgridcolor": "white",
             "startlinecolor": "#2a3f5f"
            },
            "type": "carpet"
           }
          ],
          "choropleth": [
           {
            "colorbar": {
             "outlinewidth": 0,
             "ticks": ""
            },
            "type": "choropleth"
           }
          ],
          "contour": [
           {
            "colorbar": {
             "outlinewidth": 0,
             "ticks": ""
            },
            "colorscale": [
             [
              0,
              "#0d0887"
             ],
             [
              0.1111111111111111,
              "#46039f"
             ],
             [
              0.2222222222222222,
              "#7201a8"
             ],
             [
              0.3333333333333333,
              "#9c179e"
             ],
             [
              0.4444444444444444,
              "#bd3786"
             ],
             [
              0.5555555555555556,
              "#d8576b"
             ],
             [
              0.6666666666666666,
              "#ed7953"
             ],
             [
              0.7777777777777778,
              "#fb9f3a"
             ],
             [
              0.8888888888888888,
              "#fdca26"
             ],
             [
              1,
              "#f0f921"
             ]
            ],
            "type": "contour"
           }
          ],
          "contourcarpet": [
           {
            "colorbar": {
             "outlinewidth": 0,
             "ticks": ""
            },
            "type": "contourcarpet"
           }
          ],
          "heatmap": [
           {
            "colorbar": {
             "outlinewidth": 0,
             "ticks": ""
            },
            "colorscale": [
             [
              0,
              "#0d0887"
             ],
             [
              0.1111111111111111,
              "#46039f"
             ],
             [
              0.2222222222222222,
              "#7201a8"
             ],
             [
              0.3333333333333333,
              "#9c179e"
             ],
             [
              0.4444444444444444,
              "#bd3786"
             ],
             [
              0.5555555555555556,
              "#d8576b"
             ],
             [
              0.6666666666666666,
              "#ed7953"
             ],
             [
              0.7777777777777778,
              "#fb9f3a"
             ],
             [
              0.8888888888888888,
              "#fdca26"
             ],
             [
              1,
              "#f0f921"
             ]
            ],
            "type": "heatmap"
           }
          ],
          "heatmapgl": [
           {
            "colorbar": {
             "outlinewidth": 0,
             "ticks": ""
            },
            "colorscale": [
             [
              0,
              "#0d0887"
             ],
             [
              0.1111111111111111,
              "#46039f"
             ],
             [
              0.2222222222222222,
              "#7201a8"
             ],
             [
              0.3333333333333333,
              "#9c179e"
             ],
             [
              0.4444444444444444,
              "#bd3786"
             ],
             [
              0.5555555555555556,
              "#d8576b"
             ],
             [
              0.6666666666666666,
              "#ed7953"
             ],
             [
              0.7777777777777778,
              "#fb9f3a"
             ],
             [
              0.8888888888888888,
              "#fdca26"
             ],
             [
              1,
              "#f0f921"
             ]
            ],
            "type": "heatmapgl"
           }
          ],
          "histogram": [
           {
            "marker": {
             "pattern": {
              "fillmode": "overlay",
              "size": 10,
              "solidity": 0.2
             }
            },
            "type": "histogram"
           }
          ],
          "histogram2d": [
           {
            "colorbar": {
             "outlinewidth": 0,
             "ticks": ""
            },
            "colorscale": [
             [
              0,
              "#0d0887"
             ],
             [
              0.1111111111111111,
              "#46039f"
             ],
             [
              0.2222222222222222,
              "#7201a8"
             ],
             [
              0.3333333333333333,
              "#9c179e"
             ],
             [
              0.4444444444444444,
              "#bd3786"
             ],
             [
              0.5555555555555556,
              "#d8576b"
             ],
             [
              0.6666666666666666,
              "#ed7953"
             ],
             [
              0.7777777777777778,
              "#fb9f3a"
             ],
             [
              0.8888888888888888,
              "#fdca26"
             ],
             [
              1,
              "#f0f921"
             ]
            ],
            "type": "histogram2d"
           }
          ],
          "histogram2dcontour": [
           {
            "colorbar": {
             "outlinewidth": 0,
             "ticks": ""
            },
            "colorscale": [
             [
              0,
              "#0d0887"
             ],
             [
              0.1111111111111111,
              "#46039f"
             ],
             [
              0.2222222222222222,
              "#7201a8"
             ],
             [
              0.3333333333333333,
              "#9c179e"
             ],
             [
              0.4444444444444444,
              "#bd3786"
             ],
             [
              0.5555555555555556,
              "#d8576b"
             ],
             [
              0.6666666666666666,
              "#ed7953"
             ],
             [
              0.7777777777777778,
              "#fb9f3a"
             ],
             [
              0.8888888888888888,
              "#fdca26"
             ],
             [
              1,
              "#f0f921"
             ]
            ],
            "type": "histogram2dcontour"
           }
          ],
          "mesh3d": [
           {
            "colorbar": {
             "outlinewidth": 0,
             "ticks": ""
            },
            "type": "mesh3d"
           }
          ],
          "parcoords": [
           {
            "line": {
             "colorbar": {
              "outlinewidth": 0,
              "ticks": ""
             }
            },
            "type": "parcoords"
           }
          ],
          "pie": [
           {
            "automargin": true,
            "type": "pie"
           }
          ],
          "scatter": [
           {
            "marker": {
             "colorbar": {
              "outlinewidth": 0,
              "ticks": ""
             }
            },
            "type": "scatter"
           }
          ],
          "scatter3d": [
           {
            "line": {
             "colorbar": {
              "outlinewidth": 0,
              "ticks": ""
             }
            },
            "marker": {
             "colorbar": {
              "outlinewidth": 0,
              "ticks": ""
             }
            },
            "type": "scatter3d"
           }
          ],
          "scattercarpet": [
           {
            "marker": {
             "colorbar": {
              "outlinewidth": 0,
              "ticks": ""
             }
            },
            "type": "scattercarpet"
           }
          ],
          "scattergeo": [
           {
            "marker": {
             "colorbar": {
              "outlinewidth": 0,
              "ticks": ""
             }
            },
            "type": "scattergeo"
           }
          ],
          "scattergl": [
           {
            "marker": {
             "colorbar": {
              "outlinewidth": 0,
              "ticks": ""
             }
            },
            "type": "scattergl"
           }
          ],
          "scattermapbox": [
           {
            "marker": {
             "colorbar": {
              "outlinewidth": 0,
              "ticks": ""
             }
            },
            "type": "scattermapbox"
           }
          ],
          "scatterpolar": [
           {
            "marker": {
             "colorbar": {
              "outlinewidth": 0,
              "ticks": ""
             }
            },
            "type": "scatterpolar"
           }
          ],
          "scatterpolargl": [
           {
            "marker": {
             "colorbar": {
              "outlinewidth": 0,
              "ticks": ""
             }
            },
            "type": "scatterpolargl"
           }
          ],
          "scatterternary": [
           {
            "marker": {
             "colorbar": {
              "outlinewidth": 0,
              "ticks": ""
             }
            },
            "type": "scatterternary"
           }
          ],
          "surface": [
           {
            "colorbar": {
             "outlinewidth": 0,
             "ticks": ""
            },
            "colorscale": [
             [
              0,
              "#0d0887"
             ],
             [
              0.1111111111111111,
              "#46039f"
             ],
             [
              0.2222222222222222,
              "#7201a8"
             ],
             [
              0.3333333333333333,
              "#9c179e"
             ],
             [
              0.4444444444444444,
              "#bd3786"
             ],
             [
              0.5555555555555556,
              "#d8576b"
             ],
             [
              0.6666666666666666,
              "#ed7953"
             ],
             [
              0.7777777777777778,
              "#fb9f3a"
             ],
             [
              0.8888888888888888,
              "#fdca26"
             ],
             [
              1,
              "#f0f921"
             ]
            ],
            "type": "surface"
           }
          ],
          "table": [
           {
            "cells": {
             "fill": {
              "color": "#EBF0F8"
             },
             "line": {
              "color": "white"
             }
            },
            "header": {
             "fill": {
              "color": "#C8D4E3"
             },
             "line": {
              "color": "white"
             }
            },
            "type": "table"
           }
          ]
         },
         "layout": {
          "annotationdefaults": {
           "arrowcolor": "#2a3f5f",
           "arrowhead": 0,
           "arrowwidth": 1
          },
          "autotypenumbers": "strict",
          "coloraxis": {
           "colorbar": {
            "outlinewidth": 0,
            "ticks": ""
           }
          },
          "colorscale": {
           "diverging": [
            [
             0,
             "#8e0152"
            ],
            [
             0.1,
             "#c51b7d"
            ],
            [
             0.2,
             "#de77ae"
            ],
            [
             0.3,
             "#f1b6da"
            ],
            [
             0.4,
             "#fde0ef"
            ],
            [
             0.5,
             "#f7f7f7"
            ],
            [
             0.6,
             "#e6f5d0"
            ],
            [
             0.7,
             "#b8e186"
            ],
            [
             0.8,
             "#7fbc41"
            ],
            [
             0.9,
             "#4d9221"
            ],
            [
             1,
             "#276419"
            ]
           ],
           "sequential": [
            [
             0,
             "#0d0887"
            ],
            [
             0.1111111111111111,
             "#46039f"
            ],
            [
             0.2222222222222222,
             "#7201a8"
            ],
            [
             0.3333333333333333,
             "#9c179e"
            ],
            [
             0.4444444444444444,
             "#bd3786"
            ],
            [
             0.5555555555555556,
             "#d8576b"
            ],
            [
             0.6666666666666666,
             "#ed7953"
            ],
            [
             0.7777777777777778,
             "#fb9f3a"
            ],
            [
             0.8888888888888888,
             "#fdca26"
            ],
            [
             1,
             "#f0f921"
            ]
           ],
           "sequentialminus": [
            [
             0,
             "#0d0887"
            ],
            [
             0.1111111111111111,
             "#46039f"
            ],
            [
             0.2222222222222222,
             "#7201a8"
            ],
            [
             0.3333333333333333,
             "#9c179e"
            ],
            [
             0.4444444444444444,
             "#bd3786"
            ],
            [
             0.5555555555555556,
             "#d8576b"
            ],
            [
             0.6666666666666666,
             "#ed7953"
            ],
            [
             0.7777777777777778,
             "#fb9f3a"
            ],
            [
             0.8888888888888888,
             "#fdca26"
            ],
            [
             1,
             "#f0f921"
            ]
           ]
          },
          "colorway": [
           "#636efa",
           "#EF553B",
           "#00cc96",
           "#ab63fa",
           "#FFA15A",
           "#19d3f3",
           "#FF6692",
           "#B6E880",
           "#FF97FF",
           "#FECB52"
          ],
          "font": {
           "color": "#2a3f5f"
          },
          "geo": {
           "bgcolor": "white",
           "lakecolor": "white",
           "landcolor": "#E5ECF6",
           "showlakes": true,
           "showland": true,
           "subunitcolor": "white"
          },
          "hoverlabel": {
           "align": "left"
          },
          "hovermode": "closest",
          "mapbox": {
           "style": "light"
          },
          "paper_bgcolor": "white",
          "plot_bgcolor": "#E5ECF6",
          "polar": {
           "angularaxis": {
            "gridcolor": "white",
            "linecolor": "white",
            "ticks": ""
           },
           "bgcolor": "#E5ECF6",
           "radialaxis": {
            "gridcolor": "white",
            "linecolor": "white",
            "ticks": ""
           }
          },
          "scene": {
           "xaxis": {
            "backgroundcolor": "#E5ECF6",
            "gridcolor": "white",
            "gridwidth": 2,
            "linecolor": "white",
            "showbackground": true,
            "ticks": "",
            "zerolinecolor": "white"
           },
           "yaxis": {
            "backgroundcolor": "#E5ECF6",
            "gridcolor": "white",
            "gridwidth": 2,
            "linecolor": "white",
            "showbackground": true,
            "ticks": "",
            "zerolinecolor": "white"
           },
           "zaxis": {
            "backgroundcolor": "#E5ECF6",
            "gridcolor": "white",
            "gridwidth": 2,
            "linecolor": "white",
            "showbackground": true,
            "ticks": "",
            "zerolinecolor": "white"
           }
          },
          "shapedefaults": {
           "line": {
            "color": "#2a3f5f"
           }
          },
          "ternary": {
           "aaxis": {
            "gridcolor": "white",
            "linecolor": "white",
            "ticks": ""
           },
           "baxis": {
            "gridcolor": "white",
            "linecolor": "white",
            "ticks": ""
           },
           "bgcolor": "#E5ECF6",
           "caxis": {
            "gridcolor": "white",
            "linecolor": "white",
            "ticks": ""
           }
          },
          "title": {
           "x": 0.05
          },
          "xaxis": {
           "automargin": true,
           "gridcolor": "white",
           "linecolor": "white",
           "ticks": "",
           "title": {
            "standoff": 15
           },
           "zerolinecolor": "white",
           "zerolinewidth": 2
          },
          "yaxis": {
           "automargin": true,
           "gridcolor": "white",
           "linecolor": "white",
           "ticks": "",
           "title": {
            "standoff": 15
           },
           "zerolinecolor": "white",
           "zerolinewidth": 2
          }
         }
        },
        "title": {
         "text": "펀딩 달성률 평균"
        },
        "xaxis": {
         "anchor": "y",
         "categoryarray": [
          "출판",
          "테크·가전",
          "뷰티",
          "여행·레저",
          "베이비·키즈",
          "캐릭터·굿즈",
          "스포츠·모빌리티",
          "게임·취미",
          "홈·리빙",
          "패션·잡화",
          "소셜·캠페인",
          "컬쳐·아티스트",
          "반려동물",
          "푸드",
          "클래스·컨설팅"
         ],
         "categoryorder": "array",
         "domain": [
          0,
          1
         ],
         "title": {
          "text": "Category"
         }
        },
        "yaxis": {
         "anchor": "x",
         "domain": [
          0,
          1
         ],
         "title": {
          "text": "펀딩 달성률 (%)"
         }
        }
       }
      }
     },
     "metadata": {},
     "output_type": "display_data"
    }
   ],
   "source": [
    "df = wadiz_list\n",
    "for cate in category_sorter:\n",
    "    df = df[\n",
    "        ((df[\"Category\"] == cate) & (df[\"FundPercentage\"] <= df[df[\"Category\"] == cate].quantile(0.75)[\"FundPercentage\"]))\n",
    "        | (df[\"Category\"] != cate)\n",
    "    ]\n",
    "df[\"Count\"] = 1\n",
    "display(df.describe())\n",
    "\n",
    "df_sum = df.groupby(by=[\"Category\"]).sum()\n",
    "dict_category_count = dict(zip(df_sum.index, df_sum[\"Count\"]))\n",
    "\n",
    "df = df.groupby(by=[\"Category\"]).mean().reindex(category_sorter).reset_index()\n",
    "fig = px.bar(\n",
    "    df, x=\"Category\", y=\"FundPercentage\", color=\"Category\", title=\"펀딩 달성률 평균\"\n",
    ")\n",
    "fig.update_layout(showlegend=False, yaxis_title=\"펀딩 달성률 (%)\")\n",
    "fig.show()"
   ]
  },
  {
   "cell_type": "markdown",
   "metadata": {},
   "source": [
    "이제 유의미한 차이가 없다.\n",
    "\n",
    "&(7.14) https://blog.revolutionanalytics.com/2017/05/the-datasaurus-dozen.html\n",
    "* 조그만 차이에도 상관관계 등이 매우 큰 차이를 보인다면, 부주의한 데이터 분석은 완전히 잘못된 결과를 보여줄 수 있다.\n",
    "* 그렇다면, 다른 사람의 데이터 분석을 어떻게 검증하고 신뢰할 수 있을까?\n",
    "\n",
    "&(7.14) 다양한 데이터 분석 시도가 필요하다면, 그 중 무엇을 어떻게 선택하는가?"
   ]
  },
  {
   "cell_type": "code",
   "execution_count": 58,
   "metadata": {},
   "outputs": [
    {
     "data": {
      "application/vnd.plotly.v1+json": {
       "config": {
        "plotlyServerURL": "https://plotly.com"
       },
       "data": [
        {
         "hovertemplate": "Category=출판<br>FundPercentage=%{x}<br>FundAmount=%{y}<br>Count=%{marker.size}<extra></extra>",
         "legendgroup": "출판",
         "marker": {
          "color": "#636efa",
          "size": [
           41
          ],
          "sizemode": "area",
          "sizeref": 4.4925,
          "symbol": "circle"
         },
         "mode": "markers",
         "name": "출판",
         "orientation": "v",
         "showlegend": true,
         "type": "scatter",
         "x": [
          2598.9268292682927
         ],
         "xaxis": "x",
         "y": [
          28898937.024390243
         ],
         "yaxis": "y"
        },
        {
         "hovertemplate": "Category=테크·가전<br>FundPercentage=%{x}<br>FundAmount=%{y}<br>Count=%{marker.size}<extra></extra>",
         "legendgroup": "테크·가전",
         "marker": {
          "color": "#EF553B",
          "size": [
           967
          ],
          "sizemode": "area",
          "sizeref": 4.4925,
          "symbol": "circle"
         },
         "mode": "markers",
         "name": "테크·가전",
         "orientation": "v",
         "showlegend": true,
         "type": "scatter",
         "x": [
          2943.8169596690796
         ],
         "xaxis": "x",
         "y": [
          49619588.90279214
         ],
         "yaxis": "y"
        },
        {
         "hovertemplate": "Category=뷰티<br>FundPercentage=%{x}<br>FundAmount=%{y}<br>Count=%{marker.size}<extra></extra>",
         "legendgroup": "뷰티",
         "marker": {
          "color": "#00cc96",
          "size": [
           932
          ],
          "sizemode": "area",
          "sizeref": 4.4925,
          "symbol": "circle"
         },
         "mode": "markers",
         "name": "뷰티",
         "orientation": "v",
         "showlegend": true,
         "type": "scatter",
         "x": [
          2532.1137339055795
         ],
         "xaxis": "x",
         "y": [
          15807282.868025752
         ],
         "yaxis": "y"
        },
        {
         "hovertemplate": "Category=여행·레저<br>FundPercentage=%{x}<br>FundAmount=%{y}<br>Count=%{marker.size}<extra></extra>",
         "legendgroup": "여행·레저",
         "marker": {
          "color": "#ab63fa",
          "size": [
           249
          ],
          "sizemode": "area",
          "sizeref": 4.4925,
          "symbol": "circle"
         },
         "mode": "markers",
         "name": "여행·레저",
         "orientation": "v",
         "showlegend": true,
         "type": "scatter",
         "x": [
          2903.1847389558234
         ],
         "xaxis": "x",
         "y": [
          41417002.8875502
         ],
         "yaxis": "y"
        },
        {
         "hovertemplate": "Category=베이비·키즈<br>FundPercentage=%{x}<br>FundAmount=%{y}<br>Count=%{marker.size}<extra></extra>",
         "legendgroup": "베이비·키즈",
         "marker": {
          "color": "#FFA15A",
          "size": [
           50
          ],
          "sizemode": "area",
          "sizeref": 4.4925,
          "symbol": "circle"
         },
         "mode": "markers",
         "name": "베이비·키즈",
         "orientation": "v",
         "showlegend": true,
         "type": "scatter",
         "x": [
          2366.38
         ],
         "xaxis": "x",
         "y": [
          29397209.82
         ],
         "yaxis": "y"
        },
        {
         "hovertemplate": "Category=캐릭터·굿즈<br>FundPercentage=%{x}<br>FundAmount=%{y}<br>Count=%{marker.size}<extra></extra>",
         "legendgroup": "캐릭터·굿즈",
         "marker": {
          "color": "#19d3f3",
          "size": [
           21
          ],
          "sizemode": "area",
          "sizeref": 4.4925,
          "symbol": "circle"
         },
         "mode": "markers",
         "name": "캐릭터·굿즈",
         "orientation": "v",
         "showlegend": true,
         "type": "scatter",
         "x": [
          2907.2380952380954
         ],
         "xaxis": "x",
         "y": [
          28097827.38095238
         ],
         "yaxis": "y"
        },
        {
         "hovertemplate": "Category=스포츠·모빌리티<br>FundPercentage=%{x}<br>FundAmount=%{y}<br>Count=%{marker.size}<extra></extra>",
         "legendgroup": "스포츠·모빌리티",
         "marker": {
          "color": "#FF6692",
          "size": [
           310
          ],
          "sizemode": "area",
          "sizeref": 4.4925,
          "symbol": "circle"
         },
         "mode": "markers",
         "name": "스포츠·모빌리티",
         "orientation": "v",
         "showlegend": true,
         "type": "scatter",
         "x": [
          2621.5612903225806
         ],
         "xaxis": "x",
         "y": [
          42801555.770967744
         ],
         "yaxis": "y"
        },
        {
         "hovertemplate": "Category=게임·취미<br>FundPercentage=%{x}<br>FundAmount=%{y}<br>Count=%{marker.size}<extra></extra>",
         "legendgroup": "게임·취미",
         "marker": {
          "color": "#B6E880",
          "size": [
           81
          ],
          "sizemode": "area",
          "sizeref": 4.4925,
          "symbol": "circle"
         },
         "mode": "markers",
         "name": "게임·취미",
         "orientation": "v",
         "showlegend": true,
         "type": "scatter",
         "x": [
          2469.679012345679
         ],
         "xaxis": "x",
         "y": [
          43142064.95061728
         ],
         "yaxis": "y"
        },
        {
         "hovertemplate": "Category=홈·리빙<br>FundPercentage=%{x}<br>FundAmount=%{y}<br>Count=%{marker.size}<extra></extra>",
         "legendgroup": "홈·리빙",
         "marker": {
          "color": "#FF97FF",
          "size": [
           1104
          ],
          "sizemode": "area",
          "sizeref": 4.4925,
          "symbol": "circle"
         },
         "mode": "markers",
         "name": "홈·리빙",
         "orientation": "v",
         "showlegend": true,
         "type": "scatter",
         "x": [
          2437.0090579710145
         ],
         "xaxis": "x",
         "y": [
          24625768.56521739
         ],
         "yaxis": "y"
        },
        {
         "hovertemplate": "Category=패션·잡화<br>FundPercentage=%{x}<br>FundAmount=%{y}<br>Count=%{marker.size}<extra></extra>",
         "legendgroup": "패션·잡화",
         "marker": {
          "color": "#FECB52",
          "size": [
           1797
          ],
          "sizemode": "area",
          "sizeref": 4.4925,
          "symbol": "circle"
         },
         "mode": "markers",
         "name": "패션·잡화",
         "orientation": "v",
         "showlegend": true,
         "type": "scatter",
         "x": [
          2390.882025598219
         ],
         "xaxis": "x",
         "y": [
          23638452.23316639
         ],
         "yaxis": "y"
        },
        {
         "hovertemplate": "Category=소셜·캠페인<br>FundPercentage=%{x}<br>FundAmount=%{y}<br>Count=%{marker.size}<extra></extra>",
         "legendgroup": "소셜·캠페인",
         "marker": {
          "color": "#636efa",
          "size": [
           23
          ],
          "sizemode": "area",
          "sizeref": 4.4925,
          "symbol": "circle"
         },
         "mode": "markers",
         "name": "소셜·캠페인",
         "orientation": "v",
         "showlegend": true,
         "type": "scatter",
         "x": [
          1945.7826086956522
         ],
         "xaxis": "x",
         "y": [
          81444389.13043478
         ],
         "yaxis": "y"
        },
        {
         "hovertemplate": "Category=컬쳐·아티스트<br>FundPercentage=%{x}<br>FundAmount=%{y}<br>Count=%{marker.size}<extra></extra>",
         "legendgroup": "컬쳐·아티스트",
         "marker": {
          "color": "#EF553B",
          "size": [
           68
          ],
          "sizemode": "area",
          "sizeref": 4.4925,
          "symbol": "circle"
         },
         "mode": "markers",
         "name": "컬쳐·아티스트",
         "orientation": "v",
         "showlegend": true,
         "type": "scatter",
         "x": [
          2286.323529411765
         ],
         "xaxis": "x",
         "y": [
          43390170.4117647
         ],
         "yaxis": "y"
        },
        {
         "hovertemplate": "Category=반려동물<br>FundPercentage=%{x}<br>FundAmount=%{y}<br>Count=%{marker.size}<extra></extra>",
         "legendgroup": "반려동물",
         "marker": {
          "color": "#00cc96",
          "size": [
           332
          ],
          "sizemode": "area",
          "sizeref": 4.4925,
          "symbol": "circle"
         },
         "mode": "markers",
         "name": "반려동물",
         "orientation": "v",
         "showlegend": true,
         "type": "scatter",
         "x": [
          2204.379518072289
         ],
         "xaxis": "x",
         "y": [
          21293828.156626508
         ],
         "yaxis": "y"
        },
        {
         "hovertemplate": "Category=푸드<br>FundPercentage=%{x}<br>FundAmount=%{y}<br>Count=%{marker.size}<extra></extra>",
         "legendgroup": "푸드",
         "marker": {
          "color": "#ab63fa",
          "size": [
           996
          ],
          "sizemode": "area",
          "sizeref": 4.4925,
          "symbol": "circle"
         },
         "mode": "markers",
         "name": "푸드",
         "orientation": "v",
         "showlegend": true,
         "type": "scatter",
         "x": [
          2132.956827309237
         ],
         "xaxis": "x",
         "y": [
          16014626.156626506
         ],
         "yaxis": "y"
        },
        {
         "hovertemplate": "Category=클래스·컨설팅<br>FundPercentage=%{x}<br>FundAmount=%{y}<br>Count=%{marker.size}<extra></extra>",
         "legendgroup": "클래스·컨설팅",
         "marker": {
          "color": "#FFA15A",
          "size": [
           70
          ],
          "sizemode": "area",
          "sizeref": 4.4925,
          "symbol": "circle"
         },
         "mode": "markers",
         "name": "클래스·컨설팅",
         "orientation": "v",
         "showlegend": true,
         "type": "scatter",
         "x": [
          1963.857142857143
         ],
         "xaxis": "x",
         "y": [
          17205708.57142857
         ],
         "yaxis": "y"
        }
       ],
       "layout": {
        "legend": {
         "itemsizing": "constant",
         "title": {
          "text": "Category"
         },
         "tracegroupgap": 0
        },
        "margin": {
         "t": 60
        },
        "template": {
         "data": {
          "bar": [
           {
            "error_x": {
             "color": "#2a3f5f"
            },
            "error_y": {
             "color": "#2a3f5f"
            },
            "marker": {
             "line": {
              "color": "#E5ECF6",
              "width": 0.5
             },
             "pattern": {
              "fillmode": "overlay",
              "size": 10,
              "solidity": 0.2
             }
            },
            "type": "bar"
           }
          ],
          "barpolar": [
           {
            "marker": {
             "line": {
              "color": "#E5ECF6",
              "width": 0.5
             },
             "pattern": {
              "fillmode": "overlay",
              "size": 10,
              "solidity": 0.2
             }
            },
            "type": "barpolar"
           }
          ],
          "carpet": [
           {
            "aaxis": {
             "endlinecolor": "#2a3f5f",
             "gridcolor": "white",
             "linecolor": "white",
             "minorgridcolor": "white",
             "startlinecolor": "#2a3f5f"
            },
            "baxis": {
             "endlinecolor": "#2a3f5f",
             "gridcolor": "white",
             "linecolor": "white",
             "minorgridcolor": "white",
             "startlinecolor": "#2a3f5f"
            },
            "type": "carpet"
           }
          ],
          "choropleth": [
           {
            "colorbar": {
             "outlinewidth": 0,
             "ticks": ""
            },
            "type": "choropleth"
           }
          ],
          "contour": [
           {
            "colorbar": {
             "outlinewidth": 0,
             "ticks": ""
            },
            "colorscale": [
             [
              0,
              "#0d0887"
             ],
             [
              0.1111111111111111,
              "#46039f"
             ],
             [
              0.2222222222222222,
              "#7201a8"
             ],
             [
              0.3333333333333333,
              "#9c179e"
             ],
             [
              0.4444444444444444,
              "#bd3786"
             ],
             [
              0.5555555555555556,
              "#d8576b"
             ],
             [
              0.6666666666666666,
              "#ed7953"
             ],
             [
              0.7777777777777778,
              "#fb9f3a"
             ],
             [
              0.8888888888888888,
              "#fdca26"
             ],
             [
              1,
              "#f0f921"
             ]
            ],
            "type": "contour"
           }
          ],
          "contourcarpet": [
           {
            "colorbar": {
             "outlinewidth": 0,
             "ticks": ""
            },
            "type": "contourcarpet"
           }
          ],
          "heatmap": [
           {
            "colorbar": {
             "outlinewidth": 0,
             "ticks": ""
            },
            "colorscale": [
             [
              0,
              "#0d0887"
             ],
             [
              0.1111111111111111,
              "#46039f"
             ],
             [
              0.2222222222222222,
              "#7201a8"
             ],
             [
              0.3333333333333333,
              "#9c179e"
             ],
             [
              0.4444444444444444,
              "#bd3786"
             ],
             [
              0.5555555555555556,
              "#d8576b"
             ],
             [
              0.6666666666666666,
              "#ed7953"
             ],
             [
              0.7777777777777778,
              "#fb9f3a"
             ],
             [
              0.8888888888888888,
              "#fdca26"
             ],
             [
              1,
              "#f0f921"
             ]
            ],
            "type": "heatmap"
           }
          ],
          "heatmapgl": [
           {
            "colorbar": {
             "outlinewidth": 0,
             "ticks": ""
            },
            "colorscale": [
             [
              0,
              "#0d0887"
             ],
             [
              0.1111111111111111,
              "#46039f"
             ],
             [
              0.2222222222222222,
              "#7201a8"
             ],
             [
              0.3333333333333333,
              "#9c179e"
             ],
             [
              0.4444444444444444,
              "#bd3786"
             ],
             [
              0.5555555555555556,
              "#d8576b"
             ],
             [
              0.6666666666666666,
              "#ed7953"
             ],
             [
              0.7777777777777778,
              "#fb9f3a"
             ],
             [
              0.8888888888888888,
              "#fdca26"
             ],
             [
              1,
              "#f0f921"
             ]
            ],
            "type": "heatmapgl"
           }
          ],
          "histogram": [
           {
            "marker": {
             "pattern": {
              "fillmode": "overlay",
              "size": 10,
              "solidity": 0.2
             }
            },
            "type": "histogram"
           }
          ],
          "histogram2d": [
           {
            "colorbar": {
             "outlinewidth": 0,
             "ticks": ""
            },
            "colorscale": [
             [
              0,
              "#0d0887"
             ],
             [
              0.1111111111111111,
              "#46039f"
             ],
             [
              0.2222222222222222,
              "#7201a8"
             ],
             [
              0.3333333333333333,
              "#9c179e"
             ],
             [
              0.4444444444444444,
              "#bd3786"
             ],
             [
              0.5555555555555556,
              "#d8576b"
             ],
             [
              0.6666666666666666,
              "#ed7953"
             ],
             [
              0.7777777777777778,
              "#fb9f3a"
             ],
             [
              0.8888888888888888,
              "#fdca26"
             ],
             [
              1,
              "#f0f921"
             ]
            ],
            "type": "histogram2d"
           }
          ],
          "histogram2dcontour": [
           {
            "colorbar": {
             "outlinewidth": 0,
             "ticks": ""
            },
            "colorscale": [
             [
              0,
              "#0d0887"
             ],
             [
              0.1111111111111111,
              "#46039f"
             ],
             [
              0.2222222222222222,
              "#7201a8"
             ],
             [
              0.3333333333333333,
              "#9c179e"
             ],
             [
              0.4444444444444444,
              "#bd3786"
             ],
             [
              0.5555555555555556,
              "#d8576b"
             ],
             [
              0.6666666666666666,
              "#ed7953"
             ],
             [
              0.7777777777777778,
              "#fb9f3a"
             ],
             [
              0.8888888888888888,
              "#fdca26"
             ],
             [
              1,
              "#f0f921"
             ]
            ],
            "type": "histogram2dcontour"
           }
          ],
          "mesh3d": [
           {
            "colorbar": {
             "outlinewidth": 0,
             "ticks": ""
            },
            "type": "mesh3d"
           }
          ],
          "parcoords": [
           {
            "line": {
             "colorbar": {
              "outlinewidth": 0,
              "ticks": ""
             }
            },
            "type": "parcoords"
           }
          ],
          "pie": [
           {
            "automargin": true,
            "type": "pie"
           }
          ],
          "scatter": [
           {
            "marker": {
             "colorbar": {
              "outlinewidth": 0,
              "ticks": ""
             }
            },
            "type": "scatter"
           }
          ],
          "scatter3d": [
           {
            "line": {
             "colorbar": {
              "outlinewidth": 0,
              "ticks": ""
             }
            },
            "marker": {
             "colorbar": {
              "outlinewidth": 0,
              "ticks": ""
             }
            },
            "type": "scatter3d"
           }
          ],
          "scattercarpet": [
           {
            "marker": {
             "colorbar": {
              "outlinewidth": 0,
              "ticks": ""
             }
            },
            "type": "scattercarpet"
           }
          ],
          "scattergeo": [
           {
            "marker": {
             "colorbar": {
              "outlinewidth": 0,
              "ticks": ""
             }
            },
            "type": "scattergeo"
           }
          ],
          "scattergl": [
           {
            "marker": {
             "colorbar": {
              "outlinewidth": 0,
              "ticks": ""
             }
            },
            "type": "scattergl"
           }
          ],
          "scattermapbox": [
           {
            "marker": {
             "colorbar": {
              "outlinewidth": 0,
              "ticks": ""
             }
            },
            "type": "scattermapbox"
           }
          ],
          "scatterpolar": [
           {
            "marker": {
             "colorbar": {
              "outlinewidth": 0,
              "ticks": ""
             }
            },
            "type": "scatterpolar"
           }
          ],
          "scatterpolargl": [
           {
            "marker": {
             "colorbar": {
              "outlinewidth": 0,
              "ticks": ""
             }
            },
            "type": "scatterpolargl"
           }
          ],
          "scatterternary": [
           {
            "marker": {
             "colorbar": {
              "outlinewidth": 0,
              "ticks": ""
             }
            },
            "type": "scatterternary"
           }
          ],
          "surface": [
           {
            "colorbar": {
             "outlinewidth": 0,
             "ticks": ""
            },
            "colorscale": [
             [
              0,
              "#0d0887"
             ],
             [
              0.1111111111111111,
              "#46039f"
             ],
             [
              0.2222222222222222,
              "#7201a8"
             ],
             [
              0.3333333333333333,
              "#9c179e"
             ],
             [
              0.4444444444444444,
              "#bd3786"
             ],
             [
              0.5555555555555556,
              "#d8576b"
             ],
             [
              0.6666666666666666,
              "#ed7953"
             ],
             [
              0.7777777777777778,
              "#fb9f3a"
             ],
             [
              0.8888888888888888,
              "#fdca26"
             ],
             [
              1,
              "#f0f921"
             ]
            ],
            "type": "surface"
           }
          ],
          "table": [
           {
            "cells": {
             "fill": {
              "color": "#EBF0F8"
             },
             "line": {
              "color": "white"
             }
            },
            "header": {
             "fill": {
              "color": "#C8D4E3"
             },
             "line": {
              "color": "white"
             }
            },
            "type": "table"
           }
          ]
         },
         "layout": {
          "annotationdefaults": {
           "arrowcolor": "#2a3f5f",
           "arrowhead": 0,
           "arrowwidth": 1
          },
          "autotypenumbers": "strict",
          "coloraxis": {
           "colorbar": {
            "outlinewidth": 0,
            "ticks": ""
           }
          },
          "colorscale": {
           "diverging": [
            [
             0,
             "#8e0152"
            ],
            [
             0.1,
             "#c51b7d"
            ],
            [
             0.2,
             "#de77ae"
            ],
            [
             0.3,
             "#f1b6da"
            ],
            [
             0.4,
             "#fde0ef"
            ],
            [
             0.5,
             "#f7f7f7"
            ],
            [
             0.6,
             "#e6f5d0"
            ],
            [
             0.7,
             "#b8e186"
            ],
            [
             0.8,
             "#7fbc41"
            ],
            [
             0.9,
             "#4d9221"
            ],
            [
             1,
             "#276419"
            ]
           ],
           "sequential": [
            [
             0,
             "#0d0887"
            ],
            [
             0.1111111111111111,
             "#46039f"
            ],
            [
             0.2222222222222222,
             "#7201a8"
            ],
            [
             0.3333333333333333,
             "#9c179e"
            ],
            [
             0.4444444444444444,
             "#bd3786"
            ],
            [
             0.5555555555555556,
             "#d8576b"
            ],
            [
             0.6666666666666666,
             "#ed7953"
            ],
            [
             0.7777777777777778,
             "#fb9f3a"
            ],
            [
             0.8888888888888888,
             "#fdca26"
            ],
            [
             1,
             "#f0f921"
            ]
           ],
           "sequentialminus": [
            [
             0,
             "#0d0887"
            ],
            [
             0.1111111111111111,
             "#46039f"
            ],
            [
             0.2222222222222222,
             "#7201a8"
            ],
            [
             0.3333333333333333,
             "#9c179e"
            ],
            [
             0.4444444444444444,
             "#bd3786"
            ],
            [
             0.5555555555555556,
             "#d8576b"
            ],
            [
             0.6666666666666666,
             "#ed7953"
            ],
            [
             0.7777777777777778,
             "#fb9f3a"
            ],
            [
             0.8888888888888888,
             "#fdca26"
            ],
            [
             1,
             "#f0f921"
            ]
           ]
          },
          "colorway": [
           "#636efa",
           "#EF553B",
           "#00cc96",
           "#ab63fa",
           "#FFA15A",
           "#19d3f3",
           "#FF6692",
           "#B6E880",
           "#FF97FF",
           "#FECB52"
          ],
          "font": {
           "color": "#2a3f5f"
          },
          "geo": {
           "bgcolor": "white",
           "lakecolor": "white",
           "landcolor": "#E5ECF6",
           "showlakes": true,
           "showland": true,
           "subunitcolor": "white"
          },
          "hoverlabel": {
           "align": "left"
          },
          "hovermode": "closest",
          "mapbox": {
           "style": "light"
          },
          "paper_bgcolor": "white",
          "plot_bgcolor": "#E5ECF6",
          "polar": {
           "angularaxis": {
            "gridcolor": "white",
            "linecolor": "white",
            "ticks": ""
           },
           "bgcolor": "#E5ECF6",
           "radialaxis": {
            "gridcolor": "white",
            "linecolor": "white",
            "ticks": ""
           }
          },
          "scene": {
           "xaxis": {
            "backgroundcolor": "#E5ECF6",
            "gridcolor": "white",
            "gridwidth": 2,
            "linecolor": "white",
            "showbackground": true,
            "ticks": "",
            "zerolinecolor": "white"
           },
           "yaxis": {
            "backgroundcolor": "#E5ECF6",
            "gridcolor": "white",
            "gridwidth": 2,
            "linecolor": "white",
            "showbackground": true,
            "ticks": "",
            "zerolinecolor": "white"
           },
           "zaxis": {
            "backgroundcolor": "#E5ECF6",
            "gridcolor": "white",
            "gridwidth": 2,
            "linecolor": "white",
            "showbackground": true,
            "ticks": "",
            "zerolinecolor": "white"
           }
          },
          "shapedefaults": {
           "line": {
            "color": "#2a3f5f"
           }
          },
          "ternary": {
           "aaxis": {
            "gridcolor": "white",
            "linecolor": "white",
            "ticks": ""
           },
           "baxis": {
            "gridcolor": "white",
            "linecolor": "white",
            "ticks": ""
           },
           "bgcolor": "#E5ECF6",
           "caxis": {
            "gridcolor": "white",
            "linecolor": "white",
            "ticks": ""
           }
          },
          "title": {
           "x": 0.05
          },
          "xaxis": {
           "automargin": true,
           "gridcolor": "white",
           "linecolor": "white",
           "ticks": "",
           "title": {
            "standoff": 15
           },
           "zerolinecolor": "white",
           "zerolinewidth": 2
          },
          "yaxis": {
           "automargin": true,
           "gridcolor": "white",
           "linecolor": "white",
           "ticks": "",
           "title": {
            "standoff": 15
           },
           "zerolinecolor": "white",
           "zerolinewidth": 2
          }
         }
        },
        "xaxis": {
         "anchor": "y",
         "domain": [
          0,
          1
         ],
         "title": {
          "text": "FundPercentage"
         }
        },
        "yaxis": {
         "anchor": "x",
         "domain": [
          0,
          1
         ],
         "title": {
          "text": "FundAmount"
         }
        }
       }
      }
     },
     "metadata": {},
     "output_type": "display_data"
    },
    {
     "data": {
      "application/vnd.plotly.v1+json": {
       "config": {
        "plotlyServerURL": "https://plotly.com"
       },
       "data": [
        {
         "hovertemplate": "Category=출판<br>FundPercentage=%{x}<br>FundAmount=%{y}<br>Count=%{z}<extra></extra>",
         "legendgroup": "출판",
         "marker": {
          "color": "#636efa",
          "symbol": "circle"
         },
         "mode": "markers",
         "name": "출판",
         "scene": "scene",
         "showlegend": true,
         "type": "scatter3d",
         "x": [
          2598.9268292682927
         ],
         "y": [
          28898937.024390243
         ],
         "z": [
          41
         ]
        },
        {
         "hovertemplate": "Category=테크·가전<br>FundPercentage=%{x}<br>FundAmount=%{y}<br>Count=%{z}<extra></extra>",
         "legendgroup": "테크·가전",
         "marker": {
          "color": "#EF553B",
          "symbol": "circle"
         },
         "mode": "markers",
         "name": "테크·가전",
         "scene": "scene",
         "showlegend": true,
         "type": "scatter3d",
         "x": [
          2943.8169596690796
         ],
         "y": [
          49619588.90279214
         ],
         "z": [
          967
         ]
        },
        {
         "hovertemplate": "Category=뷰티<br>FundPercentage=%{x}<br>FundAmount=%{y}<br>Count=%{z}<extra></extra>",
         "legendgroup": "뷰티",
         "marker": {
          "color": "#00cc96",
          "symbol": "circle"
         },
         "mode": "markers",
         "name": "뷰티",
         "scene": "scene",
         "showlegend": true,
         "type": "scatter3d",
         "x": [
          2532.1137339055795
         ],
         "y": [
          15807282.868025752
         ],
         "z": [
          932
         ]
        },
        {
         "hovertemplate": "Category=여행·레저<br>FundPercentage=%{x}<br>FundAmount=%{y}<br>Count=%{z}<extra></extra>",
         "legendgroup": "여행·레저",
         "marker": {
          "color": "#ab63fa",
          "symbol": "circle"
         },
         "mode": "markers",
         "name": "여행·레저",
         "scene": "scene",
         "showlegend": true,
         "type": "scatter3d",
         "x": [
          2903.1847389558234
         ],
         "y": [
          41417002.8875502
         ],
         "z": [
          249
         ]
        },
        {
         "hovertemplate": "Category=베이비·키즈<br>FundPercentage=%{x}<br>FundAmount=%{y}<br>Count=%{z}<extra></extra>",
         "legendgroup": "베이비·키즈",
         "marker": {
          "color": "#FFA15A",
          "symbol": "circle"
         },
         "mode": "markers",
         "name": "베이비·키즈",
         "scene": "scene",
         "showlegend": true,
         "type": "scatter3d",
         "x": [
          2366.38
         ],
         "y": [
          29397209.82
         ],
         "z": [
          50
         ]
        },
        {
         "hovertemplate": "Category=캐릭터·굿즈<br>FundPercentage=%{x}<br>FundAmount=%{y}<br>Count=%{z}<extra></extra>",
         "legendgroup": "캐릭터·굿즈",
         "marker": {
          "color": "#19d3f3",
          "symbol": "circle"
         },
         "mode": "markers",
         "name": "캐릭터·굿즈",
         "scene": "scene",
         "showlegend": true,
         "type": "scatter3d",
         "x": [
          2907.2380952380954
         ],
         "y": [
          28097827.38095238
         ],
         "z": [
          21
         ]
        },
        {
         "hovertemplate": "Category=스포츠·모빌리티<br>FundPercentage=%{x}<br>FundAmount=%{y}<br>Count=%{z}<extra></extra>",
         "legendgroup": "스포츠·모빌리티",
         "marker": {
          "color": "#FF6692",
          "symbol": "circle"
         },
         "mode": "markers",
         "name": "스포츠·모빌리티",
         "scene": "scene",
         "showlegend": true,
         "type": "scatter3d",
         "x": [
          2621.5612903225806
         ],
         "y": [
          42801555.770967744
         ],
         "z": [
          310
         ]
        },
        {
         "hovertemplate": "Category=게임·취미<br>FundPercentage=%{x}<br>FundAmount=%{y}<br>Count=%{z}<extra></extra>",
         "legendgroup": "게임·취미",
         "marker": {
          "color": "#B6E880",
          "symbol": "circle"
         },
         "mode": "markers",
         "name": "게임·취미",
         "scene": "scene",
         "showlegend": true,
         "type": "scatter3d",
         "x": [
          2469.679012345679
         ],
         "y": [
          43142064.95061728
         ],
         "z": [
          81
         ]
        },
        {
         "hovertemplate": "Category=홈·리빙<br>FundPercentage=%{x}<br>FundAmount=%{y}<br>Count=%{z}<extra></extra>",
         "legendgroup": "홈·리빙",
         "marker": {
          "color": "#FF97FF",
          "symbol": "circle"
         },
         "mode": "markers",
         "name": "홈·리빙",
         "scene": "scene",
         "showlegend": true,
         "type": "scatter3d",
         "x": [
          2437.0090579710145
         ],
         "y": [
          24625768.56521739
         ],
         "z": [
          1104
         ]
        },
        {
         "hovertemplate": "Category=패션·잡화<br>FundPercentage=%{x}<br>FundAmount=%{y}<br>Count=%{z}<extra></extra>",
         "legendgroup": "패션·잡화",
         "marker": {
          "color": "#FECB52",
          "symbol": "circle"
         },
         "mode": "markers",
         "name": "패션·잡화",
         "scene": "scene",
         "showlegend": true,
         "type": "scatter3d",
         "x": [
          2390.882025598219
         ],
         "y": [
          23638452.23316639
         ],
         "z": [
          1797
         ]
        },
        {
         "hovertemplate": "Category=소셜·캠페인<br>FundPercentage=%{x}<br>FundAmount=%{y}<br>Count=%{z}<extra></extra>",
         "legendgroup": "소셜·캠페인",
         "marker": {
          "color": "#636efa",
          "symbol": "circle"
         },
         "mode": "markers",
         "name": "소셜·캠페인",
         "scene": "scene",
         "showlegend": true,
         "type": "scatter3d",
         "x": [
          1945.7826086956522
         ],
         "y": [
          81444389.13043478
         ],
         "z": [
          23
         ]
        },
        {
         "hovertemplate": "Category=컬쳐·아티스트<br>FundPercentage=%{x}<br>FundAmount=%{y}<br>Count=%{z}<extra></extra>",
         "legendgroup": "컬쳐·아티스트",
         "marker": {
          "color": "#EF553B",
          "symbol": "circle"
         },
         "mode": "markers",
         "name": "컬쳐·아티스트",
         "scene": "scene",
         "showlegend": true,
         "type": "scatter3d",
         "x": [
          2286.323529411765
         ],
         "y": [
          43390170.4117647
         ],
         "z": [
          68
         ]
        },
        {
         "hovertemplate": "Category=반려동물<br>FundPercentage=%{x}<br>FundAmount=%{y}<br>Count=%{z}<extra></extra>",
         "legendgroup": "반려동물",
         "marker": {
          "color": "#00cc96",
          "symbol": "circle"
         },
         "mode": "markers",
         "name": "반려동물",
         "scene": "scene",
         "showlegend": true,
         "type": "scatter3d",
         "x": [
          2204.379518072289
         ],
         "y": [
          21293828.156626508
         ],
         "z": [
          332
         ]
        },
        {
         "hovertemplate": "Category=푸드<br>FundPercentage=%{x}<br>FundAmount=%{y}<br>Count=%{z}<extra></extra>",
         "legendgroup": "푸드",
         "marker": {
          "color": "#ab63fa",
          "symbol": "circle"
         },
         "mode": "markers",
         "name": "푸드",
         "scene": "scene",
         "showlegend": true,
         "type": "scatter3d",
         "x": [
          2132.956827309237
         ],
         "y": [
          16014626.156626506
         ],
         "z": [
          996
         ]
        },
        {
         "hovertemplate": "Category=클래스·컨설팅<br>FundPercentage=%{x}<br>FundAmount=%{y}<br>Count=%{z}<extra></extra>",
         "legendgroup": "클래스·컨설팅",
         "marker": {
          "color": "#FFA15A",
          "symbol": "circle"
         },
         "mode": "markers",
         "name": "클래스·컨설팅",
         "scene": "scene",
         "showlegend": true,
         "type": "scatter3d",
         "x": [
          1963.857142857143
         ],
         "y": [
          17205708.57142857
         ],
         "z": [
          70
         ]
        }
       ],
       "layout": {
        "legend": {
         "title": {
          "text": "Category"
         },
         "tracegroupgap": 0
        },
        "margin": {
         "t": 60
        },
        "scene": {
         "domain": {
          "x": [
           0,
           1
          ],
          "y": [
           0,
           1
          ]
         },
         "xaxis": {
          "title": {
           "text": "FundPercentage"
          }
         },
         "yaxis": {
          "title": {
           "text": "FundAmount"
          }
         },
         "zaxis": {
          "title": {
           "text": "Count"
          }
         }
        },
        "template": {
         "data": {
          "bar": [
           {
            "error_x": {
             "color": "#2a3f5f"
            },
            "error_y": {
             "color": "#2a3f5f"
            },
            "marker": {
             "line": {
              "color": "#E5ECF6",
              "width": 0.5
             },
             "pattern": {
              "fillmode": "overlay",
              "size": 10,
              "solidity": 0.2
             }
            },
            "type": "bar"
           }
          ],
          "barpolar": [
           {
            "marker": {
             "line": {
              "color": "#E5ECF6",
              "width": 0.5
             },
             "pattern": {
              "fillmode": "overlay",
              "size": 10,
              "solidity": 0.2
             }
            },
            "type": "barpolar"
           }
          ],
          "carpet": [
           {
            "aaxis": {
             "endlinecolor": "#2a3f5f",
             "gridcolor": "white",
             "linecolor": "white",
             "minorgridcolor": "white",
             "startlinecolor": "#2a3f5f"
            },
            "baxis": {
             "endlinecolor": "#2a3f5f",
             "gridcolor": "white",
             "linecolor": "white",
             "minorgridcolor": "white",
             "startlinecolor": "#2a3f5f"
            },
            "type": "carpet"
           }
          ],
          "choropleth": [
           {
            "colorbar": {
             "outlinewidth": 0,
             "ticks": ""
            },
            "type": "choropleth"
           }
          ],
          "contour": [
           {
            "colorbar": {
             "outlinewidth": 0,
             "ticks": ""
            },
            "colorscale": [
             [
              0,
              "#0d0887"
             ],
             [
              0.1111111111111111,
              "#46039f"
             ],
             [
              0.2222222222222222,
              "#7201a8"
             ],
             [
              0.3333333333333333,
              "#9c179e"
             ],
             [
              0.4444444444444444,
              "#bd3786"
             ],
             [
              0.5555555555555556,
              "#d8576b"
             ],
             [
              0.6666666666666666,
              "#ed7953"
             ],
             [
              0.7777777777777778,
              "#fb9f3a"
             ],
             [
              0.8888888888888888,
              "#fdca26"
             ],
             [
              1,
              "#f0f921"
             ]
            ],
            "type": "contour"
           }
          ],
          "contourcarpet": [
           {
            "colorbar": {
             "outlinewidth": 0,
             "ticks": ""
            },
            "type": "contourcarpet"
           }
          ],
          "heatmap": [
           {
            "colorbar": {
             "outlinewidth": 0,
             "ticks": ""
            },
            "colorscale": [
             [
              0,
              "#0d0887"
             ],
             [
              0.1111111111111111,
              "#46039f"
             ],
             [
              0.2222222222222222,
              "#7201a8"
             ],
             [
              0.3333333333333333,
              "#9c179e"
             ],
             [
              0.4444444444444444,
              "#bd3786"
             ],
             [
              0.5555555555555556,
              "#d8576b"
             ],
             [
              0.6666666666666666,
              "#ed7953"
             ],
             [
              0.7777777777777778,
              "#fb9f3a"
             ],
             [
              0.8888888888888888,
              "#fdca26"
             ],
             [
              1,
              "#f0f921"
             ]
            ],
            "type": "heatmap"
           }
          ],
          "heatmapgl": [
           {
            "colorbar": {
             "outlinewidth": 0,
             "ticks": ""
            },
            "colorscale": [
             [
              0,
              "#0d0887"
             ],
             [
              0.1111111111111111,
              "#46039f"
             ],
             [
              0.2222222222222222,
              "#7201a8"
             ],
             [
              0.3333333333333333,
              "#9c179e"
             ],
             [
              0.4444444444444444,
              "#bd3786"
             ],
             [
              0.5555555555555556,
              "#d8576b"
             ],
             [
              0.6666666666666666,
              "#ed7953"
             ],
             [
              0.7777777777777778,
              "#fb9f3a"
             ],
             [
              0.8888888888888888,
              "#fdca26"
             ],
             [
              1,
              "#f0f921"
             ]
            ],
            "type": "heatmapgl"
           }
          ],
          "histogram": [
           {
            "marker": {
             "pattern": {
              "fillmode": "overlay",
              "size": 10,
              "solidity": 0.2
             }
            },
            "type": "histogram"
           }
          ],
          "histogram2d": [
           {
            "colorbar": {
             "outlinewidth": 0,
             "ticks": ""
            },
            "colorscale": [
             [
              0,
              "#0d0887"
             ],
             [
              0.1111111111111111,
              "#46039f"
             ],
             [
              0.2222222222222222,
              "#7201a8"
             ],
             [
              0.3333333333333333,
              "#9c179e"
             ],
             [
              0.4444444444444444,
              "#bd3786"
             ],
             [
              0.5555555555555556,
              "#d8576b"
             ],
             [
              0.6666666666666666,
              "#ed7953"
             ],
             [
              0.7777777777777778,
              "#fb9f3a"
             ],
             [
              0.8888888888888888,
              "#fdca26"
             ],
             [
              1,
              "#f0f921"
             ]
            ],
            "type": "histogram2d"
           }
          ],
          "histogram2dcontour": [
           {
            "colorbar": {
             "outlinewidth": 0,
             "ticks": ""
            },
            "colorscale": [
             [
              0,
              "#0d0887"
             ],
             [
              0.1111111111111111,
              "#46039f"
             ],
             [
              0.2222222222222222,
              "#7201a8"
             ],
             [
              0.3333333333333333,
              "#9c179e"
             ],
             [
              0.4444444444444444,
              "#bd3786"
             ],
             [
              0.5555555555555556,
              "#d8576b"
             ],
             [
              0.6666666666666666,
              "#ed7953"
             ],
             [
              0.7777777777777778,
              "#fb9f3a"
             ],
             [
              0.8888888888888888,
              "#fdca26"
             ],
             [
              1,
              "#f0f921"
             ]
            ],
            "type": "histogram2dcontour"
           }
          ],
          "mesh3d": [
           {
            "colorbar": {
             "outlinewidth": 0,
             "ticks": ""
            },
            "type": "mesh3d"
           }
          ],
          "parcoords": [
           {
            "line": {
             "colorbar": {
              "outlinewidth": 0,
              "ticks": ""
             }
            },
            "type": "parcoords"
           }
          ],
          "pie": [
           {
            "automargin": true,
            "type": "pie"
           }
          ],
          "scatter": [
           {
            "marker": {
             "colorbar": {
              "outlinewidth": 0,
              "ticks": ""
             }
            },
            "type": "scatter"
           }
          ],
          "scatter3d": [
           {
            "line": {
             "colorbar": {
              "outlinewidth": 0,
              "ticks": ""
             }
            },
            "marker": {
             "colorbar": {
              "outlinewidth": 0,
              "ticks": ""
             }
            },
            "type": "scatter3d"
           }
          ],
          "scattercarpet": [
           {
            "marker": {
             "colorbar": {
              "outlinewidth": 0,
              "ticks": ""
             }
            },
            "type": "scattercarpet"
           }
          ],
          "scattergeo": [
           {
            "marker": {
             "colorbar": {
              "outlinewidth": 0,
              "ticks": ""
             }
            },
            "type": "scattergeo"
           }
          ],
          "scattergl": [
           {
            "marker": {
             "colorbar": {
              "outlinewidth": 0,
              "ticks": ""
             }
            },
            "type": "scattergl"
           }
          ],
          "scattermapbox": [
           {
            "marker": {
             "colorbar": {
              "outlinewidth": 0,
              "ticks": ""
             }
            },
            "type": "scattermapbox"
           }
          ],
          "scatterpolar": [
           {
            "marker": {
             "colorbar": {
              "outlinewidth": 0,
              "ticks": ""
             }
            },
            "type": "scatterpolar"
           }
          ],
          "scatterpolargl": [
           {
            "marker": {
             "colorbar": {
              "outlinewidth": 0,
              "ticks": ""
             }
            },
            "type": "scatterpolargl"
           }
          ],
          "scatterternary": [
           {
            "marker": {
             "colorbar": {
              "outlinewidth": 0,
              "ticks": ""
             }
            },
            "type": "scatterternary"
           }
          ],
          "surface": [
           {
            "colorbar": {
             "outlinewidth": 0,
             "ticks": ""
            },
            "colorscale": [
             [
              0,
              "#0d0887"
             ],
             [
              0.1111111111111111,
              "#46039f"
             ],
             [
              0.2222222222222222,
              "#7201a8"
             ],
             [
              0.3333333333333333,
              "#9c179e"
             ],
             [
              0.4444444444444444,
              "#bd3786"
             ],
             [
              0.5555555555555556,
              "#d8576b"
             ],
             [
              0.6666666666666666,
              "#ed7953"
             ],
             [
              0.7777777777777778,
              "#fb9f3a"
             ],
             [
              0.8888888888888888,
              "#fdca26"
             ],
             [
              1,
              "#f0f921"
             ]
            ],
            "type": "surface"
           }
          ],
          "table": [
           {
            "cells": {
             "fill": {
              "color": "#EBF0F8"
             },
             "line": {
              "color": "white"
             }
            },
            "header": {
             "fill": {
              "color": "#C8D4E3"
             },
             "line": {
              "color": "white"
             }
            },
            "type": "table"
           }
          ]
         },
         "layout": {
          "annotationdefaults": {
           "arrowcolor": "#2a3f5f",
           "arrowhead": 0,
           "arrowwidth": 1
          },
          "autotypenumbers": "strict",
          "coloraxis": {
           "colorbar": {
            "outlinewidth": 0,
            "ticks": ""
           }
          },
          "colorscale": {
           "diverging": [
            [
             0,
             "#8e0152"
            ],
            [
             0.1,
             "#c51b7d"
            ],
            [
             0.2,
             "#de77ae"
            ],
            [
             0.3,
             "#f1b6da"
            ],
            [
             0.4,
             "#fde0ef"
            ],
            [
             0.5,
             "#f7f7f7"
            ],
            [
             0.6,
             "#e6f5d0"
            ],
            [
             0.7,
             "#b8e186"
            ],
            [
             0.8,
             "#7fbc41"
            ],
            [
             0.9,
             "#4d9221"
            ],
            [
             1,
             "#276419"
            ]
           ],
           "sequential": [
            [
             0,
             "#0d0887"
            ],
            [
             0.1111111111111111,
             "#46039f"
            ],
            [
             0.2222222222222222,
             "#7201a8"
            ],
            [
             0.3333333333333333,
             "#9c179e"
            ],
            [
             0.4444444444444444,
             "#bd3786"
            ],
            [
             0.5555555555555556,
             "#d8576b"
            ],
            [
             0.6666666666666666,
             "#ed7953"
            ],
            [
             0.7777777777777778,
             "#fb9f3a"
            ],
            [
             0.8888888888888888,
             "#fdca26"
            ],
            [
             1,
             "#f0f921"
            ]
           ],
           "sequentialminus": [
            [
             0,
             "#0d0887"
            ],
            [
             0.1111111111111111,
             "#46039f"
            ],
            [
             0.2222222222222222,
             "#7201a8"
            ],
            [
             0.3333333333333333,
             "#9c179e"
            ],
            [
             0.4444444444444444,
             "#bd3786"
            ],
            [
             0.5555555555555556,
             "#d8576b"
            ],
            [
             0.6666666666666666,
             "#ed7953"
            ],
            [
             0.7777777777777778,
             "#fb9f3a"
            ],
            [
             0.8888888888888888,
             "#fdca26"
            ],
            [
             1,
             "#f0f921"
            ]
           ]
          },
          "colorway": [
           "#636efa",
           "#EF553B",
           "#00cc96",
           "#ab63fa",
           "#FFA15A",
           "#19d3f3",
           "#FF6692",
           "#B6E880",
           "#FF97FF",
           "#FECB52"
          ],
          "font": {
           "color": "#2a3f5f"
          },
          "geo": {
           "bgcolor": "white",
           "lakecolor": "white",
           "landcolor": "#E5ECF6",
           "showlakes": true,
           "showland": true,
           "subunitcolor": "white"
          },
          "hoverlabel": {
           "align": "left"
          },
          "hovermode": "closest",
          "mapbox": {
           "style": "light"
          },
          "paper_bgcolor": "white",
          "plot_bgcolor": "#E5ECF6",
          "polar": {
           "angularaxis": {
            "gridcolor": "white",
            "linecolor": "white",
            "ticks": ""
           },
           "bgcolor": "#E5ECF6",
           "radialaxis": {
            "gridcolor": "white",
            "linecolor": "white",
            "ticks": ""
           }
          },
          "scene": {
           "xaxis": {
            "backgroundcolor": "#E5ECF6",
            "gridcolor": "white",
            "gridwidth": 2,
            "linecolor": "white",
            "showbackground": true,
            "ticks": "",
            "zerolinecolor": "white"
           },
           "yaxis": {
            "backgroundcolor": "#E5ECF6",
            "gridcolor": "white",
            "gridwidth": 2,
            "linecolor": "white",
            "showbackground": true,
            "ticks": "",
            "zerolinecolor": "white"
           },
           "zaxis": {
            "backgroundcolor": "#E5ECF6",
            "gridcolor": "white",
            "gridwidth": 2,
            "linecolor": "white",
            "showbackground": true,
            "ticks": "",
            "zerolinecolor": "white"
           }
          },
          "shapedefaults": {
           "line": {
            "color": "#2a3f5f"
           }
          },
          "ternary": {
           "aaxis": {
            "gridcolor": "white",
            "linecolor": "white",
            "ticks": ""
           },
           "baxis": {
            "gridcolor": "white",
            "linecolor": "white",
            "ticks": ""
           },
           "bgcolor": "#E5ECF6",
           "caxis": {
            "gridcolor": "white",
            "linecolor": "white",
            "ticks": ""
           }
          },
          "title": {
           "x": 0.05
          },
          "xaxis": {
           "automargin": true,
           "gridcolor": "white",
           "linecolor": "white",
           "ticks": "",
           "title": {
            "standoff": 15
           },
           "zerolinecolor": "white",
           "zerolinewidth": 2
          },
          "yaxis": {
           "automargin": true,
           "gridcolor": "white",
           "linecolor": "white",
           "ticks": "",
           "title": {
            "standoff": 15
           },
           "zerolinecolor": "white",
           "zerolinewidth": 2
          }
         }
        }
       }
      }
     },
     "metadata": {},
     "output_type": "display_data"
    }
   ],
   "source": [
    "df[\"Count\"] = df[\"Category\"].map(dict_category_count)\n",
    "\n",
    "fig = px.scatter(df, x=\"FundPercentage\", y=\"FundAmount\", color=\"Category\", size=\"Count\")\n",
    "fig.show()\n",
    "\n",
    "fig = px.scatter_3d(df, x=\"FundPercentage\", y=\"FundAmount\", z=\"Count\", color=\"Category\")\n",
    "fig.show()"
   ]
  },
  {
   "cell_type": "markdown",
   "metadata": {},
   "source": [
    "3d scatter 보다 sized 2d scatter가 더 보기 쉽고 직관적이다."
   ]
  },
  {
   "cell_type": "code",
   "execution_count": null,
   "metadata": {},
   "outputs": [],
   "source": []
  }
 ],
 "metadata": {
  "kernelspec": {
   "display_name": "Python 3.9.12 ('jupy')",
   "language": "python",
   "name": "python3"
  },
  "language_info": {
   "codemirror_mode": {
    "name": "ipython",
    "version": 3
   },
   "file_extension": ".py",
   "mimetype": "text/x-python",
   "name": "python",
   "nbconvert_exporter": "python",
   "pygments_lexer": "ipython3",
   "version": "3.9.12"
  },
  "orig_nbformat": 4,
  "vscode": {
   "interpreter": {
    "hash": "4f2c90995bf61f046707788a0b73ac4bd8c7fa3f699490437d16f94fef7b744e"
   }
  }
 },
 "nbformat": 4,
 "nbformat_minor": 2
}
