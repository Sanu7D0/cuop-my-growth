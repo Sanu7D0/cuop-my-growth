{
 "cells": [
  {
   "cell_type": "code",
   "execution_count": 1,
   "metadata": {},
   "outputs": [
    {
     "name": "stderr",
     "output_type": "stream",
     "text": [
      "/Users/CUop/opt/anaconda3/envs/jupy/lib/python3.9/site-packages/requests/__init__.py:109: RequestsDependencyWarning: urllib3 (1.26.9) or chardet (5.0.0)/charset_normalizer (2.0.4) doesn't match a supported version!\n",
      "  warnings.warn(\n"
     ]
    }
   ],
   "source": [
    "import pandas as pd\n",
    "import numpy as np\n",
    "from coredotfinance.data import KrxReader\n",
    "krx = KrxReader()\n",
    "import dart_fss as dart\n",
    "\n",
    "from tqdm.auto import tqdm\n",
    "from time import sleep\n",
    "import FinanceDataReader as fdr\n",
    "import plotly.graph_objects as go\n",
    "from plotly.subplots import make_subplots"
   ]
  },
  {
   "cell_type": "code",
   "execution_count": null,
   "metadata": {},
   "outputs": [],
   "source": [
    "corp_df = krx.listed_company()\n",
    "corp_df"
   ]
  },
  {
   "cell_type": "code",
   "execution_count": null,
   "metadata": {},
   "outputs": [],
   "source": [
    "def get_report(key, corp_code, year, rpt_code):\n",
    "    import requests\n",
    "    from bs4 import BeautifulSoup\n",
    "    from lxml import html\n",
    "    from urllib.request import Request, urlopen\n",
    "    from urllib.parse import urlencode, quote_plus, unquote\n",
    "    \n",
    "    url = 'https://opendart.fss.or.kr/api/fnlttSinglAcntAll.json'\n",
    "    params = {\n",
    "        'crtfc_key': key,\n",
    "        'corp_code': corp_code,\n",
    "        'bsns_year': year,\n",
    "        'reprt_code': rpt_code,\n",
    "        'fs_div': 'OFS'\n",
    "    }\n",
    "    # response = requests.get(url, params=params).content.decode('UTF-8')\n",
    "    response = requests.get(url, params=params, timeout=3).json()\n",
    "    \n",
    "    return response"
   ]
  },
  {
   "cell_type": "code",
   "execution_count": null,
   "metadata": {},
   "outputs": [],
   "source": [
    "def get_corp_list(key):\n",
    "    import requests\n",
    "    from io import BytesIO\n",
    "    from zipfile import ZipFile\n",
    "    from xml.etree.ElementTree import parse\n",
    "    from bs4 import BeautifulSoup\n",
    "    from lxml import html\n",
    "    from urllib.request import Request, urlopen\n",
    "    from urllib.parse import urlencode, quote_plus, unquote\n",
    "    \n",
    "    url = 'https://opendart.fss.or.kr/api/corpCode.xml'\n",
    "    params = {'crtfc_key': key}\n",
    "    response = requests.get(url, params=params).content\n",
    "    \n",
    "    with ZipFile(BytesIO(response)) as zipfile:\n",
    "        zipfile.extractall('corpCode')\n",
    "    \n",
    "    xmlTree = parse('./corpCode/corpCode.xml')\n",
    "    root = xmlTree.getroot()\n",
    "    raw_list = root.findall('list')\n",
    "    \n",
    "    corp_list = {}\n",
    "    for i in range(len(raw_list)):\n",
    "        corp_code = raw_list[i].findtext('corp_code')\n",
    "        # corp_name = raw_list[i].findtext('corp_name')\n",
    "        stock_code = raw_list[i].findtext('stock_code')\n",
    "        # modify_date = raw_list[i].findtext('modify_date')\n",
    "        \n",
    "        # Ignore non-stock company\n",
    "        if stock_code == ' ':\n",
    "            continue\n",
    "        corp_list[stock_code] = corp_code\n",
    "    \n",
    "    return corp_list"
   ]
  },
  {
   "cell_type": "code",
   "execution_count": null,
   "metadata": {},
   "outputs": [],
   "source": [
    "API_KEY = 'a1f670c01770f59e59cd35917d87002ed5523869'\n",
    "YEAR = '2021'\n",
    "RPT_CODE = '11011'\n",
    "\n",
    "corp_list = get_corp_list(API_KEY)"
   ]
  },
  {
   "cell_type": "code",
   "execution_count": null,
   "metadata": {},
   "outputs": [],
   "source": [
    "print(len(corp_list))\n",
    "item_list = [\n",
    "    'ifrs-full_Revenue', \n",
    "    'ifrs-full_CostOfSales', \n",
    "    'ifrs-full_ProfitLoss',\n",
    "    'ifrs-full_Equity',\n",
    "    'ifrs-full_EquityAndLiabilities',\n",
    "]\n",
    "\n",
    "fs_list = []\n",
    "for i in tqdm(range(len(corp_df))):\n",
    "    ticker = corp_df.loc[i, '종목코드']\n",
    "    field_code = corp_df.loc[i, '업종코드']\n",
    "    field_name = corp_df.loc[i, '업종명']\n",
    "    # print('ticker:', ticker)\n",
    "\n",
    "    report = get_report(API_KEY, corp_list[ticker], YEAR, RPT_CODE)\n",
    "    if report['status'] == '020':\n",
    "        print('Request exceed!')\n",
    "        break\n",
    "    elif report['status'] != '000':\n",
    "        continue\n",
    "    report = report['list']\n",
    "    # print(type(report))\n",
    "    # print(report)\n",
    "    \n",
    "    fs_item_list = [field_name]\n",
    "    for item in item_list:\n",
    "        value = [x for x in report if x['account_id'] == item]\n",
    "        if value:\n",
    "            value = value[0]\n",
    "            fs_item_list.append(value['thstrm_amount'])\n",
    "        else:\n",
    "            fs_item_list.append(0)\n",
    "    fs_list.append(fs_item_list)\n",
    "    \n",
    "fs_df = pd.DataFrame(fs_list, columns=[\n",
    "    '업종명',\n",
    "    '매출액',\n",
    "    '매출원가',\n",
    "    '당기순이익',\n",
    "    '자본총계',\n",
    "    '부채 및 자본 총계'\n",
    "])\n",
    "print(fs_df.info())\n",
    "fs_df"
   ]
  },
  {
   "cell_type": "code",
   "execution_count": null,
   "metadata": {},
   "outputs": [],
   "source": [
    "convert_list = ['매출액', '매출원가', '당기순이익', '자본총계', '부채 및 자본 총계']\n",
    "for item in convert_list:\n",
    "    fs_df[item] = pd.to_numeric(fs_df[item], downcast='integer')\n",
    "\n",
    "fs_df.groupby(fs_df['업종명']).sum().to_csv('./data/fields_sum.csv')\n",
    "fs_df.groupby(fs_df['업종명']).mean().to_csv('./data/fields_mean.csv')"
   ]
  },
  {
   "cell_type": "code",
   "execution_count": null,
   "metadata": {},
   "outputs": [],
   "source": [
    "df = fs_df.sort_values(by=['매출액'], ascending=False)[:10]\n",
    "\n",
    "fig = go.Figure(data=go.Bar(\n",
    "    x = df['업종명'],\n",
    "    y = df['매출액'],\n",
    "))\n",
    "fig.update_layout(yaxis_range=[0, 1e15])\n",
    "fig.show()"
   ]
  },
  {
   "cell_type": "code",
   "execution_count": null,
   "metadata": {},
   "outputs": [],
   "source": [
    "df = fs_df.sort_values(by=['부채 및 자본 총계'], ascending=False)[:10]\n",
    "\n",
    "fig = go.Figure(data=go.Bar(\n",
    "    x = df['업종명'],\n",
    "    y = df['부채 및 자본 총계'],\n",
    "))\n",
    "fig.update_layout(yaxis_range=[0, 1e15])\n",
    "fig.show()"
   ]
  },
  {
   "cell_type": "code",
   "execution_count": null,
   "metadata": {},
   "outputs": [],
   "source": [
    "DAY = '20220701'\n",
    "\n",
    "df = []\n",
    "for i in tqdm(range(len(corp_df))):\n",
    "    ticker = corp_df.loc[i, '종목코드']\n",
    "    field_name = corp_df.loc[i, '업종명']\n",
    "\n",
    "    series = fdr.DataReader(ticker, DAY, DAY)\n",
    "    market_cap = series.iloc[0, 3] * series.iloc[0, 4]\n",
    "    df.append([field_name, market_cap])\n",
    "\n",
    "mc_df = pd.DataFrame(df, columns=['업종명', '시가총액'])\n",
    "mc_df"
   ]
  },
  {
   "cell_type": "code",
   "execution_count": null,
   "metadata": {},
   "outputs": [],
   "source": [
    "# df = mc_df.groupby(mc_df['업종명']).sum()\n",
    "mc_df['dummy'] = 0\n",
    "df = mc_df.groupby('업종명').sum()\n",
    "df = df.sort_values(by=['시가총액'], ascending=False)[:10]\n",
    "\n",
    "fig = go.Figure(data=go.Bar(\n",
    "    x = df.index,\n",
    "    y = df['시가총액'],\n",
    "))\n",
    "fig.update_layout(title='시가총액')\n",
    "# fig.update_xaxes(tickangle = 20)\n",
    "fig.show()"
   ]
  }
 ],
 "metadata": {
  "kernelspec": {
   "display_name": "Python 3.9.12 ('jupy')",
   "language": "python",
   "name": "python3"
  },
  "language_info": {
   "codemirror_mode": {
    "name": "ipython",
    "version": 3
   },
   "file_extension": ".py",
   "mimetype": "text/x-python",
   "name": "python",
   "nbconvert_exporter": "python",
   "pygments_lexer": "ipython3",
   "version": "3.9.12"
  },
  "orig_nbformat": 4,
  "vscode": {
   "interpreter": {
    "hash": "4f2c90995bf61f046707788a0b73ac4bd8c7fa3f699490437d16f94fef7b744e"
   }
  }
 },
 "nbformat": 4,
 "nbformat_minor": 2
}
