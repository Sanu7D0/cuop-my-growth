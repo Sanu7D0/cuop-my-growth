{
 "cells": [
  {
   "cell_type": "code",
   "execution_count": 149,
   "metadata": {},
   "outputs": [],
   "source": [
    "import pandas as pd\n",
    "import numpy as np\n",
    "from tqdm.auto import tqdm\n",
    "import requests\n",
    "from bs4 import BeautifulSoup\n",
    "# import html\n",
    "from datetime import datetime"
   ]
  },
  {
   "cell_type": "code",
   "execution_count": 75,
   "metadata": {},
   "outputs": [],
   "source": [
    "r = requests.get(\"https://vrdb.app/quest/index_us.json?_=1658122226355\")\n",
    "j = r.json()"
   ]
  },
  {
   "cell_type": "code",
   "execution_count": 76,
   "metadata": {},
   "outputs": [
    {
     "data": {
      "text/html": [
       "<div>\n",
       "<style scoped>\n",
       "    .dataframe tbody tr th:only-of-type {\n",
       "        vertical-align: middle;\n",
       "    }\n",
       "\n",
       "    .dataframe tbody tr th {\n",
       "        vertical-align: top;\n",
       "    }\n",
       "\n",
       "    .dataframe thead th {\n",
       "        text-align: right;\n",
       "    }\n",
       "</style>\n",
       "<table border=\"1\" class=\"dataframe\">\n",
       "  <thead>\n",
       "    <tr style=\"text-align: right;\">\n",
       "      <th></th>\n",
       "      <th>Popularity</th>\n",
       "      <th>Title</th>\n",
       "      <th>Score</th>\n",
       "      <th>Ratings</th>\n",
       "      <th>Price</th>\n",
       "      <th>ReleaseDate</th>\n",
       "      <th>Genre</th>\n",
       "      <th>Size</th>\n",
       "      <th>Url</th>\n",
       "    </tr>\n",
       "  </thead>\n",
       "  <tbody>\n",
       "    <tr>\n",
       "      <th>0</th>\n",
       "      <td>2</td>\n",
       "      <td>2MD: VR Football Unleashed ALL-STAR</td>\n",
       "      <td>88</td>\n",
       "      <td>1891</td>\n",
       "      <td>14.99</td>\n",
       "      <td>2020-01-09</td>\n",
       "      <td>Sports, Arcade</td>\n",
       "      <td>2.01 GB</td>\n",
       "      <td>https://www.oculus.com/experiences/quest/25920...</td>\n",
       "    </tr>\n",
       "    <tr>\n",
       "      <th>1</th>\n",
       "      <td>2</td>\n",
       "      <td>A Fisherman's Tale</td>\n",
       "      <td>91</td>\n",
       "      <td>2010</td>\n",
       "      <td>14.99</td>\n",
       "      <td>2019-11-27</td>\n",
       "      <td>Interactive Story, Puzzle</td>\n",
       "      <td>2.12 GB</td>\n",
       "      <td>https://www.oculus.com/experiences/quest/22999...</td>\n",
       "    </tr>\n",
       "    <tr>\n",
       "      <th>2</th>\n",
       "      <td>0</td>\n",
       "      <td>A Rogue Escape</td>\n",
       "      <td>76</td>\n",
       "      <td>95</td>\n",
       "      <td>19.99</td>\n",
       "      <td>2021-06-10</td>\n",
       "      <td>Adventure, Puzzle</td>\n",
       "      <td>1.1 GB</td>\n",
       "      <td>https://www.oculus.com/experiences/quest/38161...</td>\n",
       "    </tr>\n",
       "    <tr>\n",
       "      <th>3</th>\n",
       "      <td>15</td>\n",
       "      <td>A Township Tale</td>\n",
       "      <td>82</td>\n",
       "      <td>5397</td>\n",
       "      <td>9.99</td>\n",
       "      <td>2021-07-13</td>\n",
       "      <td>Adventure, RPG (Role Playing Games)</td>\n",
       "      <td>763.3 MB</td>\n",
       "      <td>https://www.oculus.com/experiences/quest/29139...</td>\n",
       "    </tr>\n",
       "    <tr>\n",
       "      <th>4</th>\n",
       "      <td>1</td>\n",
       "      <td>AFFECTED: The Manor - Complete Edition</td>\n",
       "      <td>79</td>\n",
       "      <td>812</td>\n",
       "      <td>9.99</td>\n",
       "      <td>2019-12-12</td>\n",
       "      <td>Action, Horror</td>\n",
       "      <td>1.27 GB</td>\n",
       "      <td>https://www.oculus.com/experiences/quest/29677...</td>\n",
       "    </tr>\n",
       "    <tr>\n",
       "      <th>...</th>\n",
       "      <td>...</td>\n",
       "      <td>...</td>\n",
       "      <td>...</td>\n",
       "      <td>...</td>\n",
       "      <td>...</td>\n",
       "      <td>...</td>\n",
       "      <td>...</td>\n",
       "      <td>...</td>\n",
       "      <td>...</td>\n",
       "    </tr>\n",
       "    <tr>\n",
       "      <th>384</th>\n",
       "      <td>5</td>\n",
       "      <td>Zero Caliber: Reloaded</td>\n",
       "      <td>88</td>\n",
       "      <td>2166</td>\n",
       "      <td>24.99</td>\n",
       "      <td>2021-05-13</td>\n",
       "      <td>Shooting, Action</td>\n",
       "      <td>3.75 GB</td>\n",
       "      <td>https://www.oculus.com/experiences/quest/35919...</td>\n",
       "    </tr>\n",
       "    <tr>\n",
       "      <th>385</th>\n",
       "      <td>2</td>\n",
       "      <td>Zombieland: Headshot Fever</td>\n",
       "      <td>88</td>\n",
       "      <td>759</td>\n",
       "      <td>19.99</td>\n",
       "      <td>2021-03-25</td>\n",
       "      <td>Arcade, Shooting</td>\n",
       "      <td>1.97 GB</td>\n",
       "      <td>https://www.oculus.com/experiences/quest/27924...</td>\n",
       "    </tr>\n",
       "    <tr>\n",
       "      <th>386</th>\n",
       "      <td>1</td>\n",
       "      <td>ecosphere</td>\n",
       "      <td>81</td>\n",
       "      <td>396</td>\n",
       "      <td>0</td>\n",
       "      <td>2020-06-07</td>\n",
       "      <td>Travel &amp; Exploration, Nature</td>\n",
       "      <td>2.36 GB</td>\n",
       "      <td>https://www.oculus.com/experiences/quest/29260...</td>\n",
       "    </tr>\n",
       "    <tr>\n",
       "      <th>387</th>\n",
       "      <td>0</td>\n",
       "      <td>vSpatial</td>\n",
       "      <td>61</td>\n",
       "      <td>179</td>\n",
       "      <td>0</td>\n",
       "      <td>2020-08-13</td>\n",
       "      <td>Business, Utilities</td>\n",
       "      <td>551.7 MB</td>\n",
       "      <td>https://www.oculus.com/experiences/quest/25403...</td>\n",
       "    </tr>\n",
       "    <tr>\n",
       "      <th>388</th>\n",
       "      <td>0</td>\n",
       "      <td>vTime XR</td>\n",
       "      <td>72</td>\n",
       "      <td>135</td>\n",
       "      <td>0</td>\n",
       "      <td>2020-11-05</td>\n",
       "      <td>Social</td>\n",
       "      <td>629.7 MB</td>\n",
       "      <td>https://www.oculus.com/experiences/quest/19619...</td>\n",
       "    </tr>\n",
       "  </tbody>\n",
       "</table>\n",
       "<p>389 rows × 9 columns</p>\n",
       "</div>"
      ],
      "text/plain": [
       "    Popularity                                   Title Score Ratings  Price  \\\n",
       "0            2     2MD: VR Football Unleashed ALL-STAR    88    1891  14.99   \n",
       "1            2                      A Fisherman's Tale    91    2010  14.99   \n",
       "2            0                          A Rogue Escape    76      95  19.99   \n",
       "3           15                         A Township Tale    82    5397   9.99   \n",
       "4            1  AFFECTED: The Manor - Complete Edition    79     812   9.99   \n",
       "..         ...                                     ...   ...     ...    ...   \n",
       "384          5                  Zero Caliber: Reloaded    88    2166  24.99   \n",
       "385          2              Zombieland: Headshot Fever    88     759  19.99   \n",
       "386          1                               ecosphere    81     396      0   \n",
       "387          0                                vSpatial    61     179      0   \n",
       "388          0                                vTime XR    72     135      0   \n",
       "\n",
       "    ReleaseDate                                Genre      Size  \\\n",
       "0    2020-01-09                       Sports, Arcade   2.01 GB   \n",
       "1    2019-11-27            Interactive Story, Puzzle   2.12 GB   \n",
       "2    2021-06-10                    Adventure, Puzzle    1.1 GB   \n",
       "3    2021-07-13  Adventure, RPG (Role Playing Games)  763.3 MB   \n",
       "4    2019-12-12                       Action, Horror   1.27 GB   \n",
       "..          ...                                  ...       ...   \n",
       "384  2021-05-13                     Shooting, Action   3.75 GB   \n",
       "385  2021-03-25                     Arcade, Shooting   1.97 GB   \n",
       "386  2020-06-07         Travel & Exploration, Nature   2.36 GB   \n",
       "387  2020-08-13                  Business, Utilities  551.7 MB   \n",
       "388  2020-11-05                               Social  629.7 MB   \n",
       "\n",
       "                                                   Url  \n",
       "0    https://www.oculus.com/experiences/quest/25920...  \n",
       "1    https://www.oculus.com/experiences/quest/22999...  \n",
       "2    https://www.oculus.com/experiences/quest/38161...  \n",
       "3    https://www.oculus.com/experiences/quest/29139...  \n",
       "4    https://www.oculus.com/experiences/quest/29677...  \n",
       "..                                                 ...  \n",
       "384  https://www.oculus.com/experiences/quest/35919...  \n",
       "385  https://www.oculus.com/experiences/quest/27924...  \n",
       "386  https://www.oculus.com/experiences/quest/29260...  \n",
       "387  https://www.oculus.com/experiences/quest/25403...  \n",
       "388  https://www.oculus.com/experiences/quest/19619...  \n",
       "\n",
       "[389 rows x 9 columns]"
      ]
     },
     "execution_count": 76,
     "metadata": {},
     "output_type": "execute_result"
    }
   ],
   "source": [
    "data = j[\"data\"]\n",
    "df = pd.DataFrame(\n",
    "    data,\n",
    "    columns=[\n",
    "        \"Popularity\",\n",
    "        \"Title\",\n",
    "        \"-\",\n",
    "        \"Score\",\n",
    "        \"Ratings\",\n",
    "        \"Price\",\n",
    "        \"-\",\n",
    "        \"-\",\n",
    "        \"-\",\n",
    "        \"-\",\n",
    "        \"ReleaseDate\",\n",
    "        \"Genre\",\n",
    "        \"Size\",\n",
    "        \"-\",\n",
    "        \"-\",\n",
    "        \"-\",\n",
    "        \"-\"\n",
    "    ],\n",
    ")\n",
    "\n",
    "def parse_score(s: str):\n",
    "    bs = BeautifulSoup(s)\n",
    "    if BeautifulSoup(s).select_one(\"a\") is not None:\n",
    "        return BeautifulSoup(s).select_one(\"a\").text\n",
    "    else:\n",
    "        return s\n",
    "\n",
    "df.drop(\"-\", axis=1, inplace=True)\n",
    "df[\"Url\"] = df[\"Title\"].map(lambda x: BeautifulSoup(x).select_one(\"a\")[\"href\"])\n",
    "df[\"Title\"] = df[\"Title\"].map(lambda x: BeautifulSoup(x).select_one(\"span\").text)\n",
    "df[\"Score\"] = df[\"Score\"].map(parse_score)\n",
    "df[\"Popularity\"] = df[\"Popularity\"].map(lambda x: x if x.isdigit() else BeautifulSoup(x).select_one(\"span\").text)\n",
    "df.to_csv(\"./dataset/oculus_game_list.csv\")\n",
    "df"
   ]
  },
  {
   "cell_type": "code",
   "execution_count": null,
   "metadata": {},
   "outputs": [],
   "source": [
    "r = requests.get(\"https://vrdb.app/steamvr/index_us.json?_=1658125475705\")\n",
    "j = r.json()"
   ]
  },
  {
   "cell_type": "code",
   "execution_count": 73,
   "metadata": {},
   "outputs": [
    {
     "data": {
      "text/html": [
       "<div>\n",
       "<style scoped>\n",
       "    .dataframe tbody tr th:only-of-type {\n",
       "        vertical-align: middle;\n",
       "    }\n",
       "\n",
       "    .dataframe tbody tr th {\n",
       "        vertical-align: top;\n",
       "    }\n",
       "\n",
       "    .dataframe thead th {\n",
       "        text-align: right;\n",
       "    }\n",
       "</style>\n",
       "<table border=\"1\" class=\"dataframe\">\n",
       "  <thead>\n",
       "    <tr style=\"text-align: right;\">\n",
       "      <th></th>\n",
       "      <th>Popularity</th>\n",
       "      <th>Title</th>\n",
       "      <th>Score</th>\n",
       "      <th>Reviews</th>\n",
       "      <th>Price</th>\n",
       "      <th>ReleaseDate</th>\n",
       "      <th>VrTarget</th>\n",
       "      <th>Genre</th>\n",
       "      <th>Url</th>\n",
       "    </tr>\n",
       "  </thead>\n",
       "  <tbody>\n",
       "    <tr>\n",
       "      <th>0</th>\n",
       "      <td>551</td>\n",
       "      <td>Phasmophobia</td>\n",
       "      <td>97</td>\n",
       "      <td>368347</td>\n",
       "      <td>13.99</td>\n",
       "      <td>2020-09-18</td>\n",
       "      <td>VR Supported</td>\n",
       "      <td>Action,Early Access,Indie</td>\n",
       "      <td>https://store.steampowered.com/app/739630/</td>\n",
       "    </tr>\n",
       "    <tr>\n",
       "      <th>1</th>\n",
       "      <td>493</td>\n",
       "      <td>Dota 2</td>\n",
       "      <td>85</td>\n",
       "      <td>1230015</td>\n",
       "      <td>0</td>\n",
       "      <td>2013-07-09</td>\n",
       "      <td>VR Supported</td>\n",
       "      <td>Action,Free to Play,Strategy</td>\n",
       "      <td>https://store.steampowered.com/app/570/</td>\n",
       "    </tr>\n",
       "    <tr>\n",
       "      <th>2</th>\n",
       "      <td>311</td>\n",
       "      <td>F1® 22</td>\n",
       "      <td>66</td>\n",
       "      <td>5603</td>\n",
       "      <td>59.99</td>\n",
       "      <td>2022-06-30</td>\n",
       "      <td>VR Supported</td>\n",
       "      <td>Racing,Sports</td>\n",
       "      <td>https://store.steampowered.com/app/1692250/</td>\n",
       "    </tr>\n",
       "    <tr>\n",
       "      <th>3</th>\n",
       "      <td>212</td>\n",
       "      <td>The Forest</td>\n",
       "      <td>95</td>\n",
       "      <td>326538</td>\n",
       "      <td>19.99</td>\n",
       "      <td>2018-04-30</td>\n",
       "      <td>VR Supported</td>\n",
       "      <td></td>\n",
       "      <td>https://store.steampowered.com/app/242760/</td>\n",
       "    </tr>\n",
       "    <tr>\n",
       "      <th>4</th>\n",
       "      <td>125</td>\n",
       "      <td>Rec Room</td>\n",
       "      <td>91</td>\n",
       "      <td>39951</td>\n",
       "      <td>0</td>\n",
       "      <td>2021-09-02</td>\n",
       "      <td>VR Supported</td>\n",
       "      <td>Action,Adventure,Casual,Early Access,Free to P...</td>\n",
       "      <td>https://store.steampowered.com/app/471710/</td>\n",
       "    </tr>\n",
       "    <tr>\n",
       "      <th>...</th>\n",
       "      <td>...</td>\n",
       "      <td>...</td>\n",
       "      <td>...</td>\n",
       "      <td>...</td>\n",
       "      <td>...</td>\n",
       "      <td>...</td>\n",
       "      <td>...</td>\n",
       "      <td>...</td>\n",
       "      <td>...</td>\n",
       "    </tr>\n",
       "    <tr>\n",
       "      <th>2779</th>\n",
       "      <td>0</td>\n",
       "      <td>Theme Park Studio</td>\n",
       "      <td>37</td>\n",
       "      <td>350</td>\n",
       "      <td>29.99</td>\n",
       "      <td>2016-12-02</td>\n",
       "      <td>VR Supported</td>\n",
       "      <td>Indie,Simulation</td>\n",
       "      <td>https://store.steampowered.com/app/254590/</td>\n",
       "    </tr>\n",
       "    <tr>\n",
       "      <th>2780</th>\n",
       "      <td>0</td>\n",
       "      <td>World of Diving</td>\n",
       "      <td>52</td>\n",
       "      <td>477</td>\n",
       "      <td>19.99</td>\n",
       "      <td>2014-08-26</td>\n",
       "      <td>VR Supported</td>\n",
       "      <td>Adventure,Early Access,Indie,Simulation</td>\n",
       "      <td>https://store.steampowered.com/app/251890/</td>\n",
       "    </tr>\n",
       "    <tr>\n",
       "      <th>2781</th>\n",
       "      <td>0</td>\n",
       "      <td>Leadwerks Game Engine</td>\n",
       "      <td>72</td>\n",
       "      <td>299</td>\n",
       "      <td>49.99</td>\n",
       "      <td>2014-01-06</td>\n",
       "      <td>VR Supported</td>\n",
       "      <td>Animation &amp; Modeling,Design &amp; Illustration,Edu...</td>\n",
       "      <td>https://store.steampowered.com/app/251810/</td>\n",
       "    </tr>\n",
       "    <tr>\n",
       "      <th>2782</th>\n",
       "      <td>0</td>\n",
       "      <td>Legend of Dungeon</td>\n",
       "      <td>73</td>\n",
       "      <td>1173</td>\n",
       "      <td>9.99</td>\n",
       "      <td>2013-09-13</td>\n",
       "      <td>VR Supported</td>\n",
       "      <td>Action,Indie,RPG</td>\n",
       "      <td>https://store.steampowered.com/app/238280/</td>\n",
       "    </tr>\n",
       "    <tr>\n",
       "      <th>2783</th>\n",
       "      <td>0</td>\n",
       "      <td>Lunar Flight</td>\n",
       "      <td>85</td>\n",
       "      <td>478</td>\n",
       "      <td>14.99</td>\n",
       "      <td>2012-04-10</td>\n",
       "      <td>VR Supported</td>\n",
       "      <td>Indie,Simulation</td>\n",
       "      <td>https://store.steampowered.com/app/208600/</td>\n",
       "    </tr>\n",
       "  </tbody>\n",
       "</table>\n",
       "<p>2784 rows × 9 columns</p>\n",
       "</div>"
      ],
      "text/plain": [
       "     Popularity                  Title Score  Reviews  Price ReleaseDate  \\\n",
       "0           551           Phasmophobia    97   368347  13.99  2020-09-18   \n",
       "1           493                 Dota 2    85  1230015      0  2013-07-09   \n",
       "2           311                 F1® 22    66     5603  59.99  2022-06-30   \n",
       "3           212             The Forest    95   326538  19.99  2018-04-30   \n",
       "4           125               Rec Room    91    39951      0  2021-09-02   \n",
       "...         ...                    ...   ...      ...    ...         ...   \n",
       "2779          0      Theme Park Studio    37      350  29.99  2016-12-02   \n",
       "2780          0        World of Diving    52      477  19.99  2014-08-26   \n",
       "2781          0  Leadwerks Game Engine    72      299  49.99  2014-01-06   \n",
       "2782          0      Legend of Dungeon    73     1173   9.99  2013-09-13   \n",
       "2783          0           Lunar Flight    85      478  14.99  2012-04-10   \n",
       "\n",
       "          VrTarget                                              Genre  \\\n",
       "0     VR Supported                          Action,Early Access,Indie   \n",
       "1     VR Supported                       Action,Free to Play,Strategy   \n",
       "2     VR Supported                                      Racing,Sports   \n",
       "3     VR Supported                                                      \n",
       "4     VR Supported  Action,Adventure,Casual,Early Access,Free to P...   \n",
       "...            ...                                                ...   \n",
       "2779  VR Supported                                   Indie,Simulation   \n",
       "2780  VR Supported            Adventure,Early Access,Indie,Simulation   \n",
       "2781  VR Supported  Animation & Modeling,Design & Illustration,Edu...   \n",
       "2782  VR Supported                                   Action,Indie,RPG   \n",
       "2783  VR Supported                                   Indie,Simulation   \n",
       "\n",
       "                                              Url  \n",
       "0      https://store.steampowered.com/app/739630/  \n",
       "1         https://store.steampowered.com/app/570/  \n",
       "2     https://store.steampowered.com/app/1692250/  \n",
       "3      https://store.steampowered.com/app/242760/  \n",
       "4      https://store.steampowered.com/app/471710/  \n",
       "...                                           ...  \n",
       "2779   https://store.steampowered.com/app/254590/  \n",
       "2780   https://store.steampowered.com/app/251890/  \n",
       "2781   https://store.steampowered.com/app/251810/  \n",
       "2782   https://store.steampowered.com/app/238280/  \n",
       "2783   https://store.steampowered.com/app/208600/  \n",
       "\n",
       "[2784 rows x 9 columns]"
      ]
     },
     "execution_count": 73,
     "metadata": {},
     "output_type": "execute_result"
    }
   ],
   "source": [
    "data = j[\"data\"]\n",
    "df = pd.DataFrame(\n",
    "    data,\n",
    "    columns=[\n",
    "        \"Popularity\",\n",
    "        \"Title\",\n",
    "        \"-\",\n",
    "        \"Score\",\n",
    "        \"Reviews\",\n",
    "        \"Price\",\n",
    "        \"-\",\n",
    "        \"-\",\n",
    "        \"-\",\n",
    "        \"-\",\n",
    "        \"ReleaseDate\",\n",
    "        \"VrTarget\",\n",
    "        \"Genre\",\n",
    "        \"-\",\n",
    "    ],\n",
    ")\n",
    "df.drop(\"-\", axis=1, inplace=True)\n",
    "df[\"Url\"] = df[\"Title\"].map(lambda x: BeautifulSoup(x).select_one(\"a\")[\"href\"])\n",
    "df[\"Title\"] = df[\"Title\"].map(lambda x: BeautifulSoup(x).select_one(\"span\").text)\n",
    "df[\"VrTarget\"] = df[\"VrTarget\"].map(lambda x: x.split(\",\")[-1])\n",
    "df.to_csv(\"./dataset/steamvr_game_list.csv\")\n",
    "df"
   ]
  },
  {
   "cell_type": "code",
   "execution_count": 154,
   "metadata": {},
   "outputs": [],
   "source": [
    "import plotly.graph_objects as go\n",
    "import plotly.express as px\n",
    "# import plotly.io as pio\n",
    "# pio.renderers.default = \"notebook\"\n",
    "\n",
    "from collections import defaultdict"
   ]
  },
  {
   "cell_type": "code",
   "execution_count": null,
   "metadata": {},
   "outputs": [],
   "source": []
  },
  {
   "cell_type": "code",
   "execution_count": 137,
   "metadata": {},
   "outputs": [
    {
     "data": {
      "text/plain": [
       "[('Adventure', 73),\n",
       " ('Arcade', 64),\n",
       " ('Action', 59),\n",
       " ('Shooting', 52),\n",
       " ('Sports', 38),\n",
       " ('Social', 36),\n",
       " ('Puzzle', 34),\n",
       " ('Casual', 31),\n",
       " ('Simulation', 25),\n",
       " ('Interactive Story', 24),\n",
       " ('Media & Streaming', 24),\n",
       " ('Music & Rhythm', 18),\n",
       " ('Creativity & Design', 16),\n",
       " ('Horror', 15),\n",
       " ('Productivity', 15),\n",
       " ('RPG (Role Playing Games)', 14),\n",
       " ('Education', 13),\n",
       " ('Animation', 12),\n",
       " ('Travel & Exploration', 11),\n",
       " ('Racing', 10),\n",
       " ('Health & Fitness', 10),\n",
       " ('Utilities', 9),\n",
       " ('Fighting', 9),\n",
       " ('Documentary', 8),\n",
       " ('Space & Universe', 7),\n",
       " ('Fantasy', 7),\n",
       " ('Nature', 7),\n",
       " ('Flying', 7),\n",
       " ('Family', 6),\n",
       " ('2D', 6),\n",
       " ('Strategy', 5),\n",
       " ('History', 4),\n",
       " ('Music', 3),\n",
       " ('Science Fiction', 3),\n",
       " ('Theatre', 3),\n",
       " ('Romance', 3),\n",
       " ('Lifestyle', 3),\n",
       " ('Drama', 2),\n",
       " ('TV Shows', 2),\n",
       " ('Relaxation & Meditation', 2),\n",
       " ('Events', 2),\n",
       " ('Business', 2),\n",
       " ('Experimental', 2),\n",
       " ('Arcade Racing', 1),\n",
       " ('Movies', 1),\n",
       " ('Construction & Management Simulation', 1),\n",
       " ('Battle Royale', 1),\n",
       " ('Comedy', 1),\n",
       " ('Casino & Poker', 1),\n",
       " ('Survival Horror', 1)]"
      ]
     },
     "execution_count": 137,
     "metadata": {},
     "output_type": "execute_result"
    }
   ],
   "source": [
    "# df = pd.read_csv(\"./dataset/steamvr_game_list.csv\", index_col=0).dropna(axis=0, subset=[\"Genre\"]).reset_index(drop=True)\n",
    "df = pd.read_csv(\"./dataset/oculus_game_list.csv\", index_col=0).dropna(axis=0, subset=[\"Genre\"]).reset_index(drop=True)\n",
    "\n",
    "genre_count = defaultdict(int)\n",
    "for i in range(len(df)):\n",
    "    genres = df.loc[i, \"Genre\"].split(\", \")\n",
    "    for g in genres:\n",
    "        genre_count[g] += 1\n",
    "sorted(genre_count.items(), key=lambda x: x[1], reverse=True)"
   ]
  },
  {
   "cell_type": "code",
   "execution_count": 192,
   "metadata": {},
   "outputs": [
    {
     "data": {
      "application/vnd.plotly.v1+json": {
       "config": {
        "plotlyServerURL": "https://plotly.com"
       },
       "data": [
        {
         "hovertemplate": "Genre=2D<br>ReleaseQuarter=%{x}<br>Count=%{y}<extra></extra>",
         "legendgroup": "2D",
         "line": {
          "color": "#636efa",
          "dash": "solid"
         },
         "marker": {
          "symbol": "circle"
         },
         "mode": "lines",
         "name": "2D",
         "orientation": "v",
         "showlegend": true,
         "type": "scatter",
         "x": [
          "2019 Q2",
          "2021 Q4"
         ],
         "xaxis": "x",
         "y": [
          1,
          6
         ],
         "yaxis": "y"
        },
        {
         "hovertemplate": "Genre=Action<br>ReleaseQuarter=%{x}<br>Count=%{y}<extra></extra>",
         "legendgroup": "Action",
         "line": {
          "color": "#EF553B",
          "dash": "solid"
         },
         "marker": {
          "symbol": "circle"
         },
         "mode": "lines",
         "name": "Action",
         "orientation": "v",
         "showlegend": true,
         "type": "scatter",
         "x": [
          "2019 Q2",
          "2019 Q3",
          "2019 Q4",
          "2020 Q1",
          "2020 Q2",
          "2020 Q3",
          "2020 Q4",
          "2021 Q1",
          "2021 Q2",
          "2021 Q3",
          "2021 Q4",
          "2022 Q1",
          "2022 Q2",
          "2022 Q3"
         ],
         "xaxis": "x",
         "y": [
          8,
          16,
          20,
          22,
          23,
          28,
          33,
          38,
          42,
          46,
          50,
          55,
          58,
          59
         ],
         "yaxis": "y"
        },
        {
         "hovertemplate": "Genre=Adventure<br>ReleaseQuarter=%{x}<br>Count=%{y}<extra></extra>",
         "legendgroup": "Adventure",
         "line": {
          "color": "#00cc96",
          "dash": "solid"
         },
         "marker": {
          "symbol": "circle"
         },
         "mode": "lines",
         "name": "Adventure",
         "orientation": "v",
         "showlegend": true,
         "type": "scatter",
         "x": [
          "2019 Q2",
          "2019 Q3",
          "2019 Q4",
          "2020 Q1",
          "2020 Q2",
          "2020 Q3",
          "2020 Q4",
          "2021 Q1",
          "2021 Q2",
          "2021 Q3",
          "2021 Q4",
          "2022 Q1",
          "2022 Q2",
          "2022 Q3"
         ],
         "xaxis": "x",
         "y": [
          10,
          15,
          20,
          26,
          29,
          31,
          37,
          39,
          44,
          53,
          59,
          66,
          70,
          73
         ],
         "yaxis": "y"
        },
        {
         "hovertemplate": "Genre=Animation<br>ReleaseQuarter=%{x}<br>Count=%{y}<extra></extra>",
         "legendgroup": "Animation",
         "line": {
          "color": "#ab63fa",
          "dash": "solid"
         },
         "marker": {
          "symbol": "circle"
         },
         "mode": "lines",
         "name": "Animation",
         "orientation": "v",
         "showlegend": true,
         "type": "scatter",
         "x": [
          "2019 Q2",
          "2019 Q4",
          "2020 Q2",
          "2020 Q4",
          "2021 Q1",
          "2021 Q3"
         ],
         "xaxis": "x",
         "y": [
          1,
          3,
          7,
          10,
          11,
          12
         ],
         "yaxis": "y"
        },
        {
         "hovertemplate": "Genre=Arcade<br>ReleaseQuarter=%{x}<br>Count=%{y}<extra></extra>",
         "legendgroup": "Arcade",
         "line": {
          "color": "#FFA15A",
          "dash": "solid"
         },
         "marker": {
          "symbol": "circle"
         },
         "mode": "lines",
         "name": "Arcade",
         "orientation": "v",
         "showlegend": true,
         "type": "scatter",
         "x": [
          "2019 Q2",
          "2019 Q3",
          "2019 Q4",
          "2020 Q1",
          "2020 Q2",
          "2020 Q3",
          "2020 Q4",
          "2021 Q1",
          "2021 Q2",
          "2021 Q3",
          "2021 Q4",
          "2022 Q1",
          "2022 Q2"
         ],
         "xaxis": "x",
         "y": [
          9,
          15,
          18,
          21,
          28,
          33,
          36,
          40,
          48,
          53,
          57,
          59,
          64
         ],
         "yaxis": "y"
        },
        {
         "hovertemplate": "Genre=Arcade Racing<br>ReleaseQuarter=%{x}<br>Count=%{y}<extra></extra>",
         "legendgroup": "Arcade Racing",
         "line": {
          "color": "#19d3f3",
          "dash": "solid"
         },
         "marker": {
          "symbol": "circle"
         },
         "mode": "lines",
         "name": "Arcade Racing",
         "orientation": "v",
         "showlegend": true,
         "type": "scatter",
         "x": [
          "2019 Q4"
         ],
         "xaxis": "x",
         "y": [
          1
         ],
         "yaxis": "y"
        },
        {
         "hovertemplate": "Genre=Battle Royale<br>ReleaseQuarter=%{x}<br>Count=%{y}<extra></extra>",
         "legendgroup": "Battle Royale",
         "line": {
          "color": "#FF6692",
          "dash": "solid"
         },
         "marker": {
          "symbol": "circle"
         },
         "mode": "lines",
         "name": "Battle Royale",
         "orientation": "v",
         "showlegend": true,
         "type": "scatter",
         "x": [
          "2020 Q4"
         ],
         "xaxis": "x",
         "y": [
          1
         ],
         "yaxis": "y"
        },
        {
         "hovertemplate": "Genre=Business<br>ReleaseQuarter=%{x}<br>Count=%{y}<extra></extra>",
         "legendgroup": "Business",
         "line": {
          "color": "#B6E880",
          "dash": "solid"
         },
         "marker": {
          "symbol": "circle"
         },
         "mode": "lines",
         "name": "Business",
         "orientation": "v",
         "showlegend": true,
         "type": "scatter",
         "x": [
          "2020 Q3",
          "2022 Q2"
         ],
         "xaxis": "x",
         "y": [
          1,
          2
         ],
         "yaxis": "y"
        },
        {
         "hovertemplate": "Genre=Casino & Poker<br>ReleaseQuarter=%{x}<br>Count=%{y}<extra></extra>",
         "legendgroup": "Casino & Poker",
         "line": {
          "color": "#FF97FF",
          "dash": "solid"
         },
         "marker": {
          "symbol": "circle"
         },
         "mode": "lines",
         "name": "Casino & Poker",
         "orientation": "v",
         "showlegend": true,
         "type": "scatter",
         "x": [
          "2019 Q3"
         ],
         "xaxis": "x",
         "y": [
          1
         ],
         "yaxis": "y"
        },
        {
         "hovertemplate": "Genre=Casual<br>ReleaseQuarter=%{x}<br>Count=%{y}<extra></extra>",
         "legendgroup": "Casual",
         "line": {
          "color": "#FECB52",
          "dash": "solid"
         },
         "marker": {
          "symbol": "circle"
         },
         "mode": "lines",
         "name": "Casual",
         "orientation": "v",
         "showlegend": true,
         "type": "scatter",
         "x": [
          "2019 Q2",
          "2019 Q3",
          "2019 Q4",
          "2020 Q1",
          "2020 Q3",
          "2020 Q4",
          "2021 Q1",
          "2021 Q2",
          "2021 Q3",
          "2021 Q4",
          "2022 Q1",
          "2022 Q2"
         ],
         "xaxis": "x",
         "y": [
          9,
          10,
          11,
          12,
          14,
          17,
          19,
          23,
          27,
          29,
          30,
          31
         ],
         "yaxis": "y"
        },
        {
         "hovertemplate": "Genre=Comedy<br>ReleaseQuarter=%{x}<br>Count=%{y}<extra></extra>",
         "legendgroup": "Comedy",
         "line": {
          "color": "#636efa",
          "dash": "solid"
         },
         "marker": {
          "symbol": "circle"
         },
         "mode": "lines",
         "name": "Comedy",
         "orientation": "v",
         "showlegend": true,
         "type": "scatter",
         "x": [
          "2019 Q2"
         ],
         "xaxis": "x",
         "y": [
          1
         ],
         "yaxis": "y"
        },
        {
         "hovertemplate": "Genre=Construction & Management Simulation<br>ReleaseQuarter=%{x}<br>Count=%{y}<extra></extra>",
         "legendgroup": "Construction & Management Simulation",
         "line": {
          "color": "#EF553B",
          "dash": "solid"
         },
         "marker": {
          "symbol": "circle"
         },
         "mode": "lines",
         "name": "Construction & Management Simulation",
         "orientation": "v",
         "showlegend": true,
         "type": "scatter",
         "x": [
          "2022 Q2"
         ],
         "xaxis": "x",
         "y": [
          1
         ],
         "yaxis": "y"
        },
        {
         "hovertemplate": "Genre=Creativity & Design<br>ReleaseQuarter=%{x}<br>Count=%{y}<extra></extra>",
         "legendgroup": "Creativity & Design",
         "line": {
          "color": "#00cc96",
          "dash": "solid"
         },
         "marker": {
          "symbol": "circle"
         },
         "mode": "lines",
         "name": "Creativity & Design",
         "orientation": "v",
         "showlegend": true,
         "type": "scatter",
         "x": [
          "2019 Q2",
          "2019 Q3",
          "2019 Q4",
          "2020 Q1",
          "2020 Q2",
          "2021 Q1",
          "2021 Q2",
          "2021 Q3",
          "2021 Q4",
          "2022 Q1",
          "2022 Q3"
         ],
         "xaxis": "x",
         "y": [
          2,
          5,
          7,
          8,
          9,
          10,
          11,
          12,
          13,
          15,
          16
         ],
         "yaxis": "y"
        },
        {
         "hovertemplate": "Genre=Documentary<br>ReleaseQuarter=%{x}<br>Count=%{y}<extra></extra>",
         "legendgroup": "Documentary",
         "line": {
          "color": "#ab63fa",
          "dash": "solid"
         },
         "marker": {
          "symbol": "circle"
         },
         "mode": "lines",
         "name": "Documentary",
         "orientation": "v",
         "showlegend": true,
         "type": "scatter",
         "x": [
          "2019 Q3",
          "2020 Q1",
          "2020 Q3",
          "2020 Q4",
          "2021 Q3",
          "2022 Q1"
         ],
         "xaxis": "x",
         "y": [
          2,
          3,
          4,
          6,
          7,
          8
         ],
         "yaxis": "y"
        },
        {
         "hovertemplate": "Genre=Drama<br>ReleaseQuarter=%{x}<br>Count=%{y}<extra></extra>",
         "legendgroup": "Drama",
         "line": {
          "color": "#FFA15A",
          "dash": "solid"
         },
         "marker": {
          "symbol": "circle"
         },
         "mode": "lines",
         "name": "Drama",
         "orientation": "v",
         "showlegend": true,
         "type": "scatter",
         "x": [
          "2019 Q4",
          "2021 Q1"
         ],
         "xaxis": "x",
         "y": [
          1,
          2
         ],
         "yaxis": "y"
        },
        {
         "hovertemplate": "Genre=Education<br>ReleaseQuarter=%{x}<br>Count=%{y}<extra></extra>",
         "legendgroup": "Education",
         "line": {
          "color": "#19d3f3",
          "dash": "solid"
         },
         "marker": {
          "symbol": "circle"
         },
         "mode": "lines",
         "name": "Education",
         "orientation": "v",
         "showlegend": true,
         "type": "scatter",
         "x": [
          "2019 Q2",
          "2019 Q3",
          "2019 Q4",
          "2020 Q3",
          "2020 Q4",
          "2021 Q2",
          "2021 Q3",
          "2022 Q1"
         ],
         "xaxis": "x",
         "y": [
          1,
          5,
          6,
          7,
          9,
          10,
          12,
          13
         ],
         "yaxis": "y"
        },
        {
         "hovertemplate": "Genre=Events<br>ReleaseQuarter=%{x}<br>Count=%{y}<extra></extra>",
         "legendgroup": "Events",
         "line": {
          "color": "#FF6692",
          "dash": "solid"
         },
         "marker": {
          "symbol": "circle"
         },
         "mode": "lines",
         "name": "Events",
         "orientation": "v",
         "showlegend": true,
         "type": "scatter",
         "x": [
          "2019 Q3",
          "2019 Q4"
         ],
         "xaxis": "x",
         "y": [
          1,
          2
         ],
         "yaxis": "y"
        },
        {
         "hovertemplate": "Genre=Experimental<br>ReleaseQuarter=%{x}<br>Count=%{y}<extra></extra>",
         "legendgroup": "Experimental",
         "line": {
          "color": "#B6E880",
          "dash": "solid"
         },
         "marker": {
          "symbol": "circle"
         },
         "mode": "lines",
         "name": "Experimental",
         "orientation": "v",
         "showlegend": true,
         "type": "scatter",
         "x": [
          "2019 Q4"
         ],
         "xaxis": "x",
         "y": [
          2
         ],
         "yaxis": "y"
        },
        {
         "hovertemplate": "Genre=Family<br>ReleaseQuarter=%{x}<br>Count=%{y}<extra></extra>",
         "legendgroup": "Family",
         "line": {
          "color": "#FF97FF",
          "dash": "solid"
         },
         "marker": {
          "symbol": "circle"
         },
         "mode": "lines",
         "name": "Family",
         "orientation": "v",
         "showlegend": true,
         "type": "scatter",
         "x": [
          "2019 Q2",
          "2019 Q4",
          "2020 Q2",
          "2020 Q4",
          "2021 Q3"
         ],
         "xaxis": "x",
         "y": [
          1,
          2,
          3,
          5,
          6
         ],
         "yaxis": "y"
        },
        {
         "hovertemplate": "Genre=Fantasy<br>ReleaseQuarter=%{x}<br>Count=%{y}<extra></extra>",
         "legendgroup": "Fantasy",
         "line": {
          "color": "#FECB52",
          "dash": "solid"
         },
         "marker": {
          "symbol": "circle"
         },
         "mode": "lines",
         "name": "Fantasy",
         "orientation": "v",
         "showlegend": true,
         "type": "scatter",
         "x": [
          "2019 Q2",
          "2019 Q3",
          "2019 Q4",
          "2020 Q2",
          "2021 Q1"
         ],
         "xaxis": "x",
         "y": [
          1,
          2,
          4,
          6,
          7
         ],
         "yaxis": "y"
        },
        {
         "hovertemplate": "Genre=Fighting<br>ReleaseQuarter=%{x}<br>Count=%{y}<extra></extra>",
         "legendgroup": "Fighting",
         "line": {
          "color": "#636efa",
          "dash": "solid"
         },
         "marker": {
          "symbol": "circle"
         },
         "mode": "lines",
         "name": "Fighting",
         "orientation": "v",
         "showlegend": true,
         "type": "scatter",
         "x": [
          "2019 Q2",
          "2019 Q3",
          "2019 Q4",
          "2020 Q2",
          "2021 Q1",
          "2021 Q3",
          "2021 Q4"
         ],
         "xaxis": "x",
         "y": [
          2,
          3,
          5,
          6,
          7,
          8,
          9
         ],
         "yaxis": "y"
        },
        {
         "hovertemplate": "Genre=Flying<br>ReleaseQuarter=%{x}<br>Count=%{y}<extra></extra>",
         "legendgroup": "Flying",
         "line": {
          "color": "#EF553B",
          "dash": "solid"
         },
         "marker": {
          "symbol": "circle"
         },
         "mode": "lines",
         "name": "Flying",
         "orientation": "v",
         "showlegend": true,
         "type": "scatter",
         "x": [
          "2019 Q2",
          "2019 Q3",
          "2020 Q3",
          "2020 Q4",
          "2021 Q1",
          "2022 Q1"
         ],
         "xaxis": "x",
         "y": [
          2,
          3,
          4,
          5,
          6,
          7
         ],
         "yaxis": "y"
        },
        {
         "hovertemplate": "Genre=Health & Fitness<br>ReleaseQuarter=%{x}<br>Count=%{y}<extra></extra>",
         "legendgroup": "Health & Fitness",
         "line": {
          "color": "#00cc96",
          "dash": "solid"
         },
         "marker": {
          "symbol": "circle"
         },
         "mode": "lines",
         "name": "Health & Fitness",
         "orientation": "v",
         "showlegend": true,
         "type": "scatter",
         "x": [
          "2019 Q2",
          "2019 Q4",
          "2020 Q2",
          "2021 Q1",
          "2021 Q4",
          "2022 Q1",
          "2022 Q2"
         ],
         "xaxis": "x",
         "y": [
          2,
          3,
          4,
          6,
          7,
          9,
          10
         ],
         "yaxis": "y"
        },
        {
         "hovertemplate": "Genre=History<br>ReleaseQuarter=%{x}<br>Count=%{y}<extra></extra>",
         "legendgroup": "History",
         "line": {
          "color": "#ab63fa",
          "dash": "solid"
         },
         "marker": {
          "symbol": "circle"
         },
         "mode": "lines",
         "name": "History",
         "orientation": "v",
         "showlegend": true,
         "type": "scatter",
         "x": [
          "2019 Q2",
          "2019 Q3",
          "2022 Q1"
         ],
         "xaxis": "x",
         "y": [
          2,
          3,
          4
         ],
         "yaxis": "y"
        },
        {
         "hovertemplate": "Genre=Horror<br>ReleaseQuarter=%{x}<br>Count=%{y}<extra></extra>",
         "legendgroup": "Horror",
         "line": {
          "color": "#FFA15A",
          "dash": "solid"
         },
         "marker": {
          "symbol": "circle"
         },
         "mode": "lines",
         "name": "Horror",
         "orientation": "v",
         "showlegend": true,
         "type": "scatter",
         "x": [
          "2019 Q2",
          "2019 Q3",
          "2019 Q4",
          "2020 Q1",
          "2020 Q3",
          "2020 Q4",
          "2021 Q1",
          "2021 Q2",
          "2021 Q3",
          "2021 Q4"
         ],
         "xaxis": "x",
         "y": [
          2,
          3,
          6,
          7,
          9,
          10,
          12,
          13,
          14,
          15
         ],
         "yaxis": "y"
        },
        {
         "hovertemplate": "Genre=Interactive Story<br>ReleaseQuarter=%{x}<br>Count=%{y}<extra></extra>",
         "legendgroup": "Interactive Story",
         "line": {
          "color": "#19d3f3",
          "dash": "solid"
         },
         "marker": {
          "symbol": "circle"
         },
         "mode": "lines",
         "name": "Interactive Story",
         "orientation": "v",
         "showlegend": true,
         "type": "scatter",
         "x": [
          "2019 Q2",
          "2019 Q3",
          "2019 Q4",
          "2020 Q1",
          "2020 Q2",
          "2020 Q4",
          "2021 Q1",
          "2021 Q3",
          "2021 Q4",
          "2022 Q1",
          "2022 Q2",
          "2022 Q3"
         ],
         "xaxis": "x",
         "y": [
          3,
          4,
          7,
          9,
          10,
          12,
          13,
          17,
          19,
          21,
          23,
          24
         ],
         "yaxis": "y"
        },
        {
         "hovertemplate": "Genre=Lifestyle<br>ReleaseQuarter=%{x}<br>Count=%{y}<extra></extra>",
         "legendgroup": "Lifestyle",
         "line": {
          "color": "#FF6692",
          "dash": "solid"
         },
         "marker": {
          "symbol": "circle"
         },
         "mode": "lines",
         "name": "Lifestyle",
         "orientation": "v",
         "showlegend": true,
         "type": "scatter",
         "x": [
          "2021 Q1",
          "2021 Q2",
          "2022 Q1"
         ],
         "xaxis": "x",
         "y": [
          1,
          2,
          3
         ],
         "yaxis": "y"
        },
        {
         "hovertemplate": "Genre=Media & Streaming<br>ReleaseQuarter=%{x}<br>Count=%{y}<extra></extra>",
         "legendgroup": "Media & Streaming",
         "line": {
          "color": "#B6E880",
          "dash": "solid"
         },
         "marker": {
          "symbol": "circle"
         },
         "mode": "lines",
         "name": "Media & Streaming",
         "orientation": "v",
         "showlegend": true,
         "type": "scatter",
         "x": [
          "2019 Q2",
          "2019 Q3",
          "2019 Q4",
          "2020 Q1",
          "2020 Q2",
          "2020 Q3",
          "2021 Q4"
         ],
         "xaxis": "x",
         "y": [
          14,
          18,
          19,
          20,
          21,
          23,
          24
         ],
         "yaxis": "y"
        },
        {
         "hovertemplate": "Genre=Movies<br>ReleaseQuarter=%{x}<br>Count=%{y}<extra></extra>",
         "legendgroup": "Movies",
         "line": {
          "color": "#FF97FF",
          "dash": "solid"
         },
         "marker": {
          "symbol": "circle"
         },
         "mode": "lines",
         "name": "Movies",
         "orientation": "v",
         "showlegend": true,
         "type": "scatter",
         "x": [
          "2022 Q2"
         ],
         "xaxis": "x",
         "y": [
          1
         ],
         "yaxis": "y"
        },
        {
         "hovertemplate": "Genre=Music<br>ReleaseQuarter=%{x}<br>Count=%{y}<extra></extra>",
         "legendgroup": "Music",
         "line": {
          "color": "#FECB52",
          "dash": "solid"
         },
         "marker": {
          "symbol": "circle"
         },
         "mode": "lines",
         "name": "Music",
         "orientation": "v",
         "showlegend": true,
         "type": "scatter",
         "x": [
          "2020 Q2",
          "2020 Q3",
          "2021 Q1"
         ],
         "xaxis": "x",
         "y": [
          1,
          2,
          3
         ],
         "yaxis": "y"
        },
        {
         "hovertemplate": "Genre=Music & Rhythm<br>ReleaseQuarter=%{x}<br>Count=%{y}<extra></extra>",
         "legendgroup": "Music & Rhythm",
         "line": {
          "color": "#636efa",
          "dash": "solid"
         },
         "marker": {
          "symbol": "circle"
         },
         "mode": "lines",
         "name": "Music & Rhythm",
         "orientation": "v",
         "showlegend": true,
         "type": "scatter",
         "x": [
          "2019 Q2",
          "2019 Q4",
          "2020 Q1",
          "2020 Q2",
          "2020 Q4",
          "2021 Q2",
          "2021 Q3",
          "2021 Q4",
          "2022 Q1"
         ],
         "xaxis": "x",
         "y": [
          3,
          5,
          7,
          9,
          13,
          14,
          16,
          17,
          18
         ],
         "yaxis": "y"
        },
        {
         "hovertemplate": "Genre=Nature<br>ReleaseQuarter=%{x}<br>Count=%{y}<extra></extra>",
         "legendgroup": "Nature",
         "line": {
          "color": "#EF553B",
          "dash": "solid"
         },
         "marker": {
          "symbol": "circle"
         },
         "mode": "lines",
         "name": "Nature",
         "orientation": "v",
         "showlegend": true,
         "type": "scatter",
         "x": [
          "2019 Q2",
          "2020 Q1",
          "2020 Q2",
          "2021 Q2"
         ],
         "xaxis": "x",
         "y": [
          4,
          5,
          6,
          7
         ],
         "yaxis": "y"
        },
        {
         "hovertemplate": "Genre=Productivity<br>ReleaseQuarter=%{x}<br>Count=%{y}<extra></extra>",
         "legendgroup": "Productivity",
         "line": {
          "color": "#00cc96",
          "dash": "solid"
         },
         "marker": {
          "symbol": "circle"
         },
         "mode": "lines",
         "name": "Productivity",
         "orientation": "v",
         "showlegend": true,
         "type": "scatter",
         "x": [
          "2019 Q2",
          "2020 Q3",
          "2021 Q1",
          "2021 Q2",
          "2021 Q3",
          "2021 Q4",
          "2022 Q1",
          "2022 Q2"
         ],
         "xaxis": "x",
         "y": [
          2,
          3,
          5,
          7,
          9,
          12,
          14,
          15
         ],
         "yaxis": "y"
        },
        {
         "hovertemplate": "Genre=Puzzle<br>ReleaseQuarter=%{x}<br>Count=%{y}<extra></extra>",
         "legendgroup": "Puzzle",
         "line": {
          "color": "#ab63fa",
          "dash": "solid"
         },
         "marker": {
          "symbol": "circle"
         },
         "mode": "lines",
         "name": "Puzzle",
         "orientation": "v",
         "showlegend": true,
         "type": "scatter",
         "x": [
          "2019 Q2",
          "2019 Q3",
          "2019 Q4",
          "2020 Q1",
          "2020 Q2",
          "2020 Q3",
          "2020 Q4",
          "2021 Q1",
          "2021 Q2",
          "2021 Q3",
          "2022 Q1",
          "2022 Q2"
         ],
         "xaxis": "x",
         "y": [
          6,
          10,
          13,
          16,
          17,
          22,
          23,
          27,
          30,
          32,
          33,
          34
         ],
         "yaxis": "y"
        },
        {
         "hovertemplate": "Genre=RPG (Role Playing Games)<br>ReleaseQuarter=%{x}<br>Count=%{y}<extra></extra>",
         "legendgroup": "RPG (Role Playing Games)",
         "line": {
          "color": "#FFA15A",
          "dash": "solid"
         },
         "marker": {
          "symbol": "circle"
         },
         "mode": "lines",
         "name": "RPG (Role Playing Games)",
         "orientation": "v",
         "showlegend": true,
         "type": "scatter",
         "x": [
          "2019 Q2",
          "2019 Q3",
          "2019 Q4",
          "2020 Q3",
          "2021 Q1",
          "2021 Q2",
          "2021 Q3",
          "2021 Q4",
          "2022 Q1",
          "2022 Q3"
         ],
         "xaxis": "x",
         "y": [
          2,
          3,
          4,
          6,
          7,
          9,
          10,
          12,
          13,
          14
         ],
         "yaxis": "y"
        },
        {
         "hovertemplate": "Genre=Racing<br>ReleaseQuarter=%{x}<br>Count=%{y}<extra></extra>",
         "legendgroup": "Racing",
         "line": {
          "color": "#19d3f3",
          "dash": "solid"
         },
         "marker": {
          "symbol": "circle"
         },
         "mode": "lines",
         "name": "Racing",
         "orientation": "v",
         "showlegend": true,
         "type": "scatter",
         "x": [
          "2019 Q2",
          "2019 Q4",
          "2020 Q2",
          "2020 Q3",
          "2020 Q4",
          "2021 Q1",
          "2022 Q2"
         ],
         "xaxis": "x",
         "y": [
          3,
          4,
          5,
          6,
          8,
          9,
          10
         ],
         "yaxis": "y"
        },
        {
         "hovertemplate": "Genre=Relaxation & Meditation<br>ReleaseQuarter=%{x}<br>Count=%{y}<extra></extra>",
         "legendgroup": "Relaxation & Meditation",
         "line": {
          "color": "#FF6692",
          "dash": "solid"
         },
         "marker": {
          "symbol": "circle"
         },
         "mode": "lines",
         "name": "Relaxation & Meditation",
         "orientation": "v",
         "showlegend": true,
         "type": "scatter",
         "x": [
          "2021 Q1",
          "2021 Q2"
         ],
         "xaxis": "x",
         "y": [
          1,
          2
         ],
         "yaxis": "y"
        },
        {
         "hovertemplate": "Genre=Romance<br>ReleaseQuarter=%{x}<br>Count=%{y}<extra></extra>",
         "legendgroup": "Romance",
         "line": {
          "color": "#B6E880",
          "dash": "solid"
         },
         "marker": {
          "symbol": "circle"
         },
         "mode": "lines",
         "name": "Romance",
         "orientation": "v",
         "showlegend": true,
         "type": "scatter",
         "x": [
          "2019 Q4",
          "2020 Q2"
         ],
         "xaxis": "x",
         "y": [
          1,
          3
         ],
         "yaxis": "y"
        },
        {
         "hovertemplate": "Genre=Science Fiction<br>ReleaseQuarter=%{x}<br>Count=%{y}<extra></extra>",
         "legendgroup": "Science Fiction",
         "line": {
          "color": "#FF97FF",
          "dash": "solid"
         },
         "marker": {
          "symbol": "circle"
         },
         "mode": "lines",
         "name": "Science Fiction",
         "orientation": "v",
         "showlegend": true,
         "type": "scatter",
         "x": [
          "2019 Q2",
          "2020 Q1",
          "2020 Q4"
         ],
         "xaxis": "x",
         "y": [
          1,
          2,
          3
         ],
         "yaxis": "y"
        },
        {
         "hovertemplate": "Genre=Shooting<br>ReleaseQuarter=%{x}<br>Count=%{y}<extra></extra>",
         "legendgroup": "Shooting",
         "line": {
          "color": "#FECB52",
          "dash": "solid"
         },
         "marker": {
          "symbol": "circle"
         },
         "mode": "lines",
         "name": "Shooting",
         "orientation": "v",
         "showlegend": true,
         "type": "scatter",
         "x": [
          "2019 Q2",
          "2019 Q3",
          "2019 Q4",
          "2020 Q1",
          "2020 Q2",
          "2020 Q3",
          "2020 Q4",
          "2021 Q1",
          "2021 Q2",
          "2021 Q3",
          "2021 Q4",
          "2022 Q1",
          "2022 Q2",
          "2022 Q3"
         ],
         "xaxis": "x",
         "y": [
          7,
          10,
          14,
          15,
          17,
          23,
          29,
          34,
          36,
          40,
          43,
          46,
          51,
          52
         ],
         "yaxis": "y"
        },
        {
         "hovertemplate": "Genre=Simulation<br>ReleaseQuarter=%{x}<br>Count=%{y}<extra></extra>",
         "legendgroup": "Simulation",
         "line": {
          "color": "#636efa",
          "dash": "solid"
         },
         "marker": {
          "symbol": "circle"
         },
         "mode": "lines",
         "name": "Simulation",
         "orientation": "v",
         "showlegend": true,
         "type": "scatter",
         "x": [
          "2019 Q2",
          "2019 Q3",
          "2019 Q4",
          "2020 Q1",
          "2020 Q2",
          "2020 Q3",
          "2020 Q4",
          "2021 Q1",
          "2021 Q2",
          "2021 Q3",
          "2021 Q4",
          "2022 Q1",
          "2022 Q2",
          "2022 Q3"
         ],
         "xaxis": "x",
         "y": [
          2,
          5,
          8,
          9,
          11,
          13,
          14,
          15,
          17,
          18,
          22,
          23,
          24,
          25
         ],
         "yaxis": "y"
        },
        {
         "hovertemplate": "Genre=Social<br>ReleaseQuarter=%{x}<br>Count=%{y}<extra></extra>",
         "legendgroup": "Social",
         "line": {
          "color": "#EF553B",
          "dash": "solid"
         },
         "marker": {
          "symbol": "circle"
         },
         "mode": "lines",
         "name": "Social",
         "orientation": "v",
         "showlegend": true,
         "type": "scatter",
         "x": [
          "2019 Q2",
          "2019 Q3",
          "2019 Q4",
          "2020 Q1",
          "2020 Q2",
          "2020 Q3",
          "2020 Q4",
          "2021 Q1",
          "2021 Q2",
          "2021 Q3",
          "2021 Q4"
         ],
         "xaxis": "x",
         "y": [
          6,
          12,
          13,
          14,
          16,
          20,
          22,
          26,
          29,
          33,
          36
         ],
         "yaxis": "y"
        },
        {
         "hovertemplate": "Genre=Space & Universe<br>ReleaseQuarter=%{x}<br>Count=%{y}<extra></extra>",
         "legendgroup": "Space & Universe",
         "line": {
          "color": "#00cc96",
          "dash": "solid"
         },
         "marker": {
          "symbol": "circle"
         },
         "mode": "lines",
         "name": "Space & Universe",
         "orientation": "v",
         "showlegend": true,
         "type": "scatter",
         "x": [
          "2019 Q2",
          "2019 Q3",
          "2019 Q4",
          "2020 Q1",
          "2020 Q4"
         ],
         "xaxis": "x",
         "y": [
          1,
          3,
          4,
          5,
          7
         ],
         "yaxis": "y"
        },
        {
         "hovertemplate": "Genre=Sports<br>ReleaseQuarter=%{x}<br>Count=%{y}<extra></extra>",
         "legendgroup": "Sports",
         "line": {
          "color": "#ab63fa",
          "dash": "solid"
         },
         "marker": {
          "symbol": "circle"
         },
         "mode": "lines",
         "name": "Sports",
         "orientation": "v",
         "showlegend": true,
         "type": "scatter",
         "x": [
          "2019 Q2",
          "2019 Q3",
          "2019 Q4",
          "2020 Q1",
          "2020 Q2",
          "2020 Q3",
          "2020 Q4",
          "2021 Q1",
          "2021 Q2",
          "2021 Q3",
          "2021 Q4",
          "2022 Q1",
          "2022 Q2"
         ],
         "xaxis": "x",
         "y": [
          7,
          10,
          12,
          14,
          17,
          19,
          20,
          22,
          25,
          31,
          34,
          36,
          38
         ],
         "yaxis": "y"
        },
        {
         "hovertemplate": "Genre=Strategy<br>ReleaseQuarter=%{x}<br>Count=%{y}<extra></extra>",
         "legendgroup": "Strategy",
         "line": {
          "color": "#FFA15A",
          "dash": "solid"
         },
         "marker": {
          "symbol": "circle"
         },
         "mode": "lines",
         "name": "Strategy",
         "orientation": "v",
         "showlegend": true,
         "type": "scatter",
         "x": [
          "2019 Q3",
          "2020 Q4",
          "2021 Q1",
          "2021 Q2"
         ],
         "xaxis": "x",
         "y": [
          1,
          2,
          3,
          5
         ],
         "yaxis": "y"
        },
        {
         "hovertemplate": "Genre=Survival Horror<br>ReleaseQuarter=%{x}<br>Count=%{y}<extra></extra>",
         "legendgroup": "Survival Horror",
         "line": {
          "color": "#19d3f3",
          "dash": "solid"
         },
         "marker": {
          "symbol": "circle"
         },
         "mode": "lines",
         "name": "Survival Horror",
         "orientation": "v",
         "showlegend": true,
         "type": "scatter",
         "x": [
          "2019 Q2"
         ],
         "xaxis": "x",
         "y": [
          1
         ],
         "yaxis": "y"
        },
        {
         "hovertemplate": "Genre=TV Shows<br>ReleaseQuarter=%{x}<br>Count=%{y}<extra></extra>",
         "legendgroup": "TV Shows",
         "line": {
          "color": "#FF6692",
          "dash": "solid"
         },
         "marker": {
          "symbol": "circle"
         },
         "mode": "lines",
         "name": "TV Shows",
         "orientation": "v",
         "showlegend": true,
         "type": "scatter",
         "x": [
          "2021 Q3",
          "2022 Q2"
         ],
         "xaxis": "x",
         "y": [
          1,
          2
         ],
         "yaxis": "y"
        },
        {
         "hovertemplate": "Genre=Theatre<br>ReleaseQuarter=%{x}<br>Count=%{y}<extra></extra>",
         "legendgroup": "Theatre",
         "line": {
          "color": "#B6E880",
          "dash": "solid"
         },
         "marker": {
          "symbol": "circle"
         },
         "mode": "lines",
         "name": "Theatre",
         "orientation": "v",
         "showlegend": true,
         "type": "scatter",
         "x": [
          "2019 Q2",
          "2019 Q4",
          "2020 Q2"
         ],
         "xaxis": "x",
         "y": [
          1,
          2,
          3
         ],
         "yaxis": "y"
        },
        {
         "hovertemplate": "Genre=Travel & Exploration<br>ReleaseQuarter=%{x}<br>Count=%{y}<extra></extra>",
         "legendgroup": "Travel & Exploration",
         "line": {
          "color": "#FF97FF",
          "dash": "solid"
         },
         "marker": {
          "symbol": "circle"
         },
         "mode": "lines",
         "name": "Travel & Exploration",
         "orientation": "v",
         "showlegend": true,
         "type": "scatter",
         "x": [
          "2019 Q2",
          "2020 Q1",
          "2020 Q2",
          "2021 Q2",
          "2021 Q3",
          "2021 Q4",
          "2022 Q1"
         ],
         "xaxis": "x",
         "y": [
          4,
          5,
          6,
          8,
          9,
          10,
          11
         ],
         "yaxis": "y"
        },
        {
         "hovertemplate": "Genre=Utilities<br>ReleaseQuarter=%{x}<br>Count=%{y}<extra></extra>",
         "legendgroup": "Utilities",
         "line": {
          "color": "#FECB52",
          "dash": "solid"
         },
         "marker": {
          "symbol": "circle"
         },
         "mode": "lines",
         "name": "Utilities",
         "orientation": "v",
         "showlegend": true,
         "type": "scatter",
         "x": [
          "2019 Q2",
          "2019 Q3",
          "2020 Q3",
          "2021 Q4",
          "2022 Q1"
         ],
         "xaxis": "x",
         "y": [
          3,
          4,
          7,
          8,
          9
         ],
         "yaxis": "y"
        }
       ],
       "layout": {
        "legend": {
         "title": {
          "text": "Genre"
         },
         "tracegroupgap": 0
        },
        "margin": {
         "t": 60
        },
        "template": {
         "data": {
          "bar": [
           {
            "error_x": {
             "color": "#2a3f5f"
            },
            "error_y": {
             "color": "#2a3f5f"
            },
            "marker": {
             "line": {
              "color": "#E5ECF6",
              "width": 0.5
             },
             "pattern": {
              "fillmode": "overlay",
              "size": 10,
              "solidity": 0.2
             }
            },
            "type": "bar"
           }
          ],
          "barpolar": [
           {
            "marker": {
             "line": {
              "color": "#E5ECF6",
              "width": 0.5
             },
             "pattern": {
              "fillmode": "overlay",
              "size": 10,
              "solidity": 0.2
             }
            },
            "type": "barpolar"
           }
          ],
          "carpet": [
           {
            "aaxis": {
             "endlinecolor": "#2a3f5f",
             "gridcolor": "white",
             "linecolor": "white",
             "minorgridcolor": "white",
             "startlinecolor": "#2a3f5f"
            },
            "baxis": {
             "endlinecolor": "#2a3f5f",
             "gridcolor": "white",
             "linecolor": "white",
             "minorgridcolor": "white",
             "startlinecolor": "#2a3f5f"
            },
            "type": "carpet"
           }
          ],
          "choropleth": [
           {
            "colorbar": {
             "outlinewidth": 0,
             "ticks": ""
            },
            "type": "choropleth"
           }
          ],
          "contour": [
           {
            "colorbar": {
             "outlinewidth": 0,
             "ticks": ""
            },
            "colorscale": [
             [
              0,
              "#0d0887"
             ],
             [
              0.1111111111111111,
              "#46039f"
             ],
             [
              0.2222222222222222,
              "#7201a8"
             ],
             [
              0.3333333333333333,
              "#9c179e"
             ],
             [
              0.4444444444444444,
              "#bd3786"
             ],
             [
              0.5555555555555556,
              "#d8576b"
             ],
             [
              0.6666666666666666,
              "#ed7953"
             ],
             [
              0.7777777777777778,
              "#fb9f3a"
             ],
             [
              0.8888888888888888,
              "#fdca26"
             ],
             [
              1,
              "#f0f921"
             ]
            ],
            "type": "contour"
           }
          ],
          "contourcarpet": [
           {
            "colorbar": {
             "outlinewidth": 0,
             "ticks": ""
            },
            "type": "contourcarpet"
           }
          ],
          "heatmap": [
           {
            "colorbar": {
             "outlinewidth": 0,
             "ticks": ""
            },
            "colorscale": [
             [
              0,
              "#0d0887"
             ],
             [
              0.1111111111111111,
              "#46039f"
             ],
             [
              0.2222222222222222,
              "#7201a8"
             ],
             [
              0.3333333333333333,
              "#9c179e"
             ],
             [
              0.4444444444444444,
              "#bd3786"
             ],
             [
              0.5555555555555556,
              "#d8576b"
             ],
             [
              0.6666666666666666,
              "#ed7953"
             ],
             [
              0.7777777777777778,
              "#fb9f3a"
             ],
             [
              0.8888888888888888,
              "#fdca26"
             ],
             [
              1,
              "#f0f921"
             ]
            ],
            "type": "heatmap"
           }
          ],
          "heatmapgl": [
           {
            "colorbar": {
             "outlinewidth": 0,
             "ticks": ""
            },
            "colorscale": [
             [
              0,
              "#0d0887"
             ],
             [
              0.1111111111111111,
              "#46039f"
             ],
             [
              0.2222222222222222,
              "#7201a8"
             ],
             [
              0.3333333333333333,
              "#9c179e"
             ],
             [
              0.4444444444444444,
              "#bd3786"
             ],
             [
              0.5555555555555556,
              "#d8576b"
             ],
             [
              0.6666666666666666,
              "#ed7953"
             ],
             [
              0.7777777777777778,
              "#fb9f3a"
             ],
             [
              0.8888888888888888,
              "#fdca26"
             ],
             [
              1,
              "#f0f921"
             ]
            ],
            "type": "heatmapgl"
           }
          ],
          "histogram": [
           {
            "marker": {
             "pattern": {
              "fillmode": "overlay",
              "size": 10,
              "solidity": 0.2
             }
            },
            "type": "histogram"
           }
          ],
          "histogram2d": [
           {
            "colorbar": {
             "outlinewidth": 0,
             "ticks": ""
            },
            "colorscale": [
             [
              0,
              "#0d0887"
             ],
             [
              0.1111111111111111,
              "#46039f"
             ],
             [
              0.2222222222222222,
              "#7201a8"
             ],
             [
              0.3333333333333333,
              "#9c179e"
             ],
             [
              0.4444444444444444,
              "#bd3786"
             ],
             [
              0.5555555555555556,
              "#d8576b"
             ],
             [
              0.6666666666666666,
              "#ed7953"
             ],
             [
              0.7777777777777778,
              "#fb9f3a"
             ],
             [
              0.8888888888888888,
              "#fdca26"
             ],
             [
              1,
              "#f0f921"
             ]
            ],
            "type": "histogram2d"
           }
          ],
          "histogram2dcontour": [
           {
            "colorbar": {
             "outlinewidth": 0,
             "ticks": ""
            },
            "colorscale": [
             [
              0,
              "#0d0887"
             ],
             [
              0.1111111111111111,
              "#46039f"
             ],
             [
              0.2222222222222222,
              "#7201a8"
             ],
             [
              0.3333333333333333,
              "#9c179e"
             ],
             [
              0.4444444444444444,
              "#bd3786"
             ],
             [
              0.5555555555555556,
              "#d8576b"
             ],
             [
              0.6666666666666666,
              "#ed7953"
             ],
             [
              0.7777777777777778,
              "#fb9f3a"
             ],
             [
              0.8888888888888888,
              "#fdca26"
             ],
             [
              1,
              "#f0f921"
             ]
            ],
            "type": "histogram2dcontour"
           }
          ],
          "mesh3d": [
           {
            "colorbar": {
             "outlinewidth": 0,
             "ticks": ""
            },
            "type": "mesh3d"
           }
          ],
          "parcoords": [
           {
            "line": {
             "colorbar": {
              "outlinewidth": 0,
              "ticks": ""
             }
            },
            "type": "parcoords"
           }
          ],
          "pie": [
           {
            "automargin": true,
            "type": "pie"
           }
          ],
          "scatter": [
           {
            "marker": {
             "colorbar": {
              "outlinewidth": 0,
              "ticks": ""
             }
            },
            "type": "scatter"
           }
          ],
          "scatter3d": [
           {
            "line": {
             "colorbar": {
              "outlinewidth": 0,
              "ticks": ""
             }
            },
            "marker": {
             "colorbar": {
              "outlinewidth": 0,
              "ticks": ""
             }
            },
            "type": "scatter3d"
           }
          ],
          "scattercarpet": [
           {
            "marker": {
             "colorbar": {
              "outlinewidth": 0,
              "ticks": ""
             }
            },
            "type": "scattercarpet"
           }
          ],
          "scattergeo": [
           {
            "marker": {
             "colorbar": {
              "outlinewidth": 0,
              "ticks": ""
             }
            },
            "type": "scattergeo"
           }
          ],
          "scattergl": [
           {
            "marker": {
             "colorbar": {
              "outlinewidth": 0,
              "ticks": ""
             }
            },
            "type": "scattergl"
           }
          ],
          "scattermapbox": [
           {
            "marker": {
             "colorbar": {
              "outlinewidth": 0,
              "ticks": ""
             }
            },
            "type": "scattermapbox"
           }
          ],
          "scatterpolar": [
           {
            "marker": {
             "colorbar": {
              "outlinewidth": 0,
              "ticks": ""
             }
            },
            "type": "scatterpolar"
           }
          ],
          "scatterpolargl": [
           {
            "marker": {
             "colorbar": {
              "outlinewidth": 0,
              "ticks": ""
             }
            },
            "type": "scatterpolargl"
           }
          ],
          "scatterternary": [
           {
            "marker": {
             "colorbar": {
              "outlinewidth": 0,
              "ticks": ""
             }
            },
            "type": "scatterternary"
           }
          ],
          "surface": [
           {
            "colorbar": {
             "outlinewidth": 0,
             "ticks": ""
            },
            "colorscale": [
             [
              0,
              "#0d0887"
             ],
             [
              0.1111111111111111,
              "#46039f"
             ],
             [
              0.2222222222222222,
              "#7201a8"
             ],
             [
              0.3333333333333333,
              "#9c179e"
             ],
             [
              0.4444444444444444,
              "#bd3786"
             ],
             [
              0.5555555555555556,
              "#d8576b"
             ],
             [
              0.6666666666666666,
              "#ed7953"
             ],
             [
              0.7777777777777778,
              "#fb9f3a"
             ],
             [
              0.8888888888888888,
              "#fdca26"
             ],
             [
              1,
              "#f0f921"
             ]
            ],
            "type": "surface"
           }
          ],
          "table": [
           {
            "cells": {
             "fill": {
              "color": "#EBF0F8"
             },
             "line": {
              "color": "white"
             }
            },
            "header": {
             "fill": {
              "color": "#C8D4E3"
             },
             "line": {
              "color": "white"
             }
            },
            "type": "table"
           }
          ]
         },
         "layout": {
          "annotationdefaults": {
           "arrowcolor": "#2a3f5f",
           "arrowhead": 0,
           "arrowwidth": 1
          },
          "autotypenumbers": "strict",
          "coloraxis": {
           "colorbar": {
            "outlinewidth": 0,
            "ticks": ""
           }
          },
          "colorscale": {
           "diverging": [
            [
             0,
             "#8e0152"
            ],
            [
             0.1,
             "#c51b7d"
            ],
            [
             0.2,
             "#de77ae"
            ],
            [
             0.3,
             "#f1b6da"
            ],
            [
             0.4,
             "#fde0ef"
            ],
            [
             0.5,
             "#f7f7f7"
            ],
            [
             0.6,
             "#e6f5d0"
            ],
            [
             0.7,
             "#b8e186"
            ],
            [
             0.8,
             "#7fbc41"
            ],
            [
             0.9,
             "#4d9221"
            ],
            [
             1,
             "#276419"
            ]
           ],
           "sequential": [
            [
             0,
             "#0d0887"
            ],
            [
             0.1111111111111111,
             "#46039f"
            ],
            [
             0.2222222222222222,
             "#7201a8"
            ],
            [
             0.3333333333333333,
             "#9c179e"
            ],
            [
             0.4444444444444444,
             "#bd3786"
            ],
            [
             0.5555555555555556,
             "#d8576b"
            ],
            [
             0.6666666666666666,
             "#ed7953"
            ],
            [
             0.7777777777777778,
             "#fb9f3a"
            ],
            [
             0.8888888888888888,
             "#fdca26"
            ],
            [
             1,
             "#f0f921"
            ]
           ],
           "sequentialminus": [
            [
             0,
             "#0d0887"
            ],
            [
             0.1111111111111111,
             "#46039f"
            ],
            [
             0.2222222222222222,
             "#7201a8"
            ],
            [
             0.3333333333333333,
             "#9c179e"
            ],
            [
             0.4444444444444444,
             "#bd3786"
            ],
            [
             0.5555555555555556,
             "#d8576b"
            ],
            [
             0.6666666666666666,
             "#ed7953"
            ],
            [
             0.7777777777777778,
             "#fb9f3a"
            ],
            [
             0.8888888888888888,
             "#fdca26"
            ],
            [
             1,
             "#f0f921"
            ]
           ]
          },
          "colorway": [
           "#636efa",
           "#EF553B",
           "#00cc96",
           "#ab63fa",
           "#FFA15A",
           "#19d3f3",
           "#FF6692",
           "#B6E880",
           "#FF97FF",
           "#FECB52"
          ],
          "font": {
           "color": "#2a3f5f"
          },
          "geo": {
           "bgcolor": "white",
           "lakecolor": "white",
           "landcolor": "#E5ECF6",
           "showlakes": true,
           "showland": true,
           "subunitcolor": "white"
          },
          "hoverlabel": {
           "align": "left"
          },
          "hovermode": "closest",
          "mapbox": {
           "style": "light"
          },
          "paper_bgcolor": "white",
          "plot_bgcolor": "#E5ECF6",
          "polar": {
           "angularaxis": {
            "gridcolor": "white",
            "linecolor": "white",
            "ticks": ""
           },
           "bgcolor": "#E5ECF6",
           "radialaxis": {
            "gridcolor": "white",
            "linecolor": "white",
            "ticks": ""
           }
          },
          "scene": {
           "xaxis": {
            "backgroundcolor": "#E5ECF6",
            "gridcolor": "white",
            "gridwidth": 2,
            "linecolor": "white",
            "showbackground": true,
            "ticks": "",
            "zerolinecolor": "white"
           },
           "yaxis": {
            "backgroundcolor": "#E5ECF6",
            "gridcolor": "white",
            "gridwidth": 2,
            "linecolor": "white",
            "showbackground": true,
            "ticks": "",
            "zerolinecolor": "white"
           },
           "zaxis": {
            "backgroundcolor": "#E5ECF6",
            "gridcolor": "white",
            "gridwidth": 2,
            "linecolor": "white",
            "showbackground": true,
            "ticks": "",
            "zerolinecolor": "white"
           }
          },
          "shapedefaults": {
           "line": {
            "color": "#2a3f5f"
           }
          },
          "ternary": {
           "aaxis": {
            "gridcolor": "white",
            "linecolor": "white",
            "ticks": ""
           },
           "baxis": {
            "gridcolor": "white",
            "linecolor": "white",
            "ticks": ""
           },
           "bgcolor": "#E5ECF6",
           "caxis": {
            "gridcolor": "white",
            "linecolor": "white",
            "ticks": ""
           }
          },
          "title": {
           "x": 0.05
          },
          "xaxis": {
           "automargin": true,
           "gridcolor": "white",
           "linecolor": "white",
           "ticks": "",
           "title": {
            "standoff": 15
           },
           "zerolinecolor": "white",
           "zerolinewidth": 2
          },
          "yaxis": {
           "automargin": true,
           "gridcolor": "white",
           "linecolor": "white",
           "ticks": "",
           "title": {
            "standoff": 15
           },
           "zerolinecolor": "white",
           "zerolinewidth": 2
          }
         }
        },
        "title": {
         "text": "혼돈의 카오스"
        },
        "xaxis": {
         "anchor": "y",
         "domain": [
          0,
          1
         ],
         "title": {
          "text": "ReleaseQuarter"
         }
        },
        "yaxis": {
         "anchor": "x",
         "domain": [
          0,
          1
         ],
         "title": {
          "text": "Count"
         }
        }
       }
      }
     },
     "metadata": {},
     "output_type": "display_data"
    }
   ],
   "source": [
    "df = pd.read_csv(\"./dataset/oculus_game_list.csv\", index_col=0).dropna(axis=0, subset=[\"Genre\"]).reset_index(drop=True)\n",
    "df_genre = pd.DataFrame()\n",
    "\n",
    "for i in range(len(df)):\n",
    "    genres = df.loc[i, \"Genre\"].split(\", \")\n",
    "    release_date = datetime.strptime(df.loc[i, \"ReleaseDate\"], \"%Y-%m-%d\")\n",
    "    quarter = f\"{release_date.year} Q{(release_date.month-1) // 3 + 1}\"\n",
    "    \n",
    "    for g in genres:\n",
    "        df_genre = pd.concat([df_genre, pd.DataFrame([[quarter, g]], columns=[\"ReleaseQuarter\", \"Genre\"])])\n",
    "\n",
    "df_genre[\"Count\"] = 1\n",
    "# df_sum = df_genre.groupby(by=[\"Genre\", \"ReleaseQuarter\"]).sum().reset_index()#.sort_values(by=[\"Genre\", \"ReleaseQuarter\"])\n",
    "df_cumsum = df_genre\n",
    "df_cumsum = df_genre.groupby(by=[\"Genre\", \"ReleaseQuarter\"]).sum().groupby(level=0).cumsum().reset_index()\n",
    "df_cumsum\n",
    "\n",
    "fig = px.line(df_cumsum, x=\"ReleaseQuarter\", y=\"Count\", color=\"Genre\",)\n",
    "# fig = px.line(df_sum[df_sum[\"Genre\"] == \"Shooting\"], x=\"ReleaseQuarter\", y=\"Count\", color=\"Genre\",)\n",
    "fig.update_layout(title=\"혼돈의 카오스\")\n",
    "fig.show()"
   ]
  },
  {
   "cell_type": "code",
   "execution_count": null,
   "metadata": {},
   "outputs": [],
   "source": []
  }
 ],
 "metadata": {
  "kernelspec": {
   "display_name": "Python 3.9.12 ('jupy')",
   "language": "python",
   "name": "python3"
  },
  "language_info": {
   "codemirror_mode": {
    "name": "ipython",
    "version": 3
   },
   "file_extension": ".py",
   "mimetype": "text/x-python",
   "name": "python",
   "nbconvert_exporter": "python",
   "pygments_lexer": "ipython3",
   "version": "3.9.12"
  },
  "orig_nbformat": 4,
  "vscode": {
   "interpreter": {
    "hash": "4f2c90995bf61f046707788a0b73ac4bd8c7fa3f699490437d16f94fef7b744e"
   }
  }
 },
 "nbformat": 4,
 "nbformat_minor": 2
}
