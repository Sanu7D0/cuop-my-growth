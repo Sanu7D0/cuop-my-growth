{
 "cells": [
  {
   "cell_type": "code",
   "execution_count": 2,
   "metadata": {},
   "outputs": [],
   "source": [
    "import pandas as pd\n",
    "import plotly.express as px\n",
    "import plotly.graph_objects as go\n",
    "\n",
    "from bs4 import BeautifulSoup\n",
    "from lxml import etree\n",
    "import requests\n",
    "import FinanceDataReader as fdr\n",
    "from time import sleep\n",
    "\n",
    "from tqdm.auto import tqdm"
   ]
  },
  {
   "cell_type": "code",
   "execution_count": 3,
   "metadata": {},
   "outputs": [],
   "source": [
    "# nasdaq_df = fdr.StockListing('NASDAQ')\n",
    "nasdaq_df = pd.read_csv('./data/nasdaq_list.csv')"
   ]
  },
  {
   "cell_type": "code",
   "execution_count": 4,
   "metadata": {},
   "outputs": [],
   "source": [
    "def scrape_yahoo_finance(symbol: str):\n",
    "    for attempt in range(MAX_ATTEMPT):\n",
    "        try:\n",
    "            url = f'https://finance.yahoo.com/quote/{symbol}/key-statistics?p={symbol}'\n",
    "            webpage = requests.get(url=url, headers=HEADERS, timeout=10)\n",
    "            soup = BeautifulSoup(webpage.content, \"html.parser\")\n",
    "            dom = etree.HTML(str(soup))\n",
    "        except:\n",
    "            print(symbol, 'soup failed. Retry', attempt)\n",
    "            continue\n",
    "        else:\n",
    "            try:\n",
    "                market_cap = 0#dom.xpath('//*[@id=\"Col1-0-KeyStatistics-Proxy\"]/section/div[2]/div[1]/div/div/div/div/table/tbody/tr[1]/td[2]')[0].text\n",
    "                profit_margin = dom.xpath('//*[@id=\"Col1-0-KeyStatistics-Proxy\"]/section/div[2]/div[3]/div/div[2]/div/div/table/tbody/tr[1]/td[2]')[0].text\n",
    "                operating_margin = dom.xpath('//*[@id=\"Col1-0-KeyStatistics-Proxy\"]/section/div[2]/div[3]/div/div[2]/div/div/table/tbody/tr[2]/td[2]')[0].text\n",
    "                revenue = dom.xpath('//*[@id=\"Col1-0-KeyStatistics-Proxy\"]/section/div[2]/div[3]/div/div[4]/div/div/table/tbody/tr[1]/td[2]')[0].text\n",
    "                gross_profit = dom.xpath('//*[@id=\"Col1-0-KeyStatistics-Proxy\"]/section/div[2]/div[3]/div/div[4]/div/div/table/tbody/tr[4]/td[2]')[0].text\n",
    "            except:\n",
    "                print(symbol, 'html element failed. Retry', attempt)\n",
    "                continue\n",
    "            else:\n",
    "                # succeed\n",
    "                return [market_cap, profit_margin, operating_margin, revenue, gross_profit]\n",
    "    else:\n",
    "        # totaly failed\n",
    "        print(symbol, 'Skip')\n",
    "        return None"
   ]
  },
  {
   "cell_type": "code",
   "execution_count": 5,
   "metadata": {},
   "outputs": [
    {
     "data": {
      "application/vnd.jupyter.widget-view+json": {
       "model_id": "c69767753d8a47278bc00240512a4ec4",
       "version_major": 2,
       "version_minor": 0
      },
      "text/plain": [
       "  0%|          | 0/5 [00:00<?, ?it/s]"
      ]
     },
     "metadata": {},
     "output_type": "display_data"
    },
    {
     "name": "stdout",
     "output_type": "stream",
     "text": [
      "AAPL html element failed. Retry 0\n",
      "AAPL html element failed. Retry 1\n",
      "AAPL html element failed. Retry 2\n",
      "AAPL html element failed. Retry 3\n",
      "AAPL html element failed. Retry 4\n",
      "AAPL html element failed. Retry 5\n",
      "AAPL html element failed. Retry 6\n",
      "AAPL html element failed. Retry 7\n",
      "AAPL html element failed. Retry 8\n",
      "AAPL html element failed. Retry 9\n",
      "AAPL Skip\n",
      "MSFT html element failed. Retry 0\n",
      "MSFT html element failed. Retry 1\n",
      "MSFT html element failed. Retry 2\n",
      "MSFT html element failed. Retry 3\n",
      "MSFT html element failed. Retry 4\n",
      "MSFT html element failed. Retry 5\n",
      "MSFT html element failed. Retry 6\n",
      "MSFT html element failed. Retry 7\n",
      "MSFT html element failed. Retry 8\n",
      "MSFT html element failed. Retry 9\n",
      "MSFT Skip\n",
      "AMZN html element failed. Retry 0\n",
      "AMZN html element failed. Retry 1\n",
      "AMZN html element failed. Retry 2\n",
      "AMZN html element failed. Retry 3\n",
      "AMZN html element failed. Retry 4\n",
      "AMZN html element failed. Retry 5\n",
      "AMZN html element failed. Retry 6\n",
      "AMZN html element failed. Retry 7\n",
      "AMZN html element failed. Retry 8\n",
      "AMZN html element failed. Retry 9\n",
      "AMZN Skip\n",
      "GOOGL html element failed. Retry 0\n",
      "GOOGL html element failed. Retry 1\n",
      "GOOGL html element failed. Retry 2\n",
      "GOOGL html element failed. Retry 3\n",
      "GOOGL html element failed. Retry 4\n",
      "GOOGL html element failed. Retry 5\n",
      "GOOGL html element failed. Retry 6\n",
      "GOOGL html element failed. Retry 7\n",
      "GOOGL html element failed. Retry 8\n",
      "GOOGL html element failed. Retry 9\n",
      "GOOGL Skip\n",
      "TSLA html element failed. Retry 0\n",
      "TSLA html element failed. Retry 1\n",
      "TSLA html element failed. Retry 2\n",
      "TSLA html element failed. Retry 3\n",
      "TSLA html element failed. Retry 4\n",
      "TSLA html element failed. Retry 5\n",
      "TSLA html element failed. Retry 6\n",
      "TSLA html element failed. Retry 7\n",
      "TSLA html element failed. Retry 8\n",
      "TSLA html element failed. Retry 9\n",
      "TSLA Skip\n"
     ]
    },
    {
     "data": {
      "text/html": [
       "<div>\n",
       "<style scoped>\n",
       "    .dataframe tbody tr th:only-of-type {\n",
       "        vertical-align: middle;\n",
       "    }\n",
       "\n",
       "    .dataframe tbody tr th {\n",
       "        vertical-align: top;\n",
       "    }\n",
       "\n",
       "    .dataframe thead th {\n",
       "        text-align: right;\n",
       "    }\n",
       "</style>\n",
       "<table border=\"1\" class=\"dataframe\">\n",
       "  <thead>\n",
       "    <tr style=\"text-align: right;\">\n",
       "      <th></th>\n",
       "      <th>Name</th>\n",
       "      <th>Symbol</th>\n",
       "      <th>Industry</th>\n",
       "      <th>MarketCap</th>\n",
       "      <th>ProfitMargin</th>\n",
       "      <th>OperatingMargin</th>\n",
       "      <th>Revenue</th>\n",
       "      <th>GrossProfit</th>\n",
       "    </tr>\n",
       "  </thead>\n",
       "  <tbody>\n",
       "  </tbody>\n",
       "</table>\n",
       "</div>"
      ],
      "text/plain": [
       "Empty DataFrame\n",
       "Columns: [Name, Symbol, Industry, MarketCap, ProfitMargin, OperatingMargin, Revenue, GrossProfit]\n",
       "Index: []"
      ]
     },
     "execution_count": 5,
     "metadata": {},
     "output_type": "execute_result"
    }
   ],
   "source": [
    "HEADERS = {\n",
    "    \"User-Agent\": \"Mozilla/5.0 (X11; Linux x86_64) AppleWebKit/537.36 \\\n",
    "            (KHTML, like Gecko) Chrome/44.0.2403.157 Safari/537.36\",\n",
    "    \"Accept-Language\": \"en-US, en;q=0.5\",\n",
    "}\n",
    "MAX_ATTEMPT = 10\n",
    "\n",
    "df = []\n",
    "# for i in tqdm(range(len(nasdaq_df))):\n",
    "for i in tqdm(range(5)):\n",
    "    name = nasdaq_df.loc[i, 'Name']\n",
    "    symbol = nasdaq_df.loc[i, 'Symbol']\n",
    "    industry = nasdaq_df.loc[i, 'Industry']\n",
    "\n",
    "    data = scrape_yahoo_finance(symbol)\n",
    "    if data is not None:\n",
    "        df.append([name, symbol, industry].extend(data))\n",
    "\n",
    "df = pd.DataFrame(df, columns=['Name', 'Symbol', 'Industry', 'MarketCap', 'ProfitMargin', 'OperatingMargin', 'Revenue', 'GrossProfit'])\n",
    "df.to_csv('./data/nasdaq_full.csv')\n",
    "df\n"
   ]
  },
  {
   "cell_type": "code",
   "execution_count": null,
   "metadata": {},
   "outputs": [],
   "source": [
    "fig = px.bar(\n",
    "    df[:10],\n",
    "    x='Industry',\n",
    "    y='MarketCap',\n",
    "    # color=,\n",
    "    # hover_data=,\n",
    "    barmode='stack'\n",
    ")"
   ]
  }
 ],
 "metadata": {
  "kernelspec": {
   "display_name": "Python 3.9.12 ('jupy')",
   "language": "python",
   "name": "python3"
  },
  "language_info": {
   "codemirror_mode": {
    "name": "ipython",
    "version": 3
   },
   "file_extension": ".py",
   "mimetype": "text/x-python",
   "name": "python",
   "nbconvert_exporter": "python",
   "pygments_lexer": "ipython3",
   "version": "3.9.12"
  },
  "orig_nbformat": 4,
  "vscode": {
   "interpreter": {
    "hash": "4f2c90995bf61f046707788a0b73ac4bd8c7fa3f699490437d16f94fef7b744e"
   }
  }
 },
 "nbformat": 4,
 "nbformat_minor": 2
}
