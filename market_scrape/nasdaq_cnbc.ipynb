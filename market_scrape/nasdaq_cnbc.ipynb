{
 "cells": [
  {
   "cell_type": "code",
   "execution_count": 29,
   "metadata": {},
   "outputs": [],
   "source": [
    "import pandas as pd\n",
    "import plotly.express as px\n",
    "import plotly.graph_objects as go\n",
    "from tqdm.auto import tqdm\n",
    "\n",
    "from bs4 import BeautifulSoup\n",
    "import requests\n",
    "from lxml import etree\n",
    "from time import sleep\n",
    "\n",
    "from concurrent.futures import ThreadPoolExecutor\n",
    "from concurrent.futures import as_completed"
   ]
  },
  {
   "cell_type": "code",
   "execution_count": 30,
   "metadata": {},
   "outputs": [],
   "source": [
    "nasdaq_df = pd.read_csv('./data/nasdaq_list.csv')"
   ]
  },
  {
   "cell_type": "code",
   "execution_count": 47,
   "metadata": {},
   "outputs": [],
   "source": [
    "def scrape_cnbc(symbol: str):\n",
    "    MAX_ATTEMPT = 5\n",
    "    HEADERS = {\n",
    "        \"User-Agent\": \"Mozilla/5.0 (X11; Linux x86_64) AppleWebKit/537.36 \\\n",
    "                (KHTML, like Gecko) Chrome/44.0.2403.157 Safari/537.36\",\n",
    "        # \"Accept-Language\": \"en-US, en;q=0.5\",\n",
    "    }\n",
    "    # URL = f\"https://www.cnbc.com/quotes/{symbol}?tab=financials\"\n",
    "    URL = f\"https://www.cnbc.com/quotes/{symbol}\"\n",
    "\n",
    "    for attempt in range(MAX_ATTEMPT):\n",
    "        try:\n",
    "            resp = requests.get(url=URL, headers=HEADERS, timeout=15)\n",
    "            soup = BeautifulSoup(resp.content, \"html.parser\")\n",
    "            dom = etree.HTML(str(soup))\n",
    "        except:\n",
    "            print(symbol, 'soup failed. Retry', attempt)\n",
    "            continue\n",
    "        else:\n",
    "            try:\n",
    "                market_cap = soup.select_one(\n",
    "                    \"#MainContentContainer > div > div.QuotePageBuilder-row > div.QuotePageBuilder-mainContent.QuotePageBuilder-col > div.QuotePageTabs > div:nth-child(2) > section > div:nth-child(1) > ul > li:nth-child(9) > span.Summary-value\"\n",
    "                ).get_text()\n",
    "                # revenue = soup.select_one(\n",
    "                #     '#MainContentContainer > div > div.QuotePageBuilder-row > div.QuotePageBuilder-mainContent.QuotePageBuilder-col > div.QuotePageTabs > div:nth-child(2) > section > div:nth-child(3) > ul > li.Summary-stat.Summary-revenue > span.Summary-value'\n",
    "                # ).get_text()\n",
    "                # gross_margin = soup.select_one(\n",
    "                #     '#MainContentContainer > div > div.QuotePageBuilder-row > div.QuotePageBuilder-mainContent.QuotePageBuilder-col > div.QuotePageTabs > div:nth-child(2) > section > div:nth-child(3) > ul > li:nth-child(7) > span.Summary-value'\n",
    "                # ).get_text()\n",
    "                # net_margin = soup.select_one(\n",
    "                #     '#MainContentContainer > div > div.QuotePageBuilder-row > div.QuotePageBuilder-mainContent.QuotePageBuilder-col > div.QuotePageTabs > div:nth-child(2) > section > div:nth-child(3) > ul > li:nth-child(8) > span.Summary-value'\n",
    "                # ).get_text()\n",
    "\n",
    "            except:\n",
    "                print(symbol, 'html element failed. Retry', attempt)\n",
    "                continue\n",
    "            else:\n",
    "                # succeed\n",
    "                return [market_cap]\n",
    "                # return [market_cap, revenue, gross_margin, net_margin]\n",
    "    else:\n",
    "        # totaly failed\n",
    "        print(symbol, 'Skip')\n",
    "        return None\n"
   ]
  },
  {
   "cell_type": "code",
   "execution_count": 50,
   "metadata": {},
   "outputs": [],
   "source": [
    "def thread_scrape(start: int, end: int):\n",
    "    result = []\n",
    "    for i in tqdm(range(start, end)):\n",
    "        name = nasdaq_df.loc[i, 'Name']\n",
    "        symbol = nasdaq_df.loc[i, 'Symbol']\n",
    "        industry = nasdaq_df.loc[i, 'Industry']\n",
    "        \n",
    "        data = [name, symbol, industry]\n",
    "        scraped = scrape_cnbc(symbol)\n",
    "        if data is not None:\n",
    "            data.extend(scraped)\n",
    "            result.append(data)\n",
    "    \n",
    "    return result"
   ]
  },
  {
   "cell_type": "code",
   "execution_count": 54,
   "metadata": {},
   "outputs": [
    {
     "name": "stdout",
     "output_type": "stream",
     "text": [
      "[(0, 500), (500, 1000), (1000, 1500), (1500, 2000), (2000, 2500), (2500, 3000), (3000, 3500), (3500, 4000), (4000, 4500), (4500, 4635)]\n"
     ]
    },
    {
     "data": {
      "application/vnd.jupyter.widget-view+json": {
       "model_id": "78f5aaa2ec2e4902a4c794c7035829ba",
       "version_major": 2,
       "version_minor": 0
      },
      "text/plain": [
       "  0%|          | 0/500 [00:00<?, ?it/s]"
      ]
     },
     "metadata": {},
     "output_type": "display_data"
    },
    {
     "data": {
      "application/vnd.jupyter.widget-view+json": {
       "model_id": "ecddb15b265b418fa3400fa2c296d2e3",
       "version_major": 2,
       "version_minor": 0
      },
      "text/plain": [
       "  0%|          | 0/500 [00:00<?, ?it/s]"
      ]
     },
     "metadata": {},
     "output_type": "display_data"
    },
    {
     "data": {
      "application/vnd.jupyter.widget-view+json": {
       "model_id": "6acc0c9f78cb4396ba5f703f0cd25562",
       "version_major": 2,
       "version_minor": 0
      },
      "text/plain": [
       "  0%|          | 0/500 [00:00<?, ?it/s]"
      ]
     },
     "metadata": {},
     "output_type": "display_data"
    },
    {
     "data": {
      "application/vnd.jupyter.widget-view+json": {
       "model_id": "7ed6495713534be2ba3171bf519c7e2a",
       "version_major": 2,
       "version_minor": 0
      },
      "text/plain": [
       "  0%|          | 0/500 [00:00<?, ?it/s]"
      ]
     },
     "metadata": {},
     "output_type": "display_data"
    },
    {
     "data": {
      "application/vnd.jupyter.widget-view+json": {
       "model_id": "b53c5100896f48a69e0a105a7d443d61",
       "version_major": 2,
       "version_minor": 0
      },
      "text/plain": [
       "  0%|          | 0/500 [00:00<?, ?it/s]"
      ]
     },
     "metadata": {},
     "output_type": "display_data"
    },
    {
     "name": "stdout",
     "output_type": "stream",
     "text": [
      "BOWXU html element failed. Retry 0\n",
      "BOWXU html element failed. Retry 1\n",
      "BOWXU html element failed. Retry 2\n",
      "BOWXU html element failed. Retry 3\n",
      "BOWXU html element failed. Retry 4\n",
      "BOWXU Skip\n"
     ]
    },
    {
     "data": {
      "application/vnd.jupyter.widget-view+json": {
       "model_id": "124254e70cdc42889f5e5420b4090ebf",
       "version_major": 2,
       "version_minor": 0
      },
      "text/plain": [
       "  0%|          | 0/500 [00:00<?, ?it/s]"
      ]
     },
     "metadata": {},
     "output_type": "display_data"
    },
    {
     "name": "stdout",
     "output_type": "stream",
     "text": [
      "SVOK html element failed. Retry 0\n",
      "SVOK html element failed. Retry 1\n",
      "SVOK html element failed. Retry 2\n"
     ]
    },
    {
     "ename": "KeyboardInterrupt",
     "evalue": "",
     "output_type": "error",
     "traceback": [
      "\u001b[0;31m---------------------------------------------------------------------------\u001b[0m",
      "\u001b[0;31mTypeError\u001b[0m                                 Traceback (most recent call last)",
      "\u001b[1;32m/Users/CUop/Workspace/market/nasdaq_cnbc.ipynb Cell 5'\u001b[0m in \u001b[0;36m<cell line: 6>\u001b[0;34m()\u001b[0m\n\u001b[1;32m     <a href='vscode-notebook-cell:/Users/CUop/Workspace/market/nasdaq_cnbc.ipynb#ch0000002?line=9'>10</a>\u001b[0m     \u001b[39mfor\u001b[39;00m future \u001b[39min\u001b[39;00m as_completed(futures):\n\u001b[0;32m---> <a href='vscode-notebook-cell:/Users/CUop/Workspace/market/nasdaq_cnbc.ipynb#ch0000002?line=10'>11</a>\u001b[0m         df\u001b[39m.\u001b[39mextend(future\u001b[39m.\u001b[39;49mresult())\n\u001b[1;32m     <a href='vscode-notebook-cell:/Users/CUop/Workspace/market/nasdaq_cnbc.ipynb#ch0000002?line=12'>13</a>\u001b[0m df \u001b[39m=\u001b[39m pd\u001b[39m.\u001b[39mDataFrame(df)\n",
      "File \u001b[0;32m~/opt/anaconda3/envs/jupy/lib/python3.9/concurrent/futures/_base.py:439\u001b[0m, in \u001b[0;36mFuture.result\u001b[0;34m(self, timeout)\u001b[0m\n\u001b[1;32m    438\u001b[0m \u001b[39melif\u001b[39;00m \u001b[39mself\u001b[39m\u001b[39m.\u001b[39m_state \u001b[39m==\u001b[39m FINISHED:\n\u001b[0;32m--> 439\u001b[0m     \u001b[39mreturn\u001b[39;00m \u001b[39mself\u001b[39;49m\u001b[39m.\u001b[39;49m__get_result()\n\u001b[1;32m    441\u001b[0m \u001b[39mself\u001b[39m\u001b[39m.\u001b[39m_condition\u001b[39m.\u001b[39mwait(timeout)\n",
      "File \u001b[0;32m~/opt/anaconda3/envs/jupy/lib/python3.9/concurrent/futures/_base.py:391\u001b[0m, in \u001b[0;36mFuture.__get_result\u001b[0;34m(self)\u001b[0m\n\u001b[1;32m    390\u001b[0m \u001b[39mtry\u001b[39;00m:\n\u001b[0;32m--> 391\u001b[0m     \u001b[39mraise\u001b[39;00m \u001b[39mself\u001b[39m\u001b[39m.\u001b[39m_exception\n\u001b[1;32m    392\u001b[0m \u001b[39mfinally\u001b[39;00m:\n\u001b[1;32m    393\u001b[0m     \u001b[39m# Break a reference cycle with the exception in self._exception\u001b[39;00m\n",
      "File \u001b[0;32m~/opt/anaconda3/envs/jupy/lib/python3.9/concurrent/futures/thread.py:58\u001b[0m, in \u001b[0;36m_WorkItem.run\u001b[0;34m(self)\u001b[0m\n\u001b[1;32m     57\u001b[0m \u001b[39mtry\u001b[39;00m:\n\u001b[0;32m---> 58\u001b[0m     result \u001b[39m=\u001b[39m \u001b[39mself\u001b[39;49m\u001b[39m.\u001b[39;49mfn(\u001b[39m*\u001b[39;49m\u001b[39mself\u001b[39;49m\u001b[39m.\u001b[39;49margs, \u001b[39m*\u001b[39;49m\u001b[39m*\u001b[39;49m\u001b[39mself\u001b[39;49m\u001b[39m.\u001b[39;49mkwargs)\n\u001b[1;32m     59\u001b[0m \u001b[39mexcept\u001b[39;00m \u001b[39mBaseException\u001b[39;00m \u001b[39mas\u001b[39;00m exc:\n",
      "\u001b[1;32m/Users/CUop/Workspace/market/nasdaq_cnbc.ipynb Cell 4'\u001b[0m in \u001b[0;36mthread_scrape\u001b[0;34m(start, end)\u001b[0m\n\u001b[1;32m     <a href='vscode-notebook-cell:/Users/CUop/Workspace/market/nasdaq_cnbc.ipynb#ch0000004?line=9'>10</a>\u001b[0m \u001b[39mif\u001b[39;00m data \u001b[39mis\u001b[39;00m \u001b[39mnot\u001b[39;00m \u001b[39mNone\u001b[39;00m:\n\u001b[0;32m---> <a href='vscode-notebook-cell:/Users/CUop/Workspace/market/nasdaq_cnbc.ipynb#ch0000004?line=10'>11</a>\u001b[0m     data\u001b[39m.\u001b[39;49mextend(scraped)\n\u001b[1;32m     <a href='vscode-notebook-cell:/Users/CUop/Workspace/market/nasdaq_cnbc.ipynb#ch0000004?line=11'>12</a>\u001b[0m     result\u001b[39m.\u001b[39mappend(data)\n",
      "\u001b[0;31mTypeError\u001b[0m: 'NoneType' object is not iterable",
      "\nDuring handling of the above exception, another exception occurred:\n",
      "\u001b[0;31mKeyboardInterrupt\u001b[0m                         Traceback (most recent call last)",
      "\u001b[1;32m/Users/CUop/Workspace/market/nasdaq_cnbc.ipynb Cell 5'\u001b[0m in \u001b[0;36m<cell line: 6>\u001b[0;34m()\u001b[0m\n\u001b[1;32m      <a href='vscode-notebook-cell:/Users/CUop/Workspace/market/nasdaq_cnbc.ipynb#ch0000002?line=8'>9</a>\u001b[0m     df \u001b[39m=\u001b[39m []\n\u001b[1;32m     <a href='vscode-notebook-cell:/Users/CUop/Workspace/market/nasdaq_cnbc.ipynb#ch0000002?line=9'>10</a>\u001b[0m     \u001b[39mfor\u001b[39;00m future \u001b[39min\u001b[39;00m as_completed(futures):\n\u001b[0;32m---> <a href='vscode-notebook-cell:/Users/CUop/Workspace/market/nasdaq_cnbc.ipynb#ch0000002?line=10'>11</a>\u001b[0m         df\u001b[39m.\u001b[39mextend(future\u001b[39m.\u001b[39mresult())\n\u001b[1;32m     <a href='vscode-notebook-cell:/Users/CUop/Workspace/market/nasdaq_cnbc.ipynb#ch0000002?line=12'>13</a>\u001b[0m df \u001b[39m=\u001b[39m pd\u001b[39m.\u001b[39mDataFrame(df)\n\u001b[1;32m     <a href='vscode-notebook-cell:/Users/CUop/Workspace/market/nasdaq_cnbc.ipynb#ch0000002?line=13'>14</a>\u001b[0m df\u001b[39m.\u001b[39mto_csv(\u001b[39m'\u001b[39m\u001b[39m./data/nasdaq_marketcap_full.csv\u001b[39m\u001b[39m'\u001b[39m)\n",
      "File \u001b[0;32m~/opt/anaconda3/envs/jupy/lib/python3.9/concurrent/futures/_base.py:637\u001b[0m, in \u001b[0;36mExecutor.__exit__\u001b[0;34m(self, exc_type, exc_val, exc_tb)\u001b[0m\n\u001b[1;32m    636\u001b[0m \u001b[39mdef\u001b[39;00m \u001b[39m__exit__\u001b[39m(\u001b[39mself\u001b[39m, exc_type, exc_val, exc_tb):\n\u001b[0;32m--> 637\u001b[0m     \u001b[39mself\u001b[39;49m\u001b[39m.\u001b[39;49mshutdown(wait\u001b[39m=\u001b[39;49m\u001b[39mTrue\u001b[39;49;00m)\n\u001b[1;32m    638\u001b[0m     \u001b[39mreturn\u001b[39;00m \u001b[39mFalse\u001b[39;00m\n",
      "File \u001b[0;32m~/opt/anaconda3/envs/jupy/lib/python3.9/concurrent/futures/thread.py:235\u001b[0m, in \u001b[0;36mThreadPoolExecutor.shutdown\u001b[0;34m(self, wait, cancel_futures)\u001b[0m\n\u001b[1;32m    233\u001b[0m \u001b[39mif\u001b[39;00m wait:\n\u001b[1;32m    234\u001b[0m     \u001b[39mfor\u001b[39;00m t \u001b[39min\u001b[39;00m \u001b[39mself\u001b[39m\u001b[39m.\u001b[39m_threads:\n\u001b[0;32m--> 235\u001b[0m         t\u001b[39m.\u001b[39;49mjoin()\n",
      "File \u001b[0;32m~/opt/anaconda3/envs/jupy/lib/python3.9/threading.py:1053\u001b[0m, in \u001b[0;36mThread.join\u001b[0;34m(self, timeout)\u001b[0m\n\u001b[1;32m   1050\u001b[0m     \u001b[39mraise\u001b[39;00m \u001b[39mRuntimeError\u001b[39;00m(\u001b[39m\"\u001b[39m\u001b[39mcannot join current thread\u001b[39m\u001b[39m\"\u001b[39m)\n\u001b[1;32m   1052\u001b[0m \u001b[39mif\u001b[39;00m timeout \u001b[39mis\u001b[39;00m \u001b[39mNone\u001b[39;00m:\n\u001b[0;32m-> 1053\u001b[0m     \u001b[39mself\u001b[39;49m\u001b[39m.\u001b[39;49m_wait_for_tstate_lock()\n\u001b[1;32m   1054\u001b[0m \u001b[39melse\u001b[39;00m:\n\u001b[1;32m   1055\u001b[0m     \u001b[39m# the behavior of a negative timeout isn't documented, but\u001b[39;00m\n\u001b[1;32m   1056\u001b[0m     \u001b[39m# historically .join(timeout=x) for x<0 has acted as if timeout=0\u001b[39;00m\n\u001b[1;32m   1057\u001b[0m     \u001b[39mself\u001b[39m\u001b[39m.\u001b[39m_wait_for_tstate_lock(timeout\u001b[39m=\u001b[39m\u001b[39mmax\u001b[39m(timeout, \u001b[39m0\u001b[39m))\n",
      "File \u001b[0;32m~/opt/anaconda3/envs/jupy/lib/python3.9/threading.py:1073\u001b[0m, in \u001b[0;36mThread._wait_for_tstate_lock\u001b[0;34m(self, block, timeout)\u001b[0m\n\u001b[1;32m   1070\u001b[0m     \u001b[39mreturn\u001b[39;00m\n\u001b[1;32m   1072\u001b[0m \u001b[39mtry\u001b[39;00m:\n\u001b[0;32m-> 1073\u001b[0m     \u001b[39mif\u001b[39;00m lock\u001b[39m.\u001b[39;49macquire(block, timeout):\n\u001b[1;32m   1074\u001b[0m         lock\u001b[39m.\u001b[39mrelease()\n\u001b[1;32m   1075\u001b[0m         \u001b[39mself\u001b[39m\u001b[39m.\u001b[39m_stop()\n",
      "\u001b[0;31mKeyboardInterrupt\u001b[0m: "
     ]
    },
    {
     "name": "stdout",
     "output_type": "stream",
     "text": [
      "SVOK html element failed. Retry 3\n",
      "SVOK html element failed. Retry 4\n",
      "SVOK Skip\n"
     ]
    },
    {
     "data": {
      "application/vnd.jupyter.widget-view+json": {
       "model_id": "f5500dde536a4b86854193c5f53308c8",
       "version_major": 2,
       "version_minor": 0
      },
      "text/plain": [
       "  0%|          | 0/500 [00:00<?, ?it/s]"
      ]
     },
     "metadata": {},
     "output_type": "display_data"
    },
    {
     "name": "stdout",
     "output_type": "stream",
     "text": [
      "AHAC html element failed. Retry 0\n",
      "AHAC html element failed. Retry 1\n",
      "AHAC html element failed. Retry 2\n",
      "AHAC html element failed. Retry 3\n",
      "AHAC html element failed. Retry 4\n",
      "AHAC Skip\n"
     ]
    },
    {
     "data": {
      "application/vnd.jupyter.widget-view+json": {
       "model_id": "39a62610b0ca48e9bc49b1f0f13fa97d",
       "version_major": 2,
       "version_minor": 0
      },
      "text/plain": [
       "  0%|          | 0/500 [00:00<?, ?it/s]"
      ]
     },
     "metadata": {},
     "output_type": "display_data"
    },
    {
     "name": "stdout",
     "output_type": "stream",
     "text": [
      "GWACU html element failed. Retry 0\n",
      "GWACU html element failed. Retry 1\n",
      "GWACU html element failed. Retry 2\n",
      "GWACU html element failed. Retry 3\n",
      "GWACU html element failed. Retry 4\n",
      "GWACU Skip\n"
     ]
    },
    {
     "data": {
      "application/vnd.jupyter.widget-view+json": {
       "model_id": "59a1b8258b0b4c0eb8fc553b76929be7",
       "version_major": 2,
       "version_minor": 0
      },
      "text/plain": [
       "  0%|          | 0/500 [00:00<?, ?it/s]"
      ]
     },
     "metadata": {},
     "output_type": "display_data"
    },
    {
     "name": "stdout",
     "output_type": "stream",
     "text": [
      "MCADU html element failed. Retry 0\n",
      "MCADU html element failed. Retry 1\n",
      "MCADU html element failed. Retry 2\n",
      "MCADU html element failed. Retry 3\n",
      "MCADU html element failed. Retry 4\n",
      "MCADU Skip\n"
     ]
    },
    {
     "data": {
      "application/vnd.jupyter.widget-view+json": {
       "model_id": "02ca6b4eeef34d83a48611504b160080",
       "version_major": 2,
       "version_minor": 0
      },
      "text/plain": [
       "  0%|          | 0/135 [00:00<?, ?it/s]"
      ]
     },
     "metadata": {},
     "output_type": "display_data"
    },
    {
     "name": "stdout",
     "output_type": "stream",
     "text": [
      "AHAC html element failed. Retry 0\n",
      "AHAC html element failed. Retry 1\n",
      "AHAC html element failed. Retry 2\n",
      "AHAC html element failed. Retry 3\n",
      "AHAC html element failed. Retry 4\n",
      "AHAC Skip\n"
     ]
    },
    {
     "data": {
      "application/vnd.jupyter.widget-view+json": {
       "model_id": "a053974fdcd046ea8fc8318529e76a89",
       "version_major": 2,
       "version_minor": 0
      },
      "text/plain": [
       "  0%|          | 0/500 [00:00<?, ?it/s]"
      ]
     },
     "metadata": {},
     "output_type": "display_data"
    },
    {
     "name": "stdout",
     "output_type": "stream",
     "text": [
      "ALTA html element failed. Retry 0\n",
      "ALTA html element failed. Retry 1\n",
      "ALTA html element failed. Retry 2\n",
      "ALTA html element failed. Retry 3\n",
      "ALTA html element failed. Retry 4\n",
      "ALTA Skip\n",
      "MAXNV html element failed. Retry 0\n",
      "MAXNV html element failed. Retry 1\n",
      "MAXNV html element failed. Retry 2\n",
      "MAXNV html element failed. Retry 3\n",
      "MAXNV html element failed. Retry 4\n",
      "MAXNV Skip\n",
      "MCADU html element failed. Retry 0\n",
      "MCADU html element failed. Retry 1\n",
      "MCADU html element failed. Retry 2\n",
      "MCADU html element failed. Retry 3\n",
      "MCADU html element failed. Retry 4\n",
      "MCADU Skip\n"
     ]
    },
    {
     "data": {
      "application/vnd.jupyter.widget-view+json": {
       "model_id": "4231bb126a3c48b28abc71ee41eff0c3",
       "version_major": 2,
       "version_minor": 0
      },
      "text/plain": [
       "  0%|          | 0/135 [00:00<?, ?it/s]"
      ]
     },
     "metadata": {},
     "output_type": "display_data"
    },
    {
     "name": "stdout",
     "output_type": "stream",
     "text": [
      "LANDP html element failed. Retry 0\n",
      "LANDP html element failed. Retry 1\n",
      "LANDP html element failed. Retry 2\n",
      "LANDP html element failed. Retry 3\n",
      "LANDP html element failed. Retry 4\n",
      "LANDP Skip\n",
      "ALTA html element failed. Retry 0\n",
      "ALTA html element failed. Retry 1\n",
      "ALTA html element failed. Retry 2\n",
      "ALTA html element failed. Retry 3\n",
      "ALTA html element failed. Retry 4\n",
      "ALTA Skip\n",
      "MAXNV html element failed. Retry 0\n",
      "SRNG html element failed. Retry 0\n",
      "MAXNV html element failed. Retry 1\n",
      "SRNG html element failed. Retry 1\n",
      "SRNG html element failed. Retry 2\n",
      "MAXNV html element failed. Retry 2\n",
      "SRNG html element failed. Retry 3\n",
      "MAXNV html element failed. Retry 3\n",
      "SRNG html element failed. Retry 4\n",
      "SRNG Skip\n",
      "MAXNV html element failed. Retry 4\n",
      "MAXNV Skip\n",
      "LANDP html element failed. Retry 0\n",
      "LANDP html element failed. Retry 1\n",
      "LANDP html element failed. Retry 2\n",
      "LANDP html element failed. Retry 3\n",
      "LANDP html element failed. Retry 4\n",
      "LANDP Skip\n",
      "PPD html element failed. Retry 0\n",
      "PPD html element failed. Retry 1\n",
      "PPD html element failed. Retry 2\n",
      "PPD html element failed. Retry 3\n",
      "PPD html element failed. Retry 4\n",
      "PPD Skip\n",
      "SRNG html element failed. Retry 0\n",
      "SRNG html element failed. Retry 1\n",
      "SRNG html element failed. Retry 2\n",
      "SRNG html element failed. Retry 3\n",
      "SRNG html element failed. Retry 4\n",
      "SRNG Skip\n",
      "PPD html element failed. Retry 0\n",
      "PPD html element failed. Retry 1\n",
      "PPD html element failed. Retry 2\n",
      "PPD html element failed. Retry 3\n",
      "PPD html element failed. Retry 4\n",
      "PPD Skip\n"
     ]
    }
   ],
   "source": [
    "work_list = []\n",
    "for i in range(0, len(nasdaq_df), 500):\n",
    "    work_list.append((i, min(i + 500, len(nasdaq_df) + 1)))\n",
    "print(work_list)\n",
    "\n",
    "with ThreadPoolExecutor(max_workers=5) as executor:\n",
    "    futures = [executor.submit(thread_scrape, work[0], work[1]) for work in work_list]\n",
    "\n",
    "    df = []\n",
    "    for future in as_completed(futures):\n",
    "        df.extend(future.result())\n",
    "\n",
    "df = pd.DataFrame(df)\n",
    "df.to_csv('./data/nasdaq_marketcap_full.csv')\n",
    "df"
   ]
  },
  {
   "cell_type": "code",
   "execution_count": 45,
   "metadata": {},
   "outputs": [
    {
     "name": "stdout",
     "output_type": "stream",
     "text": [
      "[1, 2, 3, 5, 1, 3]\n"
     ]
    }
   ],
   "source": [
    "a = [1,2, 3]\n",
    "a.extend([5,1, 3])\n",
    "print(a)"
   ]
  },
  {
   "cell_type": "code",
   "execution_count": null,
   "metadata": {},
   "outputs": [],
   "source": []
  }
 ],
 "metadata": {
  "kernelspec": {
   "display_name": "Python 3.9.12 ('jupy')",
   "language": "python",
   "name": "python3"
  },
  "language_info": {
   "codemirror_mode": {
    "name": "ipython",
    "version": 3
   },
   "file_extension": ".py",
   "mimetype": "text/x-python",
   "name": "python",
   "nbconvert_exporter": "python",
   "pygments_lexer": "ipython3",
   "version": "3.9.12"
  },
  "orig_nbformat": 4,
  "vscode": {
   "interpreter": {
    "hash": "4f2c90995bf61f046707788a0b73ac4bd8c7fa3f699490437d16f94fef7b744e"
   }
  }
 },
 "nbformat": 4,
 "nbformat_minor": 2
}
