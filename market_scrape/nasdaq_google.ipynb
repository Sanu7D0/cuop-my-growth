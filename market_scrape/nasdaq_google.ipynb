{
 "cells": [
  {
   "cell_type": "code",
   "execution_count": 80,
   "metadata": {},
   "outputs": [],
   "source": [
    "import pandas as pd\n",
    "import plotly.express as px\n",
    "import plotly.graph_objects as go\n",
    "\n",
    "from bs4 import BeautifulSoup\n",
    "import requests\n",
    "# from lxml import etree\n",
    "from selenium import webdriver\n",
    "\n",
    "from concurrent.futures import ThreadPoolExecutor\n",
    "from concurrent.futures import as_completed"
   ]
  },
  {
   "cell_type": "code",
   "execution_count": 81,
   "metadata": {},
   "outputs": [],
   "source": [
    "def scrape_google_finance(symbol: str, driver):\n",
    "    url = f'https://www.google.com/finance/quote/{symbol}:NASDAQ?hl=en'\n",
    "    print(url)\n",
    "    \n",
    "    driver.get(url)\n",
    "    driver.implicitly_wait(time_to_wait=3000)\n",
    "    html = driver.page_source\n",
    "    soup = BeautifulSoup(html, 'html.parser')\n",
    "    # dom = etree.HTML(str(soup))\n",
    "    print(html[:300])\n",
    "\n",
    "    foundation = soup.select_one('#c117 > div:nth-child(3) > div.P6K39c').get_text()\n",
    "    revenue = soup.select_one('#c99 > div > table > tr:nth-child(2) > td.QXDnM').get_text()\n",
    "    \n",
    "    # operating_expense = soup.select_one('#c43 > div > table > tr:nth-child(2) > td.QXDnM').get_text()\n",
    "    # net_income = soup.select_one('#c43 > div > table > tr:nth-child(2) > td.QXDnM').get_text()\n",
    "    # revenue = soup.select_one('#c43 > div > table > tr:nth-child(2) > td.QXDnM').get_text()\n",
    "    print(foundation, revenue)\n",
    "\n",
    "\n"
   ]
  },
  {
   "cell_type": "code",
   "execution_count": 82,
   "metadata": {},
   "outputs": [
    {
     "name": "stderr",
     "output_type": "stream",
     "text": [
      "/var/folders/fy/vfsf24gn1c78_7xkw_jwnkc00000gq/T/ipykernel_31255/2016933907.py:10: DeprecationWarning: executable_path has been deprecated, please pass in a Service object\n",
      "  driver = webdriver.Chrome(executable_path=CRHOME_PATH, options=options)\n"
     ]
    },
    {
     "name": "stdout",
     "output_type": "stream",
     "text": [
      "https://www.google.com/finance/quote/AAPL:NASDAQ?hl=en\n",
      "<html lang=\"en\" dir=\"ltr\"><head><script src=\"https://www.gstatic.com/_/mss/boq-finance/_/js/k=boq-finance.GoogleFinanceUi.en.TfXywPdLHQc.es5.O/ck=boq-finance.GoogleFinanceUi.RbO-Q9njbW0.L.B1.O/am=AUASCAAAAAC8gQUAAAAAAAAAIAoAAAAAAACAJgIQ/d=1/exm=A4UTCb,A7fCU,AOdTqf,BPOkb,BVgquf,COQbmf,DAGh5b,DrJTUc,E\n"
     ]
    },
    {
     "ename": "AttributeError",
     "evalue": "'NoneType' object has no attribute 'get_text'",
     "output_type": "error",
     "traceback": [
      "\u001b[0;31m---------------------------------------------------------------------------\u001b[0m",
      "\u001b[0;31mAttributeError\u001b[0m                            Traceback (most recent call last)",
      "\u001b[1;32m/Users/CUop/Workspace/market/nasdaq_google.ipynb Cell 3'\u001b[0m in \u001b[0;36m<cell line: 13>\u001b[0;34m()\u001b[0m\n\u001b[1;32m     <a href='vscode-notebook-cell:/Users/CUop/Workspace/market/nasdaq_google.ipynb#ch0000001?line=11'>12</a>\u001b[0m symbols \u001b[39m=\u001b[39m [\u001b[39m'\u001b[39m\u001b[39mAAPL\u001b[39m\u001b[39m'\u001b[39m, \u001b[39m'\u001b[39m\u001b[39mTSLA\u001b[39m\u001b[39m'\u001b[39m, \u001b[39m'\u001b[39m\u001b[39mMSFT\u001b[39m\u001b[39m'\u001b[39m]\n\u001b[1;32m     <a href='vscode-notebook-cell:/Users/CUop/Workspace/market/nasdaq_google.ipynb#ch0000001?line=12'>13</a>\u001b[0m \u001b[39mfor\u001b[39;00m symbol \u001b[39min\u001b[39;00m symbols:\n\u001b[0;32m---> <a href='vscode-notebook-cell:/Users/CUop/Workspace/market/nasdaq_google.ipynb#ch0000001?line=13'>14</a>\u001b[0m     scrape_google_finance(symbol, driver)\n\u001b[1;32m     <a href='vscode-notebook-cell:/Users/CUop/Workspace/market/nasdaq_google.ipynb#ch0000001?line=15'>16</a>\u001b[0m driver\u001b[39m.\u001b[39mquit()\n",
      "\u001b[1;32m/Users/CUop/Workspace/market/nasdaq_google.ipynb Cell 2'\u001b[0m in \u001b[0;36mscrape_google_finance\u001b[0;34m(symbol, driver)\u001b[0m\n\u001b[1;32m      <a href='vscode-notebook-cell:/Users/CUop/Workspace/market/nasdaq_google.ipynb#ch0000005?line=8'>9</a>\u001b[0m \u001b[39m# dom = etree.HTML(str(soup))\u001b[39;00m\n\u001b[1;32m     <a href='vscode-notebook-cell:/Users/CUop/Workspace/market/nasdaq_google.ipynb#ch0000005?line=9'>10</a>\u001b[0m \u001b[39mprint\u001b[39m(html[:\u001b[39m300\u001b[39m])\n\u001b[0;32m---> <a href='vscode-notebook-cell:/Users/CUop/Workspace/market/nasdaq_google.ipynb#ch0000005?line=11'>12</a>\u001b[0m foundation \u001b[39m=\u001b[39m soup\u001b[39m.\u001b[39;49mselect_one(\u001b[39m'\u001b[39;49m\u001b[39m#c117 > div:nth-child(3) > div.P6K39c\u001b[39;49m\u001b[39m'\u001b[39;49m)\u001b[39m.\u001b[39;49mget_text()\n\u001b[1;32m     <a href='vscode-notebook-cell:/Users/CUop/Workspace/market/nasdaq_google.ipynb#ch0000005?line=12'>13</a>\u001b[0m revenue \u001b[39m=\u001b[39m soup\u001b[39m.\u001b[39mselect_one(\u001b[39m'\u001b[39m\u001b[39m#c99 > div > table > tr:nth-child(2) > td.QXDnM\u001b[39m\u001b[39m'\u001b[39m)\u001b[39m.\u001b[39mget_text()\n\u001b[1;32m     <a href='vscode-notebook-cell:/Users/CUop/Workspace/market/nasdaq_google.ipynb#ch0000005?line=14'>15</a>\u001b[0m \u001b[39m# operating_expense = soup.select_one('#c43 > div > table > tr:nth-child(2) > td.QXDnM').get_text()\u001b[39;00m\n\u001b[1;32m     <a href='vscode-notebook-cell:/Users/CUop/Workspace/market/nasdaq_google.ipynb#ch0000005?line=15'>16</a>\u001b[0m \u001b[39m# net_income = soup.select_one('#c43 > div > table > tr:nth-child(2) > td.QXDnM').get_text()\u001b[39;00m\n\u001b[1;32m     <a href='vscode-notebook-cell:/Users/CUop/Workspace/market/nasdaq_google.ipynb#ch0000005?line=16'>17</a>\u001b[0m \u001b[39m# revenue = soup.select_one('#c43 > div > table > tr:nth-child(2) > td.QXDnM').get_text()\u001b[39;00m\n",
      "\u001b[0;31mAttributeError\u001b[0m: 'NoneType' object has no attribute 'get_text'"
     ]
    }
   ],
   "source": [
    "CRHOME_PATH = '/opt/homebrew/bin/chromedriver'\n",
    "# HEADERS = {\n",
    "#     \"User-Agent\": \"Mozilla/5.0 (X11; Linux x86_64) AppleWebKit/537.36 \\\n",
    "#             (KHTML, like Gecko) Chrome/44.0.2403.157 Safari/537.36\",\n",
    "#     \"Accept-Language\": \"en-US, en;q=0.5\",\n",
    "# }\n",
    "\n",
    "options = webdriver.ChromeOptions()\n",
    "options.add_argument(\"Mozilla/5.0 (X11; Linux x86_64) AppleWebKit/537.36 (KHTML, like Gecko) Chrome/44.0.2403.157 Safari/537.36\")\n",
    "driver = webdriver.Chrome(executable_path=CRHOME_PATH, options=options)\n",
    "\n",
    "symbols = ['AAPL', 'TSLA', 'MSFT']\n",
    "for symbol in symbols:\n",
    "    scrape_google_finance(symbol, driver)\n",
    "\n",
    "driver.quit()"
   ]
  },
  {
   "cell_type": "code",
   "execution_count": null,
   "metadata": {},
   "outputs": [],
   "source": []
  }
 ],
 "metadata": {
  "kernelspec": {
   "display_name": "Python 3.9.12 ('jupy')",
   "language": "python",
   "name": "python3"
  },
  "language_info": {
   "name": "python",
   "version": "3.9.12"
  },
  "orig_nbformat": 4,
  "vscode": {
   "interpreter": {
    "hash": "4f2c90995bf61f046707788a0b73ac4bd8c7fa3f699490437d16f94fef7b744e"
   }
  }
 },
 "nbformat": 4,
 "nbformat_minor": 2
}
