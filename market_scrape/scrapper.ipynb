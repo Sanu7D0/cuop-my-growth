{
 "cells": [
  {
   "cell_type": "code",
   "execution_count": 2,
   "id": "959842cd-685e-4e1b-9117-0b3b4c9fdbab",
   "metadata": {},
   "outputs": [],
   "source": [
    "import pandas as pd\n",
    "import numpy as np\n",
    "from coredotfinance.data import KrxReader\n",
    "krx = KrxReader()\n",
    "import dart_fss as dart\n",
    "from tqdm.auto import tqdm\n",
    "from time import sleep\n",
    "import FinanceDataReader as fdr\n",
    "from collections import defaultdict\n",
    "import plotly.express as px\n",
    "import plotly.graph_objects as go\n",
    "from plotly.subplots import make_subplots"
   ]
  },
  {
   "cell_type": "code",
   "execution_count": 6,
   "id": "8af1354b",
   "metadata": {},
   "outputs": [
    {
     "name": "stderr",
     "output_type": "stream",
     "text": [
      "100%|██████████| 4634/4634 [00:46<00:00, 98.75it/s] \n"
     ]
    },
    {
     "data": {
      "text/html": [
       "<div>\n",
       "<style scoped>\n",
       "    .dataframe tbody tr th:only-of-type {\n",
       "        vertical-align: middle;\n",
       "    }\n",
       "\n",
       "    .dataframe tbody tr th {\n",
       "        vertical-align: top;\n",
       "    }\n",
       "\n",
       "    .dataframe thead th {\n",
       "        text-align: right;\n",
       "    }\n",
       "</style>\n",
       "<table border=\"1\" class=\"dataframe\">\n",
       "  <thead>\n",
       "    <tr style=\"text-align: right;\">\n",
       "      <th></th>\n",
       "      <th>Symbol</th>\n",
       "      <th>Name</th>\n",
       "      <th>Industry</th>\n",
       "      <th>IndustryCode</th>\n",
       "    </tr>\n",
       "  </thead>\n",
       "  <tbody>\n",
       "    <tr>\n",
       "      <th>0</th>\n",
       "      <td>AAPL</td>\n",
       "      <td>Apple Inc</td>\n",
       "      <td>컴퓨터, 전화 및 가전제품</td>\n",
       "      <td>571060</td>\n",
       "    </tr>\n",
       "    <tr>\n",
       "      <th>1</th>\n",
       "      <td>MSFT</td>\n",
       "      <td>Microsoft Corp</td>\n",
       "      <td>소프트웨어 및 IT서비스</td>\n",
       "      <td>572010</td>\n",
       "    </tr>\n",
       "    <tr>\n",
       "      <th>2</th>\n",
       "      <td>AMZN</td>\n",
       "      <td>Amazon.com Inc</td>\n",
       "      <td>다양한 소매업</td>\n",
       "      <td>534020</td>\n",
       "    </tr>\n",
       "    <tr>\n",
       "      <th>3</th>\n",
       "      <td>GOOGL</td>\n",
       "      <td>Alphabet Inc Class A</td>\n",
       "      <td>소프트웨어 및 IT서비스</td>\n",
       "      <td>572010</td>\n",
       "    </tr>\n",
       "    <tr>\n",
       "      <th>4</th>\n",
       "      <td>TSLA</td>\n",
       "      <td>Tesla Inc</td>\n",
       "      <td>자동차 및 자동차 부품</td>\n",
       "      <td>531010</td>\n",
       "    </tr>\n",
       "    <tr>\n",
       "      <th>...</th>\n",
       "      <td>...</td>\n",
       "      <td>...</td>\n",
       "      <td>...</td>\n",
       "      <td>...</td>\n",
       "    </tr>\n",
       "    <tr>\n",
       "      <th>4629</th>\n",
       "      <td>GBBKR</td>\n",
       "      <td>Global Blockchain Acquisition Rights</td>\n",
       "      <td>기타 금융업</td>\n",
       "      <td>556010</td>\n",
       "    </tr>\n",
       "    <tr>\n",
       "      <th>4630</th>\n",
       "      <td>ZTOPU</td>\n",
       "      <td>Zi Toprun Acquisition Units</td>\n",
       "      <td>기타 금융업</td>\n",
       "      <td>556010</td>\n",
       "    </tr>\n",
       "    <tr>\n",
       "      <th>4631</th>\n",
       "      <td>MOB</td>\n",
       "      <td>Mobilicom Ltd ADR</td>\n",
       "      <td>NaN</td>\n",
       "      <td>NaN</td>\n",
       "    </tr>\n",
       "    <tr>\n",
       "      <th>4632</th>\n",
       "      <td>RENE</td>\n",
       "      <td>Cartesian Growth Corporation II Class A</td>\n",
       "      <td>기타 금융업</td>\n",
       "      <td>556010</td>\n",
       "    </tr>\n",
       "    <tr>\n",
       "      <th>4633</th>\n",
       "      <td>YOTAR</td>\n",
       "      <td>Yotta Acquisition Rights</td>\n",
       "      <td>기타 금융업</td>\n",
       "      <td>556010</td>\n",
       "    </tr>\n",
       "  </tbody>\n",
       "</table>\n",
       "<p>4634 rows × 4 columns</p>\n",
       "</div>"
      ],
      "text/plain": [
       "     Symbol                                     Name        Industry  \\\n",
       "0      AAPL                                Apple Inc  컴퓨터, 전화 및 가전제품   \n",
       "1      MSFT                           Microsoft Corp   소프트웨어 및 IT서비스   \n",
       "2      AMZN                           Amazon.com Inc         다양한 소매업   \n",
       "3     GOOGL                     Alphabet Inc Class A   소프트웨어 및 IT서비스   \n",
       "4      TSLA                                Tesla Inc    자동차 및 자동차 부품   \n",
       "...     ...                                      ...             ...   \n",
       "4629  GBBKR     Global Blockchain Acquisition Rights          기타 금융업   \n",
       "4630  ZTOPU              Zi Toprun Acquisition Units          기타 금융업   \n",
       "4631    MOB                        Mobilicom Ltd ADR             NaN   \n",
       "4632   RENE  Cartesian Growth Corporation II Class A          기타 금융업   \n",
       "4633  YOTAR                 Yotta Acquisition Rights          기타 금융업   \n",
       "\n",
       "     IndustryCode  \n",
       "0          571060  \n",
       "1          572010  \n",
       "2          534020  \n",
       "3          572010  \n",
       "4          531010  \n",
       "...           ...  \n",
       "4629       556010  \n",
       "4630       556010  \n",
       "4631          NaN  \n",
       "4632       556010  \n",
       "4633       556010  \n",
       "\n",
       "[4634 rows x 4 columns]"
      ]
     },
     "execution_count": 6,
     "metadata": {},
     "output_type": "execute_result"
    }
   ],
   "source": [
    "df_nasdaq = fdr.StockListing('NASDAQ')\n",
    "df_nasdaq\n"
   ]
  },
  {
   "cell_type": "code",
   "execution_count": 80,
   "id": "20bc5f93",
   "metadata": {},
   "outputs": [
    {
     "data": {
      "application/vnd.jupyter.widget-view+json": {
       "model_id": "fb84f000111042c7a691099fa731e6b8",
       "version_major": 2,
       "version_minor": 0
      },
      "text/plain": [
       "  0%|          | 0/4634 [00:00<?, ?it/s]"
      ]
     },
     "metadata": {},
     "output_type": "display_data"
    },
    {
     "name": "stdout",
     "output_type": "stream",
     "text": [
      "HTTP 429 error. Retry after 86400 seconds (1 day, 0:00:00)\n",
      "BIDU failed.\n",
      "HTTP 429 error. Retry after 86400 seconds (1 day, 0:00:00)\n",
      "KDP failed.\n",
      "HTTP 429 error. Retry after 86399 seconds (23:59:59)\n",
      "AEP failed.\n",
      "HTTP 429 error. Retry after 86399 seconds (23:59:59)\n",
      "PANW failed.\n",
      "HTTP 429 error. Retry after 86399 seconds (23:59:59)\n",
      "MNST failed.\n",
      "HTTP 429 error. Retry after 86398 seconds (23:59:58)\n",
      "TEAM failed.\n",
      "HTTP 429 error. Retry after 86398 seconds (23:59:58)\n",
      "KLAC failed.\n",
      "HTTP 429 error. Retry after 86398 seconds (23:59:58)\n",
      "KHC failed.\n",
      "HTTP 429 error. Retry after 86397 seconds (23:59:57)\n",
      "SNPS failed.\n",
      "HTTP 429 error. Retry after 86396 seconds (23:59:56)\n",
      "FTNT failed.\n",
      "HTTP 429 error. Retry after 86396 seconds (23:59:56)\n",
      "MAR failed.\n",
      "HTTP 429 error. Retry after 86395 seconds (23:59:55)\n",
      "EXC failed.\n",
      "HTTP 429 error. Retry after 86395 seconds (23:59:55)\n",
      "VOD failed.\n",
      "ORLY failed.\n",
      "HTTP 429 error. Retry after 86394 seconds (23:59:54)\n",
      "CDNS failed.\n",
      "HTTP 429 error. Retry after 86394 seconds (23:59:54)\n",
      "PAYX failed.\n",
      "HTTP 429 error. Retry after 86394 seconds (23:59:54)\n",
      "CRWD failed.\n",
      "HTTP 429 error. Retry after 86393 seconds (23:59:53)\n",
      "LI failed.\n",
      "HTTP 429 error. Retry after 86393 seconds (23:59:53)\n",
      "NXPI failed.\n",
      "HTTP 429 error. Retry after 86392 seconds (23:59:52)\n",
      "XEL failed.\n",
      "HTTP 429 error. Retry after 86391 seconds (23:59:51)\n",
      "CTAS failed.\n",
      "HTTP 429 error. Retry after 86391 seconds (23:59:51)\n",
      "ADSK failed.\n",
      "HTTP 429 error. Retry after 86391 seconds (23:59:51)\n",
      "MRVL failed.\n",
      "HTTP 429 error. Retry after 86390 seconds (23:59:50)\n",
      "BNTX failed.\n",
      "HTTP 429 error. Retry after 86390 seconds (23:59:50)\n",
      "WDAY failed.\n",
      "HTTP 429 error. Retry after 86390 seconds (23:59:50)\n",
      "CTSH failed.\n",
      "HTTP 429 error. Retry after 86389 seconds (23:59:49)\n",
      "DLTR failed.\n",
      "HTTP 429 error. Retry after 86389 seconds (23:59:49)\n",
      "SBAC failed.\n",
      "HTTP 429 error. Retry after 86389 seconds (23:59:49)\n",
      "EA failed.\n",
      "HTTP 429 error. Retry after 86387 seconds (23:59:47)\n",
      "LULU failed.\n",
      "HTTP 429 error. Retry after 86387 seconds (23:59:47)\n",
      "WBA failed.\n",
      "HTTP 429 error. Retry after 86386 seconds (23:59:46)\n",
      "SGEN failed.\n",
      "HTTP 429 error. Retry after 86386 seconds (23:59:46)\n",
      "WBD failed.\n",
      "HTTP 429 error. Retry after 86386 seconds (23:59:46)\n",
      "ZM failed.\n",
      "HTTP 429 error. Retry after 86385 seconds (23:59:45)\n",
      "MCHP failed.\n",
      "HTTP 429 error. Retry after 86385 seconds (23:59:45)\n",
      "MELI failed.\n",
      "HTTP 429 error. Retry after 86385 seconds (23:59:45)\n",
      "DDOG failed.\n",
      "HTTP 429 error. Retry after 86384 seconds (23:59:44)\n",
      "BIIB failed.\n",
      "HTTP 429 error. Retry after 86384 seconds (23:59:44)\n",
      "BKR failed.\n",
      "HTTP 429 error. Retry after 86383 seconds (23:59:43)\n",
      "IDXX failed.\n",
      "HTTP 429 error. Retry after 86382 seconds (23:59:42)\n",
      "DXCM failed.\n",
      "HTTP 429 error. Retry after 86382 seconds (23:59:42)\n",
      "ODFL failed.\n",
      "HTTP 429 error. Retry after 86382 seconds (23:59:42)\n",
      "ILMN failed.\n",
      "HTTP 429 error. Retry after 86381 seconds (23:59:41)\n",
      "FAST failed.\n",
      "HTTP 429 error. Retry after 86381 seconds (23:59:41)\n",
      "PCAR failed.\n",
      "HTTP 429 error. Retry after 86381 seconds (23:59:41)\n",
      "LCID failed.\n",
      "HTTP 429 error. Retry after 86380 seconds (23:59:40)\n",
      "VRSK failed.\n",
      "HTTP 429 error. Retry after 86380 seconds (23:59:40)\n",
      "ENPH failed.\n",
      "HTTP 429 error. Retry after 86380 seconds (23:59:40)\n",
      "CPRT failed.\n",
      "HTTP 429 error. Retry after 86378 seconds (23:59:38)\n",
      "TROW failed.\n",
      "HTTP 429 error. Retry after 86378 seconds (23:59:38)\n",
      "RPRX failed.\n",
      "HTTP 429 error. Retry after 86378 seconds (23:59:38)\n",
      "NDAQ failed.\n",
      "HTTP 429 error. Retry after 86377 seconds (23:59:37)\n",
      "ROST failed.\n",
      "HTTP 429 error. Retry after 86377 seconds (23:59:37)\n",
      "SIRI failed.\n",
      "HTTP 429 error. Retry after 86376 seconds (23:59:36)\n",
      "CSGP failed.\n",
      "HTTP 429 error. Retry after 86376 seconds (23:59:36)\n",
      "CCEP failed.\n",
      "HTTP 429 error. Retry after 86376 seconds (23:59:36)\n",
      "EBAY failed.\n",
      "HTTP 429 error. Retry after 86375 seconds (23:59:35)\n",
      "SIVB failed.\n",
      "HTTP 429 error. Retry after 86375 seconds (23:59:35)\n",
      "RIVN failed.\n",
      "HTTP 429 error. Retry after 86372 seconds (23:59:32)\n",
      "FITB failed.\n",
      "HTTP 429 error. Retry after 86372 seconds (23:59:32)\n",
      "IBKR failed.\n",
      "HTTP 429 error. Retry after 86371 seconds (23:59:31)\n",
      "ERIC failed.\n",
      "HTTP 429 error. Retry after 86371 seconds (23:59:31)\n",
      "WTW failed.\n",
      "HTTP 429 error. Retry after 86370 seconds (23:59:30)\n",
      "ON failed.\n",
      "HTTP 429 error. Retry after 86370 seconds (23:59:30)\n",
      "GFS failed.\n",
      "HTTP 429 error. Retry after 86370 seconds (23:59:30)\n",
      "TSCO failed.\n",
      "HTTP 429 error. Retry after 86369 seconds (23:59:29)\n",
      "FANG failed.\n",
      "HTTP 429 error. Retry after 86369 seconds (23:59:29)\n",
      "CDW failed.\n",
      "HTTP 429 error. Retry after 86369 seconds (23:59:29)\n",
      "GMAB failed.\n",
      "HTTP 429 error. Retry after 86367 seconds (23:59:27)\n",
      "ZS failed.\n",
      "HTTP 429 error. Retry after 86367 seconds (23:59:27)\n",
      "ANSS failed.\n",
      "HTTP 429 error. Retry after 86367 seconds (23:59:27)\n",
      "ARGX failed.\n",
      "HTTP 429 error. Retry after 86366 seconds (23:59:26)\n",
      "TTD failed.\n",
      "HTTP 429 error. Retry after 86366 seconds (23:59:26)\n",
      "NTRS failed.\n",
      "HTTP 429 error. Retry after 86365 seconds (23:59:25)\n",
      "ULTA failed.\n",
      "HTTP 429 error. Retry after 86365 seconds (23:59:25)\n",
      "MTCH failed.\n",
      "HTTP 429 error. Retry after 86364 seconds (23:59:24)\n",
      "TTWO failed.\n",
      "HTTP 429 error. Retry after 86364 seconds (23:59:24)\n",
      "CINF failed.\n",
      "HTTP 429 error. Retry after 86364 seconds (23:59:24)\n",
      "CEG failed.\n",
      "HTTP 429 error. Retry after 86362 seconds (23:59:22)\n",
      "ALGN failed.\n",
      "HTTP 429 error. Retry after 86362 seconds (23:59:22)\n",
      "PSNY failed.\n",
      "HTTP 429 error. Retry after 86362 seconds (23:59:22)\n",
      "HZNP failed.\n",
      "HTTP 429 error. Retry after 86361 seconds (23:59:21)\n",
      "VRSN failed.\n",
      "HTTP 429 error. Retry after 86361 seconds (23:59:21)\n",
      "MPWR failed.\n",
      "HTTP 429 error. Retry after 86361 seconds (23:59:21)\n",
      "MDB failed.\n",
      "HTTP 429 error. Retry after 86360 seconds (23:59:20)\n",
      "ALNY failed.\n",
      "HTTP 429 error. Retry after 86360 seconds (23:59:20)\n",
      "ICLR failed.\n",
      "HTTP 429 error. Retry after 86360 seconds (23:59:20)\n",
      "TCOM failed.\n",
      "HTTP 429 error. Retry after 86359 seconds (23:59:19)\n",
      "HBAN failed.\n",
      "HTTP 429 error. Retry after 86358 seconds (23:59:18)\n",
      "HOLX failed.\n",
      "HTTP 429 error. Retry after 86357 seconds (23:59:17)\n",
      "ACGL failed.\n",
      "HTTP 429 error. Retry after 86357 seconds (23:59:17)\n",
      "PFG failed.\n",
      "HTTP 429 error. Retry after 86357 seconds (23:59:17)\n",
      "INCY failed.\n",
      "HTTP 429 error. Retry after 86356 seconds (23:59:16)\n",
      "BGNE failed.\n",
      "PPD failed.\n",
      "HTTP 429 error. Retry after 86356 seconds (23:59:16)\n",
      "JBHT failed.\n",
      "HTTP 429 error. Retry after 86356 seconds (23:59:16)\n",
      "EXPD failed.\n",
      "HTTP 429 error. Retry after 86355 seconds (23:59:15)\n",
      "TW failed.\n",
      "HTTP 429 error. Retry after 86355 seconds (23:59:15)\n",
      "LBRDK failed.\n",
      "HTTP 429 error. Retry after 86353 seconds (23:59:13)\n",
      "CHKP failed.\n",
      "HTTP 429 error. Retry after 86353 seconds (23:59:13)\n",
      "ZBRA failed.\n",
      "HTTP 429 error. Retry after 86353 seconds (23:59:13)\n",
      "STX failed.\n",
      "HTTP 429 error. Retry after 86352 seconds (23:59:12)\n",
      "BMRN failed.\n",
      "HTTP 429 error. Retry after 86352 seconds (23:59:12)\n",
      "RYAAY failed.\n",
      "HTTP 429 error. Retry after 86349 seconds (23:59:09)\n",
      "SEDG failed.\n",
      "HTTP 429 error. Retry after 86349 seconds (23:59:09)\n",
      "PODD failed.\n",
      "HTTP 429 error. Retry after 86348 seconds (23:59:08)\n",
      "PARA failed.\n",
      "HTTP 429 error. Retry after 86348 seconds (23:59:08)\n",
      "SWKS failed.\n",
      "HTTP 429 error. Retry after 86348 seconds (23:59:08)\n",
      "EXPE failed.\n",
      "HTTP 429 error. Retry after 86346 seconds (23:59:06)\n",
      "SSNC failed.\n",
      "HTTP 429 error. Retry after 86346 seconds (23:59:06)\n",
      "IEP failed.\n",
      "HTTP 429 error. Retry after 86345 seconds (23:59:05)\n",
      "LPLA failed.\n",
      "HTTP 429 error. Retry after 86345 seconds (23:59:05)\n",
      "LNT failed.\n",
      "HTTP 429 error. Retry after 86345 seconds (23:59:05)\n",
      "AKAM failed.\n",
      "HTTP 429 error. Retry after 86344 seconds (23:59:04)\n",
      "TRMB failed.\n",
      "HTTP 429 error. Retry after 86344 seconds (23:59:04)\n",
      "NTAP failed.\n",
      "HTTP 429 error. Retry after 86344 seconds (23:59:04)\n",
      "TER failed.\n",
      "HTTP 429 error. Retry after 86343 seconds (23:59:03)\n",
      "OKTA failed.\n",
      "HTTP 429 error. Retry after 86343 seconds (23:59:03)\n",
      "SPLK failed.\n",
      "HTTP 429 error. Retry after 86341 seconds (23:59:01)\n",
      "POOL failed.\n",
      "HTTP 429 error. Retry after 86341 seconds (23:59:01)\n",
      "WDC failed.\n",
      "HTTP 429 error. Retry after 86341 seconds (23:59:01)\n",
      "LKQ failed.\n",
      "HTTP 429 error. Retry after 86340 seconds (23:59:00)\n",
      "TECH failed.\n",
      "HTTP 429 error. Retry after 86340 seconds (23:59:00)\n",
      "ZI failed.\n",
      "HTTP 429 error. Retry after 86339 seconds (23:58:59)\n",
      "JKHY failed.\n",
      "HTTP 429 error. Retry after 86339 seconds (23:58:59)\n",
      "FWONK failed.\n",
      "HTTP 429 error. Retry after 86338 seconds (23:58:58)\n",
      "APP failed.\n",
      "HTTP 429 error. Retry after 86338 seconds (23:58:58)\n",
      "CHRW failed.\n",
      "HTTP 429 error. Retry after 86338 seconds (23:58:58)\n",
      "NLOK failed.\n",
      "HTTP 429 error. Retry after 86336 seconds (23:58:56)\n",
      "VTRS failed.\n",
      "HTTP 429 error. Retry after 86336 seconds (23:58:56)\n",
      "WMG failed.\n",
      "HTTP 429 error. Retry after 86336 seconds (23:58:56)\n",
      "ENTG failed.\n",
      "HTTP 429 error. Retry after 86335 seconds (23:58:55)\n",
      "STLD failed.\n",
      "HTTP 429 error. Retry after 86335 seconds (23:58:55)\n",
      "PTC failed.\n",
      "HTTP 429 error. Retry after 86335 seconds (23:58:55)\n",
      "CTXS failed.\n",
      "HTTP 429 error. Retry after 86334 seconds (23:58:54)\n",
      "HTHT failed.\n",
      "HTTP 429 error. Retry after 86334 seconds (23:58:54)\n",
      "AZPN failed.\n",
      "HTTP 429 error. Retry after 86334 seconds (23:58:54)\n",
      "NICE failed.\n",
      "HTTP 429 error. Retry after 86333 seconds (23:58:53)\n",
      "APA failed.\n",
      "HTTP 429 error. Retry after 86332 seconds (23:58:52)\n",
      "GLPI failed.\n",
      "HTTP 429 error. Retry after 86332 seconds (23:58:52)\n",
      "NDSN failed.\n",
      "HTTP 429 error. Retry after 86331 seconds (23:58:51)\n",
      "UAL failed.\n",
      "HTTP 429 error. Retry after 86331 seconds (23:58:51)\n",
      "DOCU failed.\n",
      "HTTP 429 error. Retry after 86330 seconds (23:58:50)\n",
      "CG failed.\n",
      "HTTP 429 error. Retry after 86330 seconds (23:58:50)\n",
      "BZ failed.\n",
      "HTTP 429 error. Retry after 86330 seconds (23:58:50)\n",
      "HAS failed.\n",
      "HTTP 429 error. Retry after 86327 seconds (23:58:47)\n",
      "ABMD failed.\n",
      "HTTP 429 error. Retry after 86327 seconds (23:58:47)\n",
      "SBNY failed.\n",
      "HTTP 429 error. Retry after 86326 seconds (23:58:46)\n",
      "HST failed.\n",
      "HTTP 429 error. Retry after 86325 seconds (23:58:45)\n",
      "ROKU failed.\n",
      "HTTP 429 error. Retry after 86325 seconds (23:58:45)\n",
      "UTHR failed.\n",
      "HTTP 429 error. Retry after 86324 seconds (23:58:44)\n",
      "HSIC failed.\n",
      "HTTP 429 error. Retry after 86324 seconds (23:58:44)\n",
      "COIN failed.\n",
      "HTTP 429 error. Retry after 86324 seconds (23:58:44)\n",
      "MORN failed.\n",
      "HTTP 429 error. Retry after 86323 seconds (23:58:43)\n",
      "CHK failed.\n",
      "HTTP 429 error. Retry after 86323 seconds (23:58:43)\n",
      "OTEX failed.\n",
      "HTTP 429 error. Retry after 86323 seconds (23:58:43)\n",
      "DOX failed.\n",
      "HTTP 429 error. Retry after 86322 seconds (23:58:42)\n",
      "REG failed.\n",
      "HTTP 429 error. Retry after 86322 seconds (23:58:42)\n",
      "ESLT failed.\n",
      "HTTP 429 error. Retry after 86320 seconds (23:58:40)\n",
      "XP failed.\n",
      "HTTP 429 error. Retry after 86320 seconds (23:58:40)\n",
      "FOXA failed.\n",
      "HTTP 429 error. Retry after 86320 seconds (23:58:40)\n",
      "BILI failed.\n",
      "QRVO failed.\n",
      "HTTP 429 error. Retry after 86319 seconds (23:58:39)\n",
      "FCNCA failed.\n",
      "HTTP 429 error. Retry after 86319 seconds (23:58:39)\n",
      "JAZZ failed.\n",
      "HTTP 429 error. Retry after 86319 seconds (23:58:39)\n",
      "GRAB failed.\n",
      "HTTP 429 error. Retry after 86318 seconds (23:58:38)\n",
      "MKTX failed.\n",
      "HTTP 429 error. Retry after 86318 seconds (23:58:38)\n",
      "PCTY failed.\n",
      "HTTP 429 error. Retry after 86317 seconds (23:58:37)\n",
      "PLUG failed.\n",
      "HTTP 429 error. Retry after 86316 seconds (23:58:36)\n",
      "BSY failed.\n",
      "HTTP 429 error. Retry after 86315 seconds (23:58:35)\n",
      "DISH failed.\n",
      "HTTP 429 error. Retry after 86315 seconds (23:58:35)\n",
      "UHAL failed.\n",
      "HTTP 429 error. Retry after 86315 seconds (23:58:35)\n",
      "BRKR failed.\n",
      "CREE failed.\n",
      "HTTP 429 error. Retry after 86314 seconds (23:58:34)\n",
      "NBIX failed.\n",
      "HTTP 429 error. Retry after 86314 seconds (23:58:34)\n",
      "ETSY failed.\n",
      "HTTP 429 error. Retry after 86313 seconds (23:58:33)\n",
      "FFIV failed.\n",
      "HTTP 429 error. Retry after 86313 seconds (23:58:33)\n",
      "EWBC failed.\n",
      "HTTP 429 error. Retry after 86313 seconds (23:58:33)\n",
      "OLPX failed.\n",
      "HTTP 429 error. Retry after 86311 seconds (23:58:31)\n",
      "LOGI failed.\n",
      "HTTP 429 error. Retry after 86311 seconds (23:58:31)\n",
      "RGEN failed.\n",
      "HTTP 429 error. Retry after 86310 seconds (23:58:30)\n",
      "LAMR failed.\n",
      "HTTP 429 error. Retry after 86310 seconds (23:58:30)\n",
      "ERIE failed.\n",
      "HTTP 429 error. Retry after 86310 seconds (23:58:30)\n",
      "ARCC failed.\n",
      "HTTP 429 error. Retry after 86309 seconds (23:58:29)\n",
      "RCM failed.\n",
      "HTTP 429 error. Retry after 86309 seconds (23:58:29)\n",
      "LEGN failed.\n",
      "PBCT failed.\n",
      "HTTP 429 error. Retry after 86308 seconds (23:58:28)\n",
      "AAL failed.\n",
      "HTTP 429 error. Retry after 86308 seconds (23:58:28)\n",
      "NFE failed.\n"
     ]
    }
   ],
   "source": [
    "mc_nasdaq_df = []\n",
    "for i in tqdm(range(len(df_nasdaq))):\n",
    "    if (i + 1) % 10 == 0:\n",
    "        sleep(1)\n",
    "    \n",
    "    name = df_nasdaq.loc[i, 'Name']\n",
    "    symbol = df_nasdaq.loc[i, 'Symbol']\n",
    "    industry = df_nasdaq.loc[i, 'Industry']\n",
    "    if symbol == np.nan or industry == np.nan:\n",
    "        continue\n",
    "    \n",
    "    try:\n",
    "        series = fdr.DataReader(symbol, '20220701', '20220701')\n",
    "        market_cap = series.iloc[0, 3] * series.iloc[0, 4]\n",
    "        mc_nasdaq_df.append([name, industry, market_cap])\n",
    "    except:\n",
    "        print(f'{symbol} failed.')\n",
    "        continue\n",
    "    \n",
    "df = pd.DataFrame(mc_nasdaq_df, columns=['Industry', 'Name', 'MarketCap'])\n",
    "df.to_csv('./data/nasdaq_marketcap2.csv')"
   ]
  },
  {
   "cell_type": "code",
   "execution_count": null,
   "id": "3b8292fb",
   "metadata": {},
   "outputs": [],
   "source": []
  },
  {
   "cell_type": "code",
   "execution_count": 30,
   "id": "50760945",
   "metadata": {},
   "outputs": [
    {
     "data": {
      "application/vnd.plotly.v1+json": {
       "config": {
        "plotlyServerURL": "https://plotly.com"
       },
       "data": [
        {
         "type": "bar",
         "x": [
          "기타 금융업",
          "생명과학 및 메디컬 리서치",
          "소프트웨어 및 IT서비스",
          "은행",
          "헬스케어 장비 및 용품",
          "제약",
          "전문 및 상업 서비스",
          "건설장비 및 대형차, 기차, 배",
          "반도체 및 반도체 장비",
          "미디어 및 출판"
         ],
         "y": [
          1092,
          693,
          420,
          406,
          206,
          169,
          113,
          95,
          93,
          83
         ]
        }
       ],
       "layout": {
        "template": {
         "data": {
          "bar": [
           {
            "error_x": {
             "color": "#2a3f5f"
            },
            "error_y": {
             "color": "#2a3f5f"
            },
            "marker": {
             "line": {
              "color": "#E5ECF6",
              "width": 0.5
             },
             "pattern": {
              "fillmode": "overlay",
              "size": 10,
              "solidity": 0.2
             }
            },
            "type": "bar"
           }
          ],
          "barpolar": [
           {
            "marker": {
             "line": {
              "color": "#E5ECF6",
              "width": 0.5
             },
             "pattern": {
              "fillmode": "overlay",
              "size": 10,
              "solidity": 0.2
             }
            },
            "type": "barpolar"
           }
          ],
          "carpet": [
           {
            "aaxis": {
             "endlinecolor": "#2a3f5f",
             "gridcolor": "white",
             "linecolor": "white",
             "minorgridcolor": "white",
             "startlinecolor": "#2a3f5f"
            },
            "baxis": {
             "endlinecolor": "#2a3f5f",
             "gridcolor": "white",
             "linecolor": "white",
             "minorgridcolor": "white",
             "startlinecolor": "#2a3f5f"
            },
            "type": "carpet"
           }
          ],
          "choropleth": [
           {
            "colorbar": {
             "outlinewidth": 0,
             "ticks": ""
            },
            "type": "choropleth"
           }
          ],
          "contour": [
           {
            "colorbar": {
             "outlinewidth": 0,
             "ticks": ""
            },
            "colorscale": [
             [
              0,
              "#0d0887"
             ],
             [
              0.1111111111111111,
              "#46039f"
             ],
             [
              0.2222222222222222,
              "#7201a8"
             ],
             [
              0.3333333333333333,
              "#9c179e"
             ],
             [
              0.4444444444444444,
              "#bd3786"
             ],
             [
              0.5555555555555556,
              "#d8576b"
             ],
             [
              0.6666666666666666,
              "#ed7953"
             ],
             [
              0.7777777777777778,
              "#fb9f3a"
             ],
             [
              0.8888888888888888,
              "#fdca26"
             ],
             [
              1,
              "#f0f921"
             ]
            ],
            "type": "contour"
           }
          ],
          "contourcarpet": [
           {
            "colorbar": {
             "outlinewidth": 0,
             "ticks": ""
            },
            "type": "contourcarpet"
           }
          ],
          "heatmap": [
           {
            "colorbar": {
             "outlinewidth": 0,
             "ticks": ""
            },
            "colorscale": [
             [
              0,
              "#0d0887"
             ],
             [
              0.1111111111111111,
              "#46039f"
             ],
             [
              0.2222222222222222,
              "#7201a8"
             ],
             [
              0.3333333333333333,
              "#9c179e"
             ],
             [
              0.4444444444444444,
              "#bd3786"
             ],
             [
              0.5555555555555556,
              "#d8576b"
             ],
             [
              0.6666666666666666,
              "#ed7953"
             ],
             [
              0.7777777777777778,
              "#fb9f3a"
             ],
             [
              0.8888888888888888,
              "#fdca26"
             ],
             [
              1,
              "#f0f921"
             ]
            ],
            "type": "heatmap"
           }
          ],
          "heatmapgl": [
           {
            "colorbar": {
             "outlinewidth": 0,
             "ticks": ""
            },
            "colorscale": [
             [
              0,
              "#0d0887"
             ],
             [
              0.1111111111111111,
              "#46039f"
             ],
             [
              0.2222222222222222,
              "#7201a8"
             ],
             [
              0.3333333333333333,
              "#9c179e"
             ],
             [
              0.4444444444444444,
              "#bd3786"
             ],
             [
              0.5555555555555556,
              "#d8576b"
             ],
             [
              0.6666666666666666,
              "#ed7953"
             ],
             [
              0.7777777777777778,
              "#fb9f3a"
             ],
             [
              0.8888888888888888,
              "#fdca26"
             ],
             [
              1,
              "#f0f921"
             ]
            ],
            "type": "heatmapgl"
           }
          ],
          "histogram": [
           {
            "marker": {
             "pattern": {
              "fillmode": "overlay",
              "size": 10,
              "solidity": 0.2
             }
            },
            "type": "histogram"
           }
          ],
          "histogram2d": [
           {
            "colorbar": {
             "outlinewidth": 0,
             "ticks": ""
            },
            "colorscale": [
             [
              0,
              "#0d0887"
             ],
             [
              0.1111111111111111,
              "#46039f"
             ],
             [
              0.2222222222222222,
              "#7201a8"
             ],
             [
              0.3333333333333333,
              "#9c179e"
             ],
             [
              0.4444444444444444,
              "#bd3786"
             ],
             [
              0.5555555555555556,
              "#d8576b"
             ],
             [
              0.6666666666666666,
              "#ed7953"
             ],
             [
              0.7777777777777778,
              "#fb9f3a"
             ],
             [
              0.8888888888888888,
              "#fdca26"
             ],
             [
              1,
              "#f0f921"
             ]
            ],
            "type": "histogram2d"
           }
          ],
          "histogram2dcontour": [
           {
            "colorbar": {
             "outlinewidth": 0,
             "ticks": ""
            },
            "colorscale": [
             [
              0,
              "#0d0887"
             ],
             [
              0.1111111111111111,
              "#46039f"
             ],
             [
              0.2222222222222222,
              "#7201a8"
             ],
             [
              0.3333333333333333,
              "#9c179e"
             ],
             [
              0.4444444444444444,
              "#bd3786"
             ],
             [
              0.5555555555555556,
              "#d8576b"
             ],
             [
              0.6666666666666666,
              "#ed7953"
             ],
             [
              0.7777777777777778,
              "#fb9f3a"
             ],
             [
              0.8888888888888888,
              "#fdca26"
             ],
             [
              1,
              "#f0f921"
             ]
            ],
            "type": "histogram2dcontour"
           }
          ],
          "mesh3d": [
           {
            "colorbar": {
             "outlinewidth": 0,
             "ticks": ""
            },
            "type": "mesh3d"
           }
          ],
          "parcoords": [
           {
            "line": {
             "colorbar": {
              "outlinewidth": 0,
              "ticks": ""
             }
            },
            "type": "parcoords"
           }
          ],
          "pie": [
           {
            "automargin": true,
            "type": "pie"
           }
          ],
          "scatter": [
           {
            "marker": {
             "colorbar": {
              "outlinewidth": 0,
              "ticks": ""
             }
            },
            "type": "scatter"
           }
          ],
          "scatter3d": [
           {
            "line": {
             "colorbar": {
              "outlinewidth": 0,
              "ticks": ""
             }
            },
            "marker": {
             "colorbar": {
              "outlinewidth": 0,
              "ticks": ""
             }
            },
            "type": "scatter3d"
           }
          ],
          "scattercarpet": [
           {
            "marker": {
             "colorbar": {
              "outlinewidth": 0,
              "ticks": ""
             }
            },
            "type": "scattercarpet"
           }
          ],
          "scattergeo": [
           {
            "marker": {
             "colorbar": {
              "outlinewidth": 0,
              "ticks": ""
             }
            },
            "type": "scattergeo"
           }
          ],
          "scattergl": [
           {
            "marker": {
             "colorbar": {
              "outlinewidth": 0,
              "ticks": ""
             }
            },
            "type": "scattergl"
           }
          ],
          "scattermapbox": [
           {
            "marker": {
             "colorbar": {
              "outlinewidth": 0,
              "ticks": ""
             }
            },
            "type": "scattermapbox"
           }
          ],
          "scatterpolar": [
           {
            "marker": {
             "colorbar": {
              "outlinewidth": 0,
              "ticks": ""
             }
            },
            "type": "scatterpolar"
           }
          ],
          "scatterpolargl": [
           {
            "marker": {
             "colorbar": {
              "outlinewidth": 0,
              "ticks": ""
             }
            },
            "type": "scatterpolargl"
           }
          ],
          "scatterternary": [
           {
            "marker": {
             "colorbar": {
              "outlinewidth": 0,
              "ticks": ""
             }
            },
            "type": "scatterternary"
           }
          ],
          "surface": [
           {
            "colorbar": {
             "outlinewidth": 0,
             "ticks": ""
            },
            "colorscale": [
             [
              0,
              "#0d0887"
             ],
             [
              0.1111111111111111,
              "#46039f"
             ],
             [
              0.2222222222222222,
              "#7201a8"
             ],
             [
              0.3333333333333333,
              "#9c179e"
             ],
             [
              0.4444444444444444,
              "#bd3786"
             ],
             [
              0.5555555555555556,
              "#d8576b"
             ],
             [
              0.6666666666666666,
              "#ed7953"
             ],
             [
              0.7777777777777778,
              "#fb9f3a"
             ],
             [
              0.8888888888888888,
              "#fdca26"
             ],
             [
              1,
              "#f0f921"
             ]
            ],
            "type": "surface"
           }
          ],
          "table": [
           {
            "cells": {
             "fill": {
              "color": "#EBF0F8"
             },
             "line": {
              "color": "white"
             }
            },
            "header": {
             "fill": {
              "color": "#C8D4E3"
             },
             "line": {
              "color": "white"
             }
            },
            "type": "table"
           }
          ]
         },
         "layout": {
          "annotationdefaults": {
           "arrowcolor": "#2a3f5f",
           "arrowhead": 0,
           "arrowwidth": 1
          },
          "autotypenumbers": "strict",
          "coloraxis": {
           "colorbar": {
            "outlinewidth": 0,
            "ticks": ""
           }
          },
          "colorscale": {
           "diverging": [
            [
             0,
             "#8e0152"
            ],
            [
             0.1,
             "#c51b7d"
            ],
            [
             0.2,
             "#de77ae"
            ],
            [
             0.3,
             "#f1b6da"
            ],
            [
             0.4,
             "#fde0ef"
            ],
            [
             0.5,
             "#f7f7f7"
            ],
            [
             0.6,
             "#e6f5d0"
            ],
            [
             0.7,
             "#b8e186"
            ],
            [
             0.8,
             "#7fbc41"
            ],
            [
             0.9,
             "#4d9221"
            ],
            [
             1,
             "#276419"
            ]
           ],
           "sequential": [
            [
             0,
             "#0d0887"
            ],
            [
             0.1111111111111111,
             "#46039f"
            ],
            [
             0.2222222222222222,
             "#7201a8"
            ],
            [
             0.3333333333333333,
             "#9c179e"
            ],
            [
             0.4444444444444444,
             "#bd3786"
            ],
            [
             0.5555555555555556,
             "#d8576b"
            ],
            [
             0.6666666666666666,
             "#ed7953"
            ],
            [
             0.7777777777777778,
             "#fb9f3a"
            ],
            [
             0.8888888888888888,
             "#fdca26"
            ],
            [
             1,
             "#f0f921"
            ]
           ],
           "sequentialminus": [
            [
             0,
             "#0d0887"
            ],
            [
             0.1111111111111111,
             "#46039f"
            ],
            [
             0.2222222222222222,
             "#7201a8"
            ],
            [
             0.3333333333333333,
             "#9c179e"
            ],
            [
             0.4444444444444444,
             "#bd3786"
            ],
            [
             0.5555555555555556,
             "#d8576b"
            ],
            [
             0.6666666666666666,
             "#ed7953"
            ],
            [
             0.7777777777777778,
             "#fb9f3a"
            ],
            [
             0.8888888888888888,
             "#fdca26"
            ],
            [
             1,
             "#f0f921"
            ]
           ]
          },
          "colorway": [
           "#636efa",
           "#EF553B",
           "#00cc96",
           "#ab63fa",
           "#FFA15A",
           "#19d3f3",
           "#FF6692",
           "#B6E880",
           "#FF97FF",
           "#FECB52"
          ],
          "font": {
           "color": "#2a3f5f"
          },
          "geo": {
           "bgcolor": "white",
           "lakecolor": "white",
           "landcolor": "#E5ECF6",
           "showlakes": true,
           "showland": true,
           "subunitcolor": "white"
          },
          "hoverlabel": {
           "align": "left"
          },
          "hovermode": "closest",
          "mapbox": {
           "style": "light"
          },
          "paper_bgcolor": "white",
          "plot_bgcolor": "#E5ECF6",
          "polar": {
           "angularaxis": {
            "gridcolor": "white",
            "linecolor": "white",
            "ticks": ""
           },
           "bgcolor": "#E5ECF6",
           "radialaxis": {
            "gridcolor": "white",
            "linecolor": "white",
            "ticks": ""
           }
          },
          "scene": {
           "xaxis": {
            "backgroundcolor": "#E5ECF6",
            "gridcolor": "white",
            "gridwidth": 2,
            "linecolor": "white",
            "showbackground": true,
            "ticks": "",
            "zerolinecolor": "white"
           },
           "yaxis": {
            "backgroundcolor": "#E5ECF6",
            "gridcolor": "white",
            "gridwidth": 2,
            "linecolor": "white",
            "showbackground": true,
            "ticks": "",
            "zerolinecolor": "white"
           },
           "zaxis": {
            "backgroundcolor": "#E5ECF6",
            "gridcolor": "white",
            "gridwidth": 2,
            "linecolor": "white",
            "showbackground": true,
            "ticks": "",
            "zerolinecolor": "white"
           }
          },
          "shapedefaults": {
           "line": {
            "color": "#2a3f5f"
           }
          },
          "ternary": {
           "aaxis": {
            "gridcolor": "white",
            "linecolor": "white",
            "ticks": ""
           },
           "baxis": {
            "gridcolor": "white",
            "linecolor": "white",
            "ticks": ""
           },
           "bgcolor": "#E5ECF6",
           "caxis": {
            "gridcolor": "white",
            "linecolor": "white",
            "ticks": ""
           }
          },
          "title": {
           "x": 0.05
          },
          "xaxis": {
           "automargin": true,
           "gridcolor": "white",
           "linecolor": "white",
           "ticks": "",
           "title": {
            "standoff": 15
           },
           "zerolinecolor": "white",
           "zerolinewidth": 2
          },
          "yaxis": {
           "automargin": true,
           "gridcolor": "white",
           "linecolor": "white",
           "ticks": "",
           "title": {
            "standoff": 15
           },
           "zerolinecolor": "white",
           "zerolinewidth": 2
          }
         }
        },
        "title": {
         "text": "Nasdaq industry count"
        }
       }
      }
     },
     "metadata": {},
     "output_type": "display_data"
    }
   ],
   "source": [
    "nasdaq_count = defaultdict(int)\n",
    "for i in range(len(df_nasdaq)):\n",
    "    industry = df_nasdaq.loc[i, 'Industry']\n",
    "    nasdaq_count[industry] += 1\n",
    "df = pd.DataFrame.from_dict(dict(nasdaq_count), orient='index').rename(columns={0:'Count'}).sort_values(by=['Count'], ascending=False)[:10]\n",
    "\n",
    "fig = go.Figure(data=go.Bar(\n",
    "    x = df.index,\n",
    "    y = df['Count'],\n",
    "))\n",
    "fig.update_layout(title='Nasdaq industry count')\n",
    "fig.show()"
   ]
  },
  {
   "cell_type": "code",
   "execution_count": 70,
   "id": "5fb1cdc6",
   "metadata": {},
   "outputs": [
    {
     "data": {
      "application/vnd.plotly.v1+json": {
       "config": {
        "plotlyServerURL": "https://plotly.com"
       },
       "data": [
        {
         "name": "MarketCap Sum",
         "offsetgroup": "1",
         "type": "bar",
         "x": [
          "소프트웨어 및 IT서비스",
          "반도체 및 반도체 장비",
          "자동차 및 자동차 부품",
          "컴퓨터, 전화 및 가전제품",
          "다양한 소매업",
          "생명과학 및 메디컬 리서치",
          "통신 서비스",
          "헬스케어 장비 및 용품",
          "호텔 및 엔터테인먼트",
          "제약"
         ],
         "y": [
          32310735141.181,
          29391977486.76,
          17898770104.27,
          10296324756.5,
          10228404658.7,
          6308345327.865,
          5841675427.400001,
          3440152110.188,
          3331383309.478,
          2947541297.934
         ],
         "yaxis": "y"
        },
        {
         "name": "Count",
         "offsetgroup": "2",
         "type": "bar",
         "x": [
          "소프트웨어 및 IT서비스",
          "반도체 및 반도체 장비",
          "자동차 및 자동차 부품",
          "컴퓨터, 전화 및 가전제품",
          "다양한 소매업",
          "생명과학 및 메디컬 리서치",
          "통신 서비스",
          "헬스케어 장비 및 용품",
          "호텔 및 엔터테인먼트",
          "제약"
         ],
         "y": [
          420,
          93,
          44,
          31,
          23,
          693,
          31,
          206,
          78,
          169
         ],
         "yaxis": "y2"
        }
       ],
       "layout": {
        "template": {
         "data": {
          "bar": [
           {
            "error_x": {
             "color": "#2a3f5f"
            },
            "error_y": {
             "color": "#2a3f5f"
            },
            "marker": {
             "line": {
              "color": "#E5ECF6",
              "width": 0.5
             },
             "pattern": {
              "fillmode": "overlay",
              "size": 10,
              "solidity": 0.2
             }
            },
            "type": "bar"
           }
          ],
          "barpolar": [
           {
            "marker": {
             "line": {
              "color": "#E5ECF6",
              "width": 0.5
             },
             "pattern": {
              "fillmode": "overlay",
              "size": 10,
              "solidity": 0.2
             }
            },
            "type": "barpolar"
           }
          ],
          "carpet": [
           {
            "aaxis": {
             "endlinecolor": "#2a3f5f",
             "gridcolor": "white",
             "linecolor": "white",
             "minorgridcolor": "white",
             "startlinecolor": "#2a3f5f"
            },
            "baxis": {
             "endlinecolor": "#2a3f5f",
             "gridcolor": "white",
             "linecolor": "white",
             "minorgridcolor": "white",
             "startlinecolor": "#2a3f5f"
            },
            "type": "carpet"
           }
          ],
          "choropleth": [
           {
            "colorbar": {
             "outlinewidth": 0,
             "ticks": ""
            },
            "type": "choropleth"
           }
          ],
          "contour": [
           {
            "colorbar": {
             "outlinewidth": 0,
             "ticks": ""
            },
            "colorscale": [
             [
              0,
              "#0d0887"
             ],
             [
              0.1111111111111111,
              "#46039f"
             ],
             [
              0.2222222222222222,
              "#7201a8"
             ],
             [
              0.3333333333333333,
              "#9c179e"
             ],
             [
              0.4444444444444444,
              "#bd3786"
             ],
             [
              0.5555555555555556,
              "#d8576b"
             ],
             [
              0.6666666666666666,
              "#ed7953"
             ],
             [
              0.7777777777777778,
              "#fb9f3a"
             ],
             [
              0.8888888888888888,
              "#fdca26"
             ],
             [
              1,
              "#f0f921"
             ]
            ],
            "type": "contour"
           }
          ],
          "contourcarpet": [
           {
            "colorbar": {
             "outlinewidth": 0,
             "ticks": ""
            },
            "type": "contourcarpet"
           }
          ],
          "heatmap": [
           {
            "colorbar": {
             "outlinewidth": 0,
             "ticks": ""
            },
            "colorscale": [
             [
              0,
              "#0d0887"
             ],
             [
              0.1111111111111111,
              "#46039f"
             ],
             [
              0.2222222222222222,
              "#7201a8"
             ],
             [
              0.3333333333333333,
              "#9c179e"
             ],
             [
              0.4444444444444444,
              "#bd3786"
             ],
             [
              0.5555555555555556,
              "#d8576b"
             ],
             [
              0.6666666666666666,
              "#ed7953"
             ],
             [
              0.7777777777777778,
              "#fb9f3a"
             ],
             [
              0.8888888888888888,
              "#fdca26"
             ],
             [
              1,
              "#f0f921"
             ]
            ],
            "type": "heatmap"
           }
          ],
          "heatmapgl": [
           {
            "colorbar": {
             "outlinewidth": 0,
             "ticks": ""
            },
            "colorscale": [
             [
              0,
              "#0d0887"
             ],
             [
              0.1111111111111111,
              "#46039f"
             ],
             [
              0.2222222222222222,
              "#7201a8"
             ],
             [
              0.3333333333333333,
              "#9c179e"
             ],
             [
              0.4444444444444444,
              "#bd3786"
             ],
             [
              0.5555555555555556,
              "#d8576b"
             ],
             [
              0.6666666666666666,
              "#ed7953"
             ],
             [
              0.7777777777777778,
              "#fb9f3a"
             ],
             [
              0.8888888888888888,
              "#fdca26"
             ],
             [
              1,
              "#f0f921"
             ]
            ],
            "type": "heatmapgl"
           }
          ],
          "histogram": [
           {
            "marker": {
             "pattern": {
              "fillmode": "overlay",
              "size": 10,
              "solidity": 0.2
             }
            },
            "type": "histogram"
           }
          ],
          "histogram2d": [
           {
            "colorbar": {
             "outlinewidth": 0,
             "ticks": ""
            },
            "colorscale": [
             [
              0,
              "#0d0887"
             ],
             [
              0.1111111111111111,
              "#46039f"
             ],
             [
              0.2222222222222222,
              "#7201a8"
             ],
             [
              0.3333333333333333,
              "#9c179e"
             ],
             [
              0.4444444444444444,
              "#bd3786"
             ],
             [
              0.5555555555555556,
              "#d8576b"
             ],
             [
              0.6666666666666666,
              "#ed7953"
             ],
             [
              0.7777777777777778,
              "#fb9f3a"
             ],
             [
              0.8888888888888888,
              "#fdca26"
             ],
             [
              1,
              "#f0f921"
             ]
            ],
            "type": "histogram2d"
           }
          ],
          "histogram2dcontour": [
           {
            "colorbar": {
             "outlinewidth": 0,
             "ticks": ""
            },
            "colorscale": [
             [
              0,
              "#0d0887"
             ],
             [
              0.1111111111111111,
              "#46039f"
             ],
             [
              0.2222222222222222,
              "#7201a8"
             ],
             [
              0.3333333333333333,
              "#9c179e"
             ],
             [
              0.4444444444444444,
              "#bd3786"
             ],
             [
              0.5555555555555556,
              "#d8576b"
             ],
             [
              0.6666666666666666,
              "#ed7953"
             ],
             [
              0.7777777777777778,
              "#fb9f3a"
             ],
             [
              0.8888888888888888,
              "#fdca26"
             ],
             [
              1,
              "#f0f921"
             ]
            ],
            "type": "histogram2dcontour"
           }
          ],
          "mesh3d": [
           {
            "colorbar": {
             "outlinewidth": 0,
             "ticks": ""
            },
            "type": "mesh3d"
           }
          ],
          "parcoords": [
           {
            "line": {
             "colorbar": {
              "outlinewidth": 0,
              "ticks": ""
             }
            },
            "type": "parcoords"
           }
          ],
          "pie": [
           {
            "automargin": true,
            "type": "pie"
           }
          ],
          "scatter": [
           {
            "marker": {
             "colorbar": {
              "outlinewidth": 0,
              "ticks": ""
             }
            },
            "type": "scatter"
           }
          ],
          "scatter3d": [
           {
            "line": {
             "colorbar": {
              "outlinewidth": 0,
              "ticks": ""
             }
            },
            "marker": {
             "colorbar": {
              "outlinewidth": 0,
              "ticks": ""
             }
            },
            "type": "scatter3d"
           }
          ],
          "scattercarpet": [
           {
            "marker": {
             "colorbar": {
              "outlinewidth": 0,
              "ticks": ""
             }
            },
            "type": "scattercarpet"
           }
          ],
          "scattergeo": [
           {
            "marker": {
             "colorbar": {
              "outlinewidth": 0,
              "ticks": ""
             }
            },
            "type": "scattergeo"
           }
          ],
          "scattergl": [
           {
            "marker": {
             "colorbar": {
              "outlinewidth": 0,
              "ticks": ""
             }
            },
            "type": "scattergl"
           }
          ],
          "scattermapbox": [
           {
            "marker": {
             "colorbar": {
              "outlinewidth": 0,
              "ticks": ""
             }
            },
            "type": "scattermapbox"
           }
          ],
          "scatterpolar": [
           {
            "marker": {
             "colorbar": {
              "outlinewidth": 0,
              "ticks": ""
             }
            },
            "type": "scatterpolar"
           }
          ],
          "scatterpolargl": [
           {
            "marker": {
             "colorbar": {
              "outlinewidth": 0,
              "ticks": ""
             }
            },
            "type": "scatterpolargl"
           }
          ],
          "scatterternary": [
           {
            "marker": {
             "colorbar": {
              "outlinewidth": 0,
              "ticks": ""
             }
            },
            "type": "scatterternary"
           }
          ],
          "surface": [
           {
            "colorbar": {
             "outlinewidth": 0,
             "ticks": ""
            },
            "colorscale": [
             [
              0,
              "#0d0887"
             ],
             [
              0.1111111111111111,
              "#46039f"
             ],
             [
              0.2222222222222222,
              "#7201a8"
             ],
             [
              0.3333333333333333,
              "#9c179e"
             ],
             [
              0.4444444444444444,
              "#bd3786"
             ],
             [
              0.5555555555555556,
              "#d8576b"
             ],
             [
              0.6666666666666666,
              "#ed7953"
             ],
             [
              0.7777777777777778,
              "#fb9f3a"
             ],
             [
              0.8888888888888888,
              "#fdca26"
             ],
             [
              1,
              "#f0f921"
             ]
            ],
            "type": "surface"
           }
          ],
          "table": [
           {
            "cells": {
             "fill": {
              "color": "#EBF0F8"
             },
             "line": {
              "color": "white"
             }
            },
            "header": {
             "fill": {
              "color": "#C8D4E3"
             },
             "line": {
              "color": "white"
             }
            },
            "type": "table"
           }
          ]
         },
         "layout": {
          "annotationdefaults": {
           "arrowcolor": "#2a3f5f",
           "arrowhead": 0,
           "arrowwidth": 1
          },
          "autotypenumbers": "strict",
          "coloraxis": {
           "colorbar": {
            "outlinewidth": 0,
            "ticks": ""
           }
          },
          "colorscale": {
           "diverging": [
            [
             0,
             "#8e0152"
            ],
            [
             0.1,
             "#c51b7d"
            ],
            [
             0.2,
             "#de77ae"
            ],
            [
             0.3,
             "#f1b6da"
            ],
            [
             0.4,
             "#fde0ef"
            ],
            [
             0.5,
             "#f7f7f7"
            ],
            [
             0.6,
             "#e6f5d0"
            ],
            [
             0.7,
             "#b8e186"
            ],
            [
             0.8,
             "#7fbc41"
            ],
            [
             0.9,
             "#4d9221"
            ],
            [
             1,
             "#276419"
            ]
           ],
           "sequential": [
            [
             0,
             "#0d0887"
            ],
            [
             0.1111111111111111,
             "#46039f"
            ],
            [
             0.2222222222222222,
             "#7201a8"
            ],
            [
             0.3333333333333333,
             "#9c179e"
            ],
            [
             0.4444444444444444,
             "#bd3786"
            ],
            [
             0.5555555555555556,
             "#d8576b"
            ],
            [
             0.6666666666666666,
             "#ed7953"
            ],
            [
             0.7777777777777778,
             "#fb9f3a"
            ],
            [
             0.8888888888888888,
             "#fdca26"
            ],
            [
             1,
             "#f0f921"
            ]
           ],
           "sequentialminus": [
            [
             0,
             "#0d0887"
            ],
            [
             0.1111111111111111,
             "#46039f"
            ],
            [
             0.2222222222222222,
             "#7201a8"
            ],
            [
             0.3333333333333333,
             "#9c179e"
            ],
            [
             0.4444444444444444,
             "#bd3786"
            ],
            [
             0.5555555555555556,
             "#d8576b"
            ],
            [
             0.6666666666666666,
             "#ed7953"
            ],
            [
             0.7777777777777778,
             "#fb9f3a"
            ],
            [
             0.8888888888888888,
             "#fdca26"
            ],
            [
             1,
             "#f0f921"
            ]
           ]
          },
          "colorway": [
           "#636efa",
           "#EF553B",
           "#00cc96",
           "#ab63fa",
           "#FFA15A",
           "#19d3f3",
           "#FF6692",
           "#B6E880",
           "#FF97FF",
           "#FECB52"
          ],
          "font": {
           "color": "#2a3f5f"
          },
          "geo": {
           "bgcolor": "white",
           "lakecolor": "white",
           "landcolor": "#E5ECF6",
           "showlakes": true,
           "showland": true,
           "subunitcolor": "white"
          },
          "hoverlabel": {
           "align": "left"
          },
          "hovermode": "closest",
          "mapbox": {
           "style": "light"
          },
          "paper_bgcolor": "white",
          "plot_bgcolor": "#E5ECF6",
          "polar": {
           "angularaxis": {
            "gridcolor": "white",
            "linecolor": "white",
            "ticks": ""
           },
           "bgcolor": "#E5ECF6",
           "radialaxis": {
            "gridcolor": "white",
            "linecolor": "white",
            "ticks": ""
           }
          },
          "scene": {
           "xaxis": {
            "backgroundcolor": "#E5ECF6",
            "gridcolor": "white",
            "gridwidth": 2,
            "linecolor": "white",
            "showbackground": true,
            "ticks": "",
            "zerolinecolor": "white"
           },
           "yaxis": {
            "backgroundcolor": "#E5ECF6",
            "gridcolor": "white",
            "gridwidth": 2,
            "linecolor": "white",
            "showbackground": true,
            "ticks": "",
            "zerolinecolor": "white"
           },
           "zaxis": {
            "backgroundcolor": "#E5ECF6",
            "gridcolor": "white",
            "gridwidth": 2,
            "linecolor": "white",
            "showbackground": true,
            "ticks": "",
            "zerolinecolor": "white"
           }
          },
          "shapedefaults": {
           "line": {
            "color": "#2a3f5f"
           }
          },
          "ternary": {
           "aaxis": {
            "gridcolor": "white",
            "linecolor": "white",
            "ticks": ""
           },
           "baxis": {
            "gridcolor": "white",
            "linecolor": "white",
            "ticks": ""
           },
           "bgcolor": "#E5ECF6",
           "caxis": {
            "gridcolor": "white",
            "linecolor": "white",
            "ticks": ""
           }
          },
          "title": {
           "x": 0.05
          },
          "xaxis": {
           "automargin": true,
           "gridcolor": "white",
           "linecolor": "white",
           "ticks": "",
           "title": {
            "standoff": 15
           },
           "zerolinecolor": "white",
           "zerolinewidth": 2
          },
          "yaxis": {
           "automargin": true,
           "gridcolor": "white",
           "linecolor": "white",
           "ticks": "",
           "title": {
            "standoff": 15
           },
           "zerolinecolor": "white",
           "zerolinewidth": 2
          }
         }
        },
        "yaxis": {
         "title": {
          "text": "MarketCap Sum Axis"
         }
        },
        "yaxis2": {
         "overlaying": "y",
         "side": "right",
         "title": {
          "text": "Count Axis"
         }
        }
       }
      }
     },
     "metadata": {},
     "output_type": "display_data"
    },
    {
     "name": "stdout",
     "output_type": "stream",
     "text": [
      "['소프트웨어 및 IT서비스', '반도체 및 반도체 장비', '자동차 및 자동차 부품', '컴퓨터, 전화 및 가전제품', '다양한 소매업', '생명과학 및 메디컬 리서치', '통신 서비스', '헬스케어 장비 및 용품', '호텔 및 엔터테인먼트', '제약']\n"
     ]
    }
   ],
   "source": [
    "df = pd.DataFrame(mc_nasdaq_df, columns=['Industry', 'MarketCap']).groupby('Industry').sum()\n",
    "df = df.sort_values(by=['MarketCap'], ascending=False)[:10]\n",
    "\n",
    "df2 = []\n",
    "for index in df.index:\n",
    "    df2.append([index, nasdaq_count[index]])\n",
    "df2 = pd.DataFrame(df2, columns=['Industry', 'Count']).set_index('Industry')\n",
    "\n",
    "fig = go.Figure(\n",
    "    data=[\n",
    "        go.Bar(name='MarketCap Sum', x = df.index, y = df['MarketCap'], yaxis='y', offsetgroup=1),\n",
    "        go.Bar(name='Count', x = df2.index, y = df2['Count'], yaxis='y2', offsetgroup=2)\n",
    "    ],\n",
    "    layout={\n",
    "        'yaxis': {'title': 'MarketCap Sum Axis'},\n",
    "        'yaxis2': {'title': 'Count Axis', 'overlaying': 'y', 'side': 'right'},\n",
    "    }\n",
    ")\n",
    "# fig.update_layout(title='MarketCap Sum')\n",
    "fig.show()\n",
    "\n",
    "top_industries = list(df.index)\n",
    "print(top_industries)"
   ]
  },
  {
   "cell_type": "code",
   "execution_count": 72,
   "id": "4e7963f0",
   "metadata": {},
   "outputs": [
    {
     "data": {
      "application/vnd.plotly.v1+json": {
       "config": {
        "plotlyServerURL": "https://plotly.com"
       },
       "data": [
        {
         "type": "bar",
         "x": [
          "다양한 소매업",
          "자동차 및 자동차 부품",
          "컴퓨터, 전화 및 가전제품",
          "복합 기업",
          "반도체 및 반도체 장비",
          "통신 서비스",
          "소프트웨어 및 IT서비스",
          "운송업",
          "음료",
          "전기 유틸리티"
         ],
         "y": [
          511420232.93500006,
          416250467.5411628,
          381345361.3518519,
          337992900,
          337838821.6868965,
          194722514.2466667,
          87326311.19238108,
          83783794.23066667,
          74206755.583875,
          60930871.77368421
         ]
        }
       ],
       "layout": {
        "template": {
         "data": {
          "bar": [
           {
            "error_x": {
             "color": "#2a3f5f"
            },
            "error_y": {
             "color": "#2a3f5f"
            },
            "marker": {
             "line": {
              "color": "#E5ECF6",
              "width": 0.5
             },
             "pattern": {
              "fillmode": "overlay",
              "size": 10,
              "solidity": 0.2
             }
            },
            "type": "bar"
           }
          ],
          "barpolar": [
           {
            "marker": {
             "line": {
              "color": "#E5ECF6",
              "width": 0.5
             },
             "pattern": {
              "fillmode": "overlay",
              "size": 10,
              "solidity": 0.2
             }
            },
            "type": "barpolar"
           }
          ],
          "carpet": [
           {
            "aaxis": {
             "endlinecolor": "#2a3f5f",
             "gridcolor": "white",
             "linecolor": "white",
             "minorgridcolor": "white",
             "startlinecolor": "#2a3f5f"
            },
            "baxis": {
             "endlinecolor": "#2a3f5f",
             "gridcolor": "white",
             "linecolor": "white",
             "minorgridcolor": "white",
             "startlinecolor": "#2a3f5f"
            },
            "type": "carpet"
           }
          ],
          "choropleth": [
           {
            "colorbar": {
             "outlinewidth": 0,
             "ticks": ""
            },
            "type": "choropleth"
           }
          ],
          "contour": [
           {
            "colorbar": {
             "outlinewidth": 0,
             "ticks": ""
            },
            "colorscale": [
             [
              0,
              "#0d0887"
             ],
             [
              0.1111111111111111,
              "#46039f"
             ],
             [
              0.2222222222222222,
              "#7201a8"
             ],
             [
              0.3333333333333333,
              "#9c179e"
             ],
             [
              0.4444444444444444,
              "#bd3786"
             ],
             [
              0.5555555555555556,
              "#d8576b"
             ],
             [
              0.6666666666666666,
              "#ed7953"
             ],
             [
              0.7777777777777778,
              "#fb9f3a"
             ],
             [
              0.8888888888888888,
              "#fdca26"
             ],
             [
              1,
              "#f0f921"
             ]
            ],
            "type": "contour"
           }
          ],
          "contourcarpet": [
           {
            "colorbar": {
             "outlinewidth": 0,
             "ticks": ""
            },
            "type": "contourcarpet"
           }
          ],
          "heatmap": [
           {
            "colorbar": {
             "outlinewidth": 0,
             "ticks": ""
            },
            "colorscale": [
             [
              0,
              "#0d0887"
             ],
             [
              0.1111111111111111,
              "#46039f"
             ],
             [
              0.2222222222222222,
              "#7201a8"
             ],
             [
              0.3333333333333333,
              "#9c179e"
             ],
             [
              0.4444444444444444,
              "#bd3786"
             ],
             [
              0.5555555555555556,
              "#d8576b"
             ],
             [
              0.6666666666666666,
              "#ed7953"
             ],
             [
              0.7777777777777778,
              "#fb9f3a"
             ],
             [
              0.8888888888888888,
              "#fdca26"
             ],
             [
              1,
              "#f0f921"
             ]
            ],
            "type": "heatmap"
           }
          ],
          "heatmapgl": [
           {
            "colorbar": {
             "outlinewidth": 0,
             "ticks": ""
            },
            "colorscale": [
             [
              0,
              "#0d0887"
             ],
             [
              0.1111111111111111,
              "#46039f"
             ],
             [
              0.2222222222222222,
              "#7201a8"
             ],
             [
              0.3333333333333333,
              "#9c179e"
             ],
             [
              0.4444444444444444,
              "#bd3786"
             ],
             [
              0.5555555555555556,
              "#d8576b"
             ],
             [
              0.6666666666666666,
              "#ed7953"
             ],
             [
              0.7777777777777778,
              "#fb9f3a"
             ],
             [
              0.8888888888888888,
              "#fdca26"
             ],
             [
              1,
              "#f0f921"
             ]
            ],
            "type": "heatmapgl"
           }
          ],
          "histogram": [
           {
            "marker": {
             "pattern": {
              "fillmode": "overlay",
              "size": 10,
              "solidity": 0.2
             }
            },
            "type": "histogram"
           }
          ],
          "histogram2d": [
           {
            "colorbar": {
             "outlinewidth": 0,
             "ticks": ""
            },
            "colorscale": [
             [
              0,
              "#0d0887"
             ],
             [
              0.1111111111111111,
              "#46039f"
             ],
             [
              0.2222222222222222,
              "#7201a8"
             ],
             [
              0.3333333333333333,
              "#9c179e"
             ],
             [
              0.4444444444444444,
              "#bd3786"
             ],
             [
              0.5555555555555556,
              "#d8576b"
             ],
             [
              0.6666666666666666,
              "#ed7953"
             ],
             [
              0.7777777777777778,
              "#fb9f3a"
             ],
             [
              0.8888888888888888,
              "#fdca26"
             ],
             [
              1,
              "#f0f921"
             ]
            ],
            "type": "histogram2d"
           }
          ],
          "histogram2dcontour": [
           {
            "colorbar": {
             "outlinewidth": 0,
             "ticks": ""
            },
            "colorscale": [
             [
              0,
              "#0d0887"
             ],
             [
              0.1111111111111111,
              "#46039f"
             ],
             [
              0.2222222222222222,
              "#7201a8"
             ],
             [
              0.3333333333333333,
              "#9c179e"
             ],
             [
              0.4444444444444444,
              "#bd3786"
             ],
             [
              0.5555555555555556,
              "#d8576b"
             ],
             [
              0.6666666666666666,
              "#ed7953"
             ],
             [
              0.7777777777777778,
              "#fb9f3a"
             ],
             [
              0.8888888888888888,
              "#fdca26"
             ],
             [
              1,
              "#f0f921"
             ]
            ],
            "type": "histogram2dcontour"
           }
          ],
          "mesh3d": [
           {
            "colorbar": {
             "outlinewidth": 0,
             "ticks": ""
            },
            "type": "mesh3d"
           }
          ],
          "parcoords": [
           {
            "line": {
             "colorbar": {
              "outlinewidth": 0,
              "ticks": ""
             }
            },
            "type": "parcoords"
           }
          ],
          "pie": [
           {
            "automargin": true,
            "type": "pie"
           }
          ],
          "scatter": [
           {
            "marker": {
             "colorbar": {
              "outlinewidth": 0,
              "ticks": ""
             }
            },
            "type": "scatter"
           }
          ],
          "scatter3d": [
           {
            "line": {
             "colorbar": {
              "outlinewidth": 0,
              "ticks": ""
             }
            },
            "marker": {
             "colorbar": {
              "outlinewidth": 0,
              "ticks": ""
             }
            },
            "type": "scatter3d"
           }
          ],
          "scattercarpet": [
           {
            "marker": {
             "colorbar": {
              "outlinewidth": 0,
              "ticks": ""
             }
            },
            "type": "scattercarpet"
           }
          ],
          "scattergeo": [
           {
            "marker": {
             "colorbar": {
              "outlinewidth": 0,
              "ticks": ""
             }
            },
            "type": "scattergeo"
           }
          ],
          "scattergl": [
           {
            "marker": {
             "colorbar": {
              "outlinewidth": 0,
              "ticks": ""
             }
            },
            "type": "scattergl"
           }
          ],
          "scattermapbox": [
           {
            "marker": {
             "colorbar": {
              "outlinewidth": 0,
              "ticks": ""
             }
            },
            "type": "scattermapbox"
           }
          ],
          "scatterpolar": [
           {
            "marker": {
             "colorbar": {
              "outlinewidth": 0,
              "ticks": ""
             }
            },
            "type": "scatterpolar"
           }
          ],
          "scatterpolargl": [
           {
            "marker": {
             "colorbar": {
              "outlinewidth": 0,
              "ticks": ""
             }
            },
            "type": "scatterpolargl"
           }
          ],
          "scatterternary": [
           {
            "marker": {
             "colorbar": {
              "outlinewidth": 0,
              "ticks": ""
             }
            },
            "type": "scatterternary"
           }
          ],
          "surface": [
           {
            "colorbar": {
             "outlinewidth": 0,
             "ticks": ""
            },
            "colorscale": [
             [
              0,
              "#0d0887"
             ],
             [
              0.1111111111111111,
              "#46039f"
             ],
             [
              0.2222222222222222,
              "#7201a8"
             ],
             [
              0.3333333333333333,
              "#9c179e"
             ],
             [
              0.4444444444444444,
              "#bd3786"
             ],
             [
              0.5555555555555556,
              "#d8576b"
             ],
             [
              0.6666666666666666,
              "#ed7953"
             ],
             [
              0.7777777777777778,
              "#fb9f3a"
             ],
             [
              0.8888888888888888,
              "#fdca26"
             ],
             [
              1,
              "#f0f921"
             ]
            ],
            "type": "surface"
           }
          ],
          "table": [
           {
            "cells": {
             "fill": {
              "color": "#EBF0F8"
             },
             "line": {
              "color": "white"
             }
            },
            "header": {
             "fill": {
              "color": "#C8D4E3"
             },
             "line": {
              "color": "white"
             }
            },
            "type": "table"
           }
          ]
         },
         "layout": {
          "annotationdefaults": {
           "arrowcolor": "#2a3f5f",
           "arrowhead": 0,
           "arrowwidth": 1
          },
          "autotypenumbers": "strict",
          "coloraxis": {
           "colorbar": {
            "outlinewidth": 0,
            "ticks": ""
           }
          },
          "colorscale": {
           "diverging": [
            [
             0,
             "#8e0152"
            ],
            [
             0.1,
             "#c51b7d"
            ],
            [
             0.2,
             "#de77ae"
            ],
            [
             0.3,
             "#f1b6da"
            ],
            [
             0.4,
             "#fde0ef"
            ],
            [
             0.5,
             "#f7f7f7"
            ],
            [
             0.6,
             "#e6f5d0"
            ],
            [
             0.7,
             "#b8e186"
            ],
            [
             0.8,
             "#7fbc41"
            ],
            [
             0.9,
             "#4d9221"
            ],
            [
             1,
             "#276419"
            ]
           ],
           "sequential": [
            [
             0,
             "#0d0887"
            ],
            [
             0.1111111111111111,
             "#46039f"
            ],
            [
             0.2222222222222222,
             "#7201a8"
            ],
            [
             0.3333333333333333,
             "#9c179e"
            ],
            [
             0.4444444444444444,
             "#bd3786"
            ],
            [
             0.5555555555555556,
             "#d8576b"
            ],
            [
             0.6666666666666666,
             "#ed7953"
            ],
            [
             0.7777777777777778,
             "#fb9f3a"
            ],
            [
             0.8888888888888888,
             "#fdca26"
            ],
            [
             1,
             "#f0f921"
            ]
           ],
           "sequentialminus": [
            [
             0,
             "#0d0887"
            ],
            [
             0.1111111111111111,
             "#46039f"
            ],
            [
             0.2222222222222222,
             "#7201a8"
            ],
            [
             0.3333333333333333,
             "#9c179e"
            ],
            [
             0.4444444444444444,
             "#bd3786"
            ],
            [
             0.5555555555555556,
             "#d8576b"
            ],
            [
             0.6666666666666666,
             "#ed7953"
            ],
            [
             0.7777777777777778,
             "#fb9f3a"
            ],
            [
             0.8888888888888888,
             "#fdca26"
            ],
            [
             1,
             "#f0f921"
            ]
           ]
          },
          "colorway": [
           "#636efa",
           "#EF553B",
           "#00cc96",
           "#ab63fa",
           "#FFA15A",
           "#19d3f3",
           "#FF6692",
           "#B6E880",
           "#FF97FF",
           "#FECB52"
          ],
          "font": {
           "color": "#2a3f5f"
          },
          "geo": {
           "bgcolor": "white",
           "lakecolor": "white",
           "landcolor": "#E5ECF6",
           "showlakes": true,
           "showland": true,
           "subunitcolor": "white"
          },
          "hoverlabel": {
           "align": "left"
          },
          "hovermode": "closest",
          "mapbox": {
           "style": "light"
          },
          "paper_bgcolor": "white",
          "plot_bgcolor": "#E5ECF6",
          "polar": {
           "angularaxis": {
            "gridcolor": "white",
            "linecolor": "white",
            "ticks": ""
           },
           "bgcolor": "#E5ECF6",
           "radialaxis": {
            "gridcolor": "white",
            "linecolor": "white",
            "ticks": ""
           }
          },
          "scene": {
           "xaxis": {
            "backgroundcolor": "#E5ECF6",
            "gridcolor": "white",
            "gridwidth": 2,
            "linecolor": "white",
            "showbackground": true,
            "ticks": "",
            "zerolinecolor": "white"
           },
           "yaxis": {
            "backgroundcolor": "#E5ECF6",
            "gridcolor": "white",
            "gridwidth": 2,
            "linecolor": "white",
            "showbackground": true,
            "ticks": "",
            "zerolinecolor": "white"
           },
           "zaxis": {
            "backgroundcolor": "#E5ECF6",
            "gridcolor": "white",
            "gridwidth": 2,
            "linecolor": "white",
            "showbackground": true,
            "ticks": "",
            "zerolinecolor": "white"
           }
          },
          "shapedefaults": {
           "line": {
            "color": "#2a3f5f"
           }
          },
          "ternary": {
           "aaxis": {
            "gridcolor": "white",
            "linecolor": "white",
            "ticks": ""
           },
           "baxis": {
            "gridcolor": "white",
            "linecolor": "white",
            "ticks": ""
           },
           "bgcolor": "#E5ECF6",
           "caxis": {
            "gridcolor": "white",
            "linecolor": "white",
            "ticks": ""
           }
          },
          "title": {
           "x": 0.05
          },
          "xaxis": {
           "automargin": true,
           "gridcolor": "white",
           "linecolor": "white",
           "ticks": "",
           "title": {
            "standoff": 15
           },
           "zerolinecolor": "white",
           "zerolinewidth": 2
          },
          "yaxis": {
           "automargin": true,
           "gridcolor": "white",
           "linecolor": "white",
           "ticks": "",
           "title": {
            "standoff": 15
           },
           "zerolinecolor": "white",
           "zerolinewidth": 2
          }
         }
        },
        "title": {
         "text": "MarketCap Mean"
        }
       }
      }
     },
     "metadata": {},
     "output_type": "display_data"
    },
    {
     "name": "stdout",
     "output_type": "stream",
     "text": [
      "['호텔 및 엔터테인먼트', '다양한 소매업', '생명과학 및 메디컬 리서치', '컴퓨터, 전화 및 가전제품', '제약', '운송업', '통신 서비스', '반도체 및 반도체 장비', '자동차 및 자동차 부품', '음료', '복합 기업', '소프트웨어 및 IT서비스', '헬스케어 장비 및 용품', '전기 유틸리티']\n"
     ]
    }
   ],
   "source": [
    "df = (\n",
    "    pd.DataFrame(mc_nasdaq_df, columns=[\"Industry\", \"MarketCap\"])\n",
    "    .groupby(\"Industry\")\n",
    "    .mean()\n",
    ")\n",
    "df = df.sort_values(by=[\"MarketCap\"], ascending=False)[:10]\n",
    "\n",
    "fig = go.Figure(\n",
    "    data=go.Bar(\n",
    "        x=df.index,\n",
    "        y=df[\"MarketCap\"],\n",
    "    )\n",
    ")\n",
    "fig.update_layout(title=\"MarketCap Mean\")\n",
    "fig.show()\n",
    "\n",
    "top_industries.extend(list(df.index))\n",
    "top_industries = list(set(top_industries))\n"
   ]
  },
  {
   "cell_type": "code",
   "execution_count": 75,
   "id": "18019a26",
   "metadata": {},
   "outputs": [
    {
     "data": {
      "application/vnd.jupyter.widget-view+json": {
       "model_id": "282604806d6b490bb06a00f4cf03fa5e",
       "version_major": 2,
       "version_minor": 0
      },
      "text/plain": [
       "  0%|          | 0/4634 [00:00<?, ?it/s]"
      ]
     },
     "metadata": {},
     "output_type": "display_data"
    },
    {
     "name": "stdout",
     "output_type": "stream",
     "text": [
      "META failed.\n",
      "EQIX failed.\n",
      "ABNB failed.\n",
      "PSNY failed.\n",
      "PPD failed.\n",
      "CREE failed.\n",
      "PBCT failed.\n",
      "MSPR failed.\n",
      "AZTA failed.\n",
      "OPCH failed.\n",
      "PGY failed.\n",
      "PFHC failed.\n",
      "SRNG failed.\n",
      "TLND failed.\n",
      "ALVO failed.\n",
      "SRNGU failed.\n",
      "VRTU failed.\n",
      "EIGI failed.\n",
      "OMP failed.\n",
      "DSGR failed.\n",
      "IONR failed.\n",
      "TOP failed.\n",
      "ALTA failed.\n",
      "CLCT failed.\n",
      "TNT failed.\n",
      "CMLT failed.\n",
      "WIFI failed.\n",
      "BOWX failed.\n",
      "SYM failed.\n",
      "BPYPM failed.\n",
      "DCRC failed.\n",
      "PACWP failed.\n",
      "CMLTU failed.\n",
      "MAAC failed.\n",
      "HOL failed.\n",
      "INAQU failed.\n",
      "FCBC failed.\n",
      "INTR failed.\n",
      "BOWXU failed.\n",
      "DCRCU failed.\n",
      "MSON failed.\n",
      "GIG failed.\n",
      "PRE failed.\n",
      "PPGH failed.\n",
      "MDCA failed.\n",
      "SGHT failed.\n",
      "HEC failed.\n",
      "MAACU failed.\n",
      "SVACU failed.\n",
      "ACGLN failed.\n",
      "HCNE failed.\n",
      "SIER failed.\n",
      "TDACU failed.\n",
      "PPGHU failed.\n",
      "BGXX failed.\n",
      "DGNS failed.\n",
      "LACQU failed.\n",
      "KSMT failed.\n",
      "IVCA failed.\n",
      "FIII failed.\n",
      "EGIO failed.\n",
      "LSAK failed.\n",
      "GSUN failed.\n",
      "SVOK failed.\n",
      "TLC failed.\n",
      "PLAO failed.\n",
      "GXGX failed.\n",
      "CRSA failed.\n",
      "DCRB failed.\n",
      "TMTS failed.\n",
      "HUDI failed.\n",
      "PFBI failed.\n",
      "PBCTP failed.\n",
      "IVCAU failed.\n",
      "BOCH failed.\n",
      "BTMD failed.\n",
      "CRSAU failed.\n",
      "SVOKU failed.\n",
      "GWAC failed.\n",
      "STWO failed.\n",
      "PEPG failed.\n",
      "AHPAU failed.\n",
      "PANL failed.\n",
      "SNCE failed.\n",
      "DTRTU failed.\n",
      "CFFS failed.\n",
      "PLAOU failed.\n",
      "CITEU failed.\n",
      "MPRAU failed.\n",
      "RENEU failed.\n",
      "SGAM failed.\n",
      "TMTSU failed.\n",
      "AVEO failed.\n",
      "ENVI failed.\n",
      "ACAC failed.\n",
      "JSM failed.\n",
      "LATNU failed.\n",
      "AFRI failed.\n",
      "GBBK failed.\n",
      "GWACU failed.\n",
      "KSI failed.\n",
      "CDAQU failed.\n",
      "ASCBU failed.\n",
      "ASCB failed.\n",
      "SKGRU failed.\n",
      "PKOH failed.\n",
      "ACKIT failed.\n",
      "IXHL failed.\n",
      "FRGI failed.\n",
      "OMGA failed.\n",
      "AMHC failed.\n",
      "GLSPT failed.\n",
      "ENVIU failed.\n",
      "TDAC failed.\n",
      "LATN failed.\n",
      "SVBI failed.\n",
      "LYT failed.\n",
      "NUBI failed.\n",
      "TRIT failed.\n",
      "HNVR failed.\n",
      "MSSAU failed.\n",
      "ACKIU failed.\n",
      "CAHC failed.\n",
      "MSSA failed.\n",
      "AFAR failed.\n",
      "FFNW failed.\n",
      "BCAN failed.\n",
      "AHAC failed.\n",
      "BIOR failed.\n",
      "CAHCU failed.\n",
      "HJLI failed.\n",
      "YOTAU failed.\n",
      "CHEAU failed.\n",
      "CHEA failed.\n",
      "AFARU failed.\n",
      "VMAC failed.\n",
      "RVLP failed.\n",
      "RILYM failed.\n",
      "BPOPM failed.\n",
      "RMRM failed.\n",
      "DECA failed.\n",
      "KAL failed.\n",
      "HOVNP failed.\n",
      "ARPO failed.\n",
      "VMACU failed.\n",
      "CLRC failed.\n",
      "FLFVU failed.\n",
      "MAGS failed.\n",
      "MCACU failed.\n",
      "PEV failed.\n",
      "FVE failed.\n",
      "DECAU failed.\n",
      "LACQ failed.\n",
      "ACACU failed.\n",
      "SNTI failed.\n",
      "LIVK failed.\n",
      "MCAD failed.\n",
      "IPX failed.\n",
      "AIMAU failed.\n",
      "AIMBU failed.\n",
      "CLRCU failed.\n",
      "NYMTP failed.\n",
      "NAAS failed.\n",
      "MCADU failed.\n",
      "PNACU failed.\n",
      "VEDU failed.\n",
      "OXLCN failed.\n",
      "TRMT failed.\n",
      "SAI failed.\n",
      "BPOPN failed.\n",
      "CMRA failed.\n",
      "BNRG failed.\n",
      "MYT failed.\n",
      "OKYO failed.\n",
      "SBIG failed.\n",
      "TYDE failed.\n",
      "EARS failed.\n",
      "ACXP failed.\n",
      "MOSY failed.\n",
      "AZRX failed.\n",
      "EQOS failed.\n",
      "BANFP failed.\n",
      "ASNS failed.\n",
      "LANDP failed.\n",
      "YOTA failed.\n",
      "LEVLP failed.\n",
      "MICS failed.\n",
      "MLND failed.\n",
      "CNXA failed.\n",
      "MKTYP failed.\n",
      "MTSL failed.\n",
      "HSCS failed.\n",
      "GIPRU failed.\n",
      "SASI failed.\n",
      "SVRE failed.\n",
      "APOP failed.\n",
      "ASRVP failed.\n",
      "FRGT failed.\n",
      "EDBL failed.\n",
      "MCADR failed.\n",
      "AGBAR failed.\n",
      "BHFAL failed.\n",
      "BRLIR failed.\n",
      "COWNL failed.\n",
      "ESSCR failed.\n",
      "MAXNV failed.\n",
      "SPWRV failed.\n",
      "MCAC failed.\n",
      "MCACR failed.\n",
      "SPEL failed.\n",
      "BENER failed.\n",
      "VTAQR failed.\n",
      "RILYK failed.\n",
      "VENAR failed.\n",
      "GBRGR failed.\n",
      "MBTCR failed.\n",
      "VISN failed.\n",
      "HROWL failed.\n",
      "VMEOV failed.\n",
      "SVNIU failed.\n",
      "MPACR failed.\n",
      "MCAER failed.\n",
      "SNCRL failed.\n",
      "METCL failed.\n",
      "SPKAR failed.\n",
      "BSGAR failed.\n",
      "MCAFR failed.\n",
      "GPCOR failed.\n",
      "CLAQR failed.\n",
      "RILYZ failed.\n",
      "IMAQR failed.\n",
      "GGGVR failed.\n",
      "UKWIU failed.\n",
      "DYCU failed.\n",
      "CLOER failed.\n",
      "PAFOR failed.\n",
      "NOVVR failed.\n",
      "PPHPR failed.\n",
      "WINVR failed.\n",
      "GREEL failed.\n",
      "BNIXR failed.\n",
      "BMAQR failed.\n",
      "FOSLL failed.\n",
      "HHGCR failed.\n",
      "ARBKL failed.\n",
      "ATLCL failed.\n",
      "RILYG failed.\n",
      "JWACR failed.\n",
      "BLEUR failed.\n",
      "FXCOR failed.\n",
      "FEXDR failed.\n",
      "ALSAR failed.\n",
      "CEGVV failed.\n",
      "KACLR failed.\n",
      "SMSA failed.\n",
      "IGTAR failed.\n",
      "NVACR failed.\n",
      "GFGDR failed.\n",
      "SUNFU failed.\n",
      "RDTXU failed.\n",
      "LVOPP failed.\n",
      "JUNS failed.\n",
      "RHDM failed.\n",
      "AIBBR failed.\n",
      "BRACR failed.\n",
      "KYCHR failed.\n",
      "CSLMR failed.\n",
      "BWAQR failed.\n",
      "ASCAR failed.\n",
      "ATAKR failed.\n",
      "ACAXR failed.\n",
      "JGGCR failed.\n",
      "ASCBR failed.\n",
      "MSSAR failed.\n",
      "CLRCR failed.\n",
      "BLACU failed.\n",
      "ASPPU failed.\n",
      "EMCGU failed.\n",
      "GBBKR failed.\n",
      "ZTOPU failed.\n",
      "MOB failed.\n",
      "RENE failed.\n",
      "YOTAR failed.\n"
     ]
    },
    {
     "ename": "ValueError",
     "evalue": "0 columns passed, passed data had 4 columns",
     "output_type": "error",
     "traceback": [
      "\u001b[0;31m---------------------------------------------------------------------------\u001b[0m",
      "\u001b[0;31mAssertionError\u001b[0m                            Traceback (most recent call last)",
      "File \u001b[0;32m~/opt/anaconda3/envs/jupy/lib/python3.9/site-packages/pandas/core/internals/construction.py:982\u001b[0m, in \u001b[0;36m_finalize_columns_and_data\u001b[0;34m(content, columns, dtype)\u001b[0m\n\u001b[1;32m    981\u001b[0m \u001b[39mtry\u001b[39;00m:\n\u001b[0;32m--> 982\u001b[0m     columns \u001b[39m=\u001b[39m _validate_or_indexify_columns(contents, columns)\n\u001b[1;32m    983\u001b[0m \u001b[39mexcept\u001b[39;00m \u001b[39mAssertionError\u001b[39;00m \u001b[39mas\u001b[39;00m err:\n\u001b[1;32m    984\u001b[0m     \u001b[39m# GH#26429 do not raise user-facing AssertionError\u001b[39;00m\n",
      "File \u001b[0;32m~/opt/anaconda3/envs/jupy/lib/python3.9/site-packages/pandas/core/internals/construction.py:1030\u001b[0m, in \u001b[0;36m_validate_or_indexify_columns\u001b[0;34m(content, columns)\u001b[0m\n\u001b[1;32m   1028\u001b[0m \u001b[39mif\u001b[39;00m \u001b[39mnot\u001b[39;00m is_mi_list \u001b[39mand\u001b[39;00m \u001b[39mlen\u001b[39m(columns) \u001b[39m!=\u001b[39m \u001b[39mlen\u001b[39m(content):  \u001b[39m# pragma: no cover\u001b[39;00m\n\u001b[1;32m   1029\u001b[0m     \u001b[39m# caller's responsibility to check for this...\u001b[39;00m\n\u001b[0;32m-> 1030\u001b[0m     \u001b[39mraise\u001b[39;00m \u001b[39mAssertionError\u001b[39;00m(\n\u001b[1;32m   1031\u001b[0m         \u001b[39mf\u001b[39m\u001b[39m\"\u001b[39m\u001b[39m{\u001b[39;00m\u001b[39mlen\u001b[39m(columns)\u001b[39m}\u001b[39;00m\u001b[39m columns passed, passed data had \u001b[39m\u001b[39m\"\u001b[39m\n\u001b[1;32m   1032\u001b[0m         \u001b[39mf\u001b[39m\u001b[39m\"\u001b[39m\u001b[39m{\u001b[39;00m\u001b[39mlen\u001b[39m(content)\u001b[39m}\u001b[39;00m\u001b[39m columns\u001b[39m\u001b[39m\"\u001b[39m\n\u001b[1;32m   1033\u001b[0m     )\n\u001b[1;32m   1034\u001b[0m \u001b[39melif\u001b[39;00m is_mi_list:\n\u001b[1;32m   1035\u001b[0m \n\u001b[1;32m   1036\u001b[0m     \u001b[39m# check if nested list column, length of each sub-list should be equal\u001b[39;00m\n",
      "\u001b[0;31mAssertionError\u001b[0m: 0 columns passed, passed data had 4 columns",
      "\nThe above exception was the direct cause of the following exception:\n",
      "\u001b[0;31mValueError\u001b[0m                                Traceback (most recent call last)",
      "\u001b[1;32m/Users/CUop/Workspace/market/scrapper.ipynb Cell 17'\u001b[0m in \u001b[0;36m<cell line: 25>\u001b[0;34m()\u001b[0m\n\u001b[1;32m     <a href='vscode-notebook-cell:/Users/CUop/Workspace/market/scrapper.ipynb#ch0000015?line=20'>21</a>\u001b[0m         \u001b[39mcontinue\u001b[39;00m\n\u001b[1;32m     <a href='vscode-notebook-cell:/Users/CUop/Workspace/market/scrapper.ipynb#ch0000015?line=22'>23</a>\u001b[0m     fundamentals\u001b[39m.\u001b[39mappend([industry, profitMargins, grossProfits, totalRevenue])\n\u001b[0;32m---> <a href='vscode-notebook-cell:/Users/CUop/Workspace/market/scrapper.ipynb#ch0000015?line=24'>25</a>\u001b[0m fund_df \u001b[39m=\u001b[39m pd\u001b[39m.\u001b[39;49mDataFrame(fundamentals, columns\u001b[39m=\u001b[39;49m[])\n\u001b[1;32m     <a href='vscode-notebook-cell:/Users/CUop/Workspace/market/scrapper.ipynb#ch0000015?line=25'>26</a>\u001b[0m fund_df\u001b[39m.\u001b[39mto_csv(\u001b[39m'\u001b[39m\u001b[39m./data/nasdaq_fund.csv\u001b[39m\u001b[39m'\u001b[39m)\n",
      "File \u001b[0;32m~/opt/anaconda3/envs/jupy/lib/python3.9/site-packages/pandas/core/frame.py:721\u001b[0m, in \u001b[0;36mDataFrame.__init__\u001b[0;34m(self, data, index, columns, dtype, copy)\u001b[0m\n\u001b[1;32m    716\u001b[0m     \u001b[39mif\u001b[39;00m columns \u001b[39mis\u001b[39;00m \u001b[39mnot\u001b[39;00m \u001b[39mNone\u001b[39;00m:\n\u001b[1;32m    717\u001b[0m         \u001b[39m# error: Argument 1 to \"ensure_index\" has incompatible type\u001b[39;00m\n\u001b[1;32m    718\u001b[0m         \u001b[39m# \"Collection[Any]\"; expected \"Union[Union[Union[ExtensionArray,\u001b[39;00m\n\u001b[1;32m    719\u001b[0m         \u001b[39m# ndarray], Index, Series], Sequence[Any]]\"\u001b[39;00m\n\u001b[1;32m    720\u001b[0m         columns \u001b[39m=\u001b[39m ensure_index(columns)  \u001b[39m# type: ignore[arg-type]\u001b[39;00m\n\u001b[0;32m--> 721\u001b[0m     arrays, columns, index \u001b[39m=\u001b[39m nested_data_to_arrays(\n\u001b[1;32m    722\u001b[0m         \u001b[39m# error: Argument 3 to \"nested_data_to_arrays\" has incompatible\u001b[39;49;00m\n\u001b[1;32m    723\u001b[0m         \u001b[39m# type \"Optional[Collection[Any]]\"; expected \"Optional[Index]\"\u001b[39;49;00m\n\u001b[1;32m    724\u001b[0m         data,\n\u001b[1;32m    725\u001b[0m         columns,\n\u001b[1;32m    726\u001b[0m         index,  \u001b[39m# type: ignore[arg-type]\u001b[39;49;00m\n\u001b[1;32m    727\u001b[0m         dtype,\n\u001b[1;32m    728\u001b[0m     )\n\u001b[1;32m    729\u001b[0m     mgr \u001b[39m=\u001b[39m arrays_to_mgr(\n\u001b[1;32m    730\u001b[0m         arrays,\n\u001b[1;32m    731\u001b[0m         columns,\n\u001b[0;32m   (...)\u001b[0m\n\u001b[1;32m    734\u001b[0m         typ\u001b[39m=\u001b[39mmanager,\n\u001b[1;32m    735\u001b[0m     )\n\u001b[1;32m    736\u001b[0m \u001b[39melse\u001b[39;00m:\n",
      "File \u001b[0;32m~/opt/anaconda3/envs/jupy/lib/python3.9/site-packages/pandas/core/internals/construction.py:519\u001b[0m, in \u001b[0;36mnested_data_to_arrays\u001b[0;34m(data, columns, index, dtype)\u001b[0m\n\u001b[1;32m    516\u001b[0m \u001b[39mif\u001b[39;00m is_named_tuple(data[\u001b[39m0\u001b[39m]) \u001b[39mand\u001b[39;00m columns \u001b[39mis\u001b[39;00m \u001b[39mNone\u001b[39;00m:\n\u001b[1;32m    517\u001b[0m     columns \u001b[39m=\u001b[39m ensure_index(data[\u001b[39m0\u001b[39m]\u001b[39m.\u001b[39m_fields)\n\u001b[0;32m--> 519\u001b[0m arrays, columns \u001b[39m=\u001b[39m to_arrays(data, columns, dtype\u001b[39m=\u001b[39;49mdtype)\n\u001b[1;32m    520\u001b[0m columns \u001b[39m=\u001b[39m ensure_index(columns)\n\u001b[1;32m    522\u001b[0m \u001b[39mif\u001b[39;00m index \u001b[39mis\u001b[39;00m \u001b[39mNone\u001b[39;00m:\n",
      "File \u001b[0;32m~/opt/anaconda3/envs/jupy/lib/python3.9/site-packages/pandas/core/internals/construction.py:883\u001b[0m, in \u001b[0;36mto_arrays\u001b[0;34m(data, columns, dtype)\u001b[0m\n\u001b[1;32m    880\u001b[0m     data \u001b[39m=\u001b[39m [\u001b[39mtuple\u001b[39m(x) \u001b[39mfor\u001b[39;00m x \u001b[39min\u001b[39;00m data]\n\u001b[1;32m    881\u001b[0m     arr \u001b[39m=\u001b[39m _list_to_arrays(data)\n\u001b[0;32m--> 883\u001b[0m content, columns \u001b[39m=\u001b[39m _finalize_columns_and_data(arr, columns, dtype)\n\u001b[1;32m    884\u001b[0m \u001b[39mreturn\u001b[39;00m content, columns\n",
      "File \u001b[0;32m~/opt/anaconda3/envs/jupy/lib/python3.9/site-packages/pandas/core/internals/construction.py:985\u001b[0m, in \u001b[0;36m_finalize_columns_and_data\u001b[0;34m(content, columns, dtype)\u001b[0m\n\u001b[1;32m    982\u001b[0m     columns \u001b[39m=\u001b[39m _validate_or_indexify_columns(contents, columns)\n\u001b[1;32m    983\u001b[0m \u001b[39mexcept\u001b[39;00m \u001b[39mAssertionError\u001b[39;00m \u001b[39mas\u001b[39;00m err:\n\u001b[1;32m    984\u001b[0m     \u001b[39m# GH#26429 do not raise user-facing AssertionError\u001b[39;00m\n\u001b[0;32m--> 985\u001b[0m     \u001b[39mraise\u001b[39;00m \u001b[39mValueError\u001b[39;00m(err) \u001b[39mfrom\u001b[39;00m \u001b[39merr\u001b[39;00m\n\u001b[1;32m    987\u001b[0m \u001b[39mif\u001b[39;00m \u001b[39mlen\u001b[39m(contents) \u001b[39mand\u001b[39;00m contents[\u001b[39m0\u001b[39m]\u001b[39m.\u001b[39mdtype \u001b[39m==\u001b[39m np\u001b[39m.\u001b[39mobject_:\n\u001b[1;32m    988\u001b[0m     contents \u001b[39m=\u001b[39m _convert_object_array(contents, dtype\u001b[39m=\u001b[39mdtype)\n",
      "\u001b[0;31mValueError\u001b[0m: 0 columns passed, passed data had 4 columns"
     ]
    }
   ],
   "source": [
    "from yfinance.utils import get_json\n",
    "\n",
    "fundamentals = []\n",
    "for i in tqdm(range(len(df_nasdaq))):\n",
    "    symbol = df_nasdaq.loc[i, \"Symbol\"]\n",
    "    industry = df_nasdaq.loc[i, \"Industry\"]\n",
    "\n",
    "    try:\n",
    "        fundamental = get_json(\"https://finance.yahoo.com/quote/\" + symbol)[\"financialData\"]\n",
    "        profitMargins = fundamental[\"profitMargins\"]\n",
    "        grossProfits = fundamental[\"grossProfits\"]\n",
    "        totalRevenue = fundamental[\"totalRevenue\"]\n",
    "    except:\n",
    "        print(symbol, \"failed.\")\n",
    "        continue\n",
    "\n",
    "    fundamentals.append([industry, profitMargins, grossProfits, totalRevenue])\n",
    "\n",
    "fund_df = pd.DataFrame(fundamentals, columns=[])\n",
    "fund_df.to_csv(\"./data/nasdaq_fund.csv\")\n"
   ]
  },
  {
   "cell_type": "code",
   "execution_count": 79,
   "id": "28b8d24e",
   "metadata": {},
   "outputs": [],
   "source": [
    "df = pd.DataFrame(fundamentals, columns=['Industry', 'ProfitMargins', 'GrossProfits', 'TotalRevenue'])\n",
    "df.to_csv('./data/nasdaq_profit.csv')"
   ]
  },
  {
   "cell_type": "code",
   "execution_count": null,
   "id": "872caea5",
   "metadata": {},
   "outputs": [],
   "source": []
  }
 ],
 "metadata": {
  "kernelspec": {
   "display_name": "Python 3.9.12 ('jupy')",
   "language": "python",
   "name": "python3"
  },
  "language_info": {
   "codemirror_mode": {
    "name": "ipython",
    "version": 3
   },
   "file_extension": ".py",
   "mimetype": "text/x-python",
   "name": "python",
   "nbconvert_exporter": "python",
   "pygments_lexer": "ipython3",
   "version": "3.9.12"
  },
  "vscode": {
   "interpreter": {
    "hash": "4f2c90995bf61f046707788a0b73ac4bd8c7fa3f699490437d16f94fef7b744e"
   }
  }
 },
 "nbformat": 4,
 "nbformat_minor": 5
}
